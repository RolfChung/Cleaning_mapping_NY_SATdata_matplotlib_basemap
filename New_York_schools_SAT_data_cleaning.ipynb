{
 "cells": [
  {
   "cell_type": "markdown",
   "metadata": {},
   "source": [
    "### Summary\n",
    "\n",
    "The overall goal is concerned with determining demographic factors that correlate with SAT score.\n",
    "\n",
    "The main data frame is the SAT Results data set. It is kind of the response or dependent data frame. The goal is to detect correlations or make predictions of SAT results using the demographic data sets like class size, school demographics, graduation results and so on.\n",
    "\n",
    "Two different methods are used to import the data files.\n",
    "Using an API to import the data as json-files. \n",
    "Reading in files from directory using glob and store theses in a dictionary.\n",
    "\n",
    "The relationships between the different  data sets can easier be investigated by merging these into one data frame.\n",
    "For this purpose different steps of data preprocessing must be taken.\n",
    "For example a unique identifier (primary key) must be created, which allows to join the data sets.\n",
    "\n",
    "Additional research question:\n",
    "\n",
    "New York City has a significant immigrant population and is very diverse, so comparing demographic factors such as race, income, and gender with SAT scores is a good way to determine whether the SAT is a fair test. For example, if certain racial groups consistently perform better on the SAT, we would have some evidence that the SAT is unfair."
   ]
  },
  {
   "cell_type": "code",
   "execution_count": 1,
   "metadata": {},
   "outputs": [],
   "source": [
    "#ls"
   ]
  },
  {
   "cell_type": "markdown",
   "metadata": {},
   "source": [
    "pwd"
   ]
  },
  {
   "cell_type": "code",
   "execution_count": 2,
   "metadata": {},
   "outputs": [
    {
     "name": "stdout",
     "output_type": "stream",
     "text": [
      "C:\\Users\\gamarandor\n"
     ]
    }
   ],
   "source": [
    "%cd C:\\Users\\gamarandor\\"
   ]
  },
  {
   "cell_type": "code",
   "execution_count": 3,
   "metadata": {},
   "outputs": [
    {
     "data": {
      "text/plain": [
       "'C:\\\\Users\\\\gamarandor'"
      ]
     },
     "execution_count": 3,
     "metadata": {},
     "output_type": "execute_result"
    }
   ],
   "source": [
    "import os\n",
    "os.getcwd()"
   ]
  },
  {
   "cell_type": "markdown",
   "metadata": {},
   "source": [
    "#### Import packages"
   ]
  },
  {
   "cell_type": "code",
   "execution_count": 4,
   "metadata": {},
   "outputs": [],
   "source": [
    "import pandas as pd\n",
    "import json\n",
    "import requests\n",
    "import re\n",
    "import glob\n",
    "import matplotlib.pyplot as plt\n",
    "from mpl_toolkits.basemap import Basemap\n",
    "import seaborn as sns"
   ]
  },
  {
   "cell_type": "markdown",
   "metadata": {},
   "source": [
    "#### Import data sets"
   ]
  },
  {
   "cell_type": "markdown",
   "metadata": {},
   "source": [
    "#### Import data set 1: 2012 SAT Results - for New York City\n",
    "\n",
    "<p>\n",
    "The most recent school level results for New York City on the SAT. Results are available at the school level for the graduating seniors of 2012. \n",
    "Records contain 2012 College-bound seniors mean SAT scores taken during SY 2012.\n",
    "</p>\n",
    "<p>\n",
    "<a href=\"https://data.cityofnewyork.us/Education/2012-SAT-Results/f9bf-2cp4/data\">New York City Open Data</a>\n",
    "</p>\n",
    "<p>\n",
    "The data set is read in dynamically using the SODA API with Json and stored finally in a pandas data frame.\n",
    "</p>"
   ]
  },
  {
   "cell_type": "code",
   "execution_count": 5,
   "metadata": {},
   "outputs": [
    {
     "name": "stdout",
     "output_type": "stream",
     "text": [
      "<class 'list'>\n",
      "[{'dbn': '01M292', 'num_of_sat_test_takers': '29', 'sat_critical_reading_avg_score': '355', 'sat_math_avg_score': '404', 'sat_writing_avg_score': '363', 'school_name': 'HENRY STREET SCHOOL FOR INTERNATIONAL STUDIES'}, {'dbn': '01M448', 'num_of_sat_test_takers': '91', 'sat_critical_reading_avg_score': '383', 'sat_math_avg_score': '423', 'sat_writing_avg_score': '366', 'school_name': 'UNIVERSITY NEIGHBORHOOD HIGH SCHOOL'}]\n"
     ]
    }
   ],
   "source": [
    "# Alternative read in static data set from download\n",
    "# sat= pd.read_csv(\"2012_SAT_Results.csv\", header=0, error_bad_lines=False, sep=\",\" )\n",
    "\n",
    "url = \"https://data.cityofnewyork.us/resource/734v-jeq5.json\"\n",
    "# r = requests.get(url)\n",
    "r1 = requests.get(url)\n",
    "json_data_1 = r1.json()\n",
    "print(type(json_data_1))\n",
    "print(json_data_1[0:2])\n",
    "# Using json gives a list of dictionaries"
   ]
  },
  {
   "cell_type": "code",
   "execution_count": 6,
   "metadata": {},
   "outputs": [
    {
     "name": "stdout",
     "output_type": "stream",
     "text": [
      "<class 'pandas.core.frame.DataFrame'>\n"
     ]
    },
    {
     "data": {
      "text/html": [
       "<div>\n",
       "<style>\n",
       "    .dataframe thead tr:only-child th {\n",
       "        text-align: right;\n",
       "    }\n",
       "\n",
       "    .dataframe thead th {\n",
       "        text-align: left;\n",
       "    }\n",
       "\n",
       "    .dataframe tbody tr th {\n",
       "        vertical-align: top;\n",
       "    }\n",
       "</style>\n",
       "<table border=\"1\" class=\"dataframe\">\n",
       "  <thead>\n",
       "    <tr style=\"text-align: right;\">\n",
       "      <th></th>\n",
       "      <th>dbn</th>\n",
       "      <th>num_of_sat_test_takers</th>\n",
       "      <th>sat_critical_reading_avg_score</th>\n",
       "      <th>sat_math_avg_score</th>\n",
       "      <th>sat_writing_avg_score</th>\n",
       "      <th>school_name</th>\n",
       "    </tr>\n",
       "  </thead>\n",
       "  <tbody>\n",
       "    <tr>\n",
       "      <th>0</th>\n",
       "      <td>01M292</td>\n",
       "      <td>29</td>\n",
       "      <td>355</td>\n",
       "      <td>404</td>\n",
       "      <td>363</td>\n",
       "      <td>HENRY STREET SCHOOL FOR INTERNATIONAL STUDIES</td>\n",
       "    </tr>\n",
       "    <tr>\n",
       "      <th>1</th>\n",
       "      <td>01M448</td>\n",
       "      <td>91</td>\n",
       "      <td>383</td>\n",
       "      <td>423</td>\n",
       "      <td>366</td>\n",
       "      <td>UNIVERSITY NEIGHBORHOOD HIGH SCHOOL</td>\n",
       "    </tr>\n",
       "    <tr>\n",
       "      <th>2</th>\n",
       "      <td>01M450</td>\n",
       "      <td>70</td>\n",
       "      <td>377</td>\n",
       "      <td>402</td>\n",
       "      <td>370</td>\n",
       "      <td>EAST SIDE COMMUNITY SCHOOL</td>\n",
       "    </tr>\n",
       "    <tr>\n",
       "      <th>3</th>\n",
       "      <td>01M458</td>\n",
       "      <td>7</td>\n",
       "      <td>414</td>\n",
       "      <td>401</td>\n",
       "      <td>359</td>\n",
       "      <td>FORSYTH SATELLITE ACADEMY</td>\n",
       "    </tr>\n",
       "    <tr>\n",
       "      <th>4</th>\n",
       "      <td>01M509</td>\n",
       "      <td>44</td>\n",
       "      <td>390</td>\n",
       "      <td>433</td>\n",
       "      <td>384</td>\n",
       "      <td>MARTA VALLE HIGH SCHOOL</td>\n",
       "    </tr>\n",
       "  </tbody>\n",
       "</table>\n",
       "</div>"
      ],
      "text/plain": [
       "      dbn num_of_sat_test_takers sat_critical_reading_avg_score  \\\n",
       "0  01M292                     29                            355   \n",
       "1  01M448                     91                            383   \n",
       "2  01M450                     70                            377   \n",
       "3  01M458                      7                            414   \n",
       "4  01M509                     44                            390   \n",
       "\n",
       "  sat_math_avg_score sat_writing_avg_score  \\\n",
       "0                404                   363   \n",
       "1                423                   366   \n",
       "2                402                   370   \n",
       "3                401                   359   \n",
       "4                433                   384   \n",
       "\n",
       "                                     school_name  \n",
       "0  HENRY STREET SCHOOL FOR INTERNATIONAL STUDIES  \n",
       "1            UNIVERSITY NEIGHBORHOOD HIGH SCHOOL  \n",
       "2                     EAST SIDE COMMUNITY SCHOOL  \n",
       "3                      FORSYTH SATELLITE ACADEMY  \n",
       "4                        MARTA VALLE HIGH SCHOOL  "
      ]
     },
     "execution_count": 6,
     "metadata": {},
     "output_type": "execute_result"
    }
   ],
   "source": [
    "sat_2012 = pd.DataFrame.from_dict(json_data_1)\n",
    "print(type(sat_2012 ))\n",
    "sat_2012.head()"
   ]
  },
  {
   "cell_type": "code",
   "execution_count": 7,
   "metadata": {},
   "outputs": [
    {
     "name": "stdout",
     "output_type": "stream",
     "text": [
      "<class 'pandas.core.frame.DataFrame'>\n",
      "RangeIndex: 478 entries, 0 to 477\n",
      "Data columns (total 6 columns):\n",
      "dbn                               478 non-null object\n",
      "num_of_sat_test_takers            478 non-null object\n",
      "sat_critical_reading_avg_score    478 non-null object\n",
      "sat_math_avg_score                478 non-null object\n",
      "sat_writing_avg_score             478 non-null object\n",
      "school_name                       478 non-null object\n",
      "dtypes: object(6)\n",
      "memory usage: 22.5+ KB\n"
     ]
    }
   ],
   "source": [
    "sat_2012.info()"
   ]
  },
  {
   "cell_type": "markdown",
   "metadata": {},
   "source": [
    "It seems all column values are of data format non-null object, which are most likely strings.\n",
    "Take a closer look on the data type with a function."
   ]
  },
  {
   "cell_type": "markdown",
   "metadata": {},
   "source": [
    "Determine basic data type"
   ]
  },
  {
   "cell_type": "code",
   "execution_count": 8,
   "metadata": {},
   "outputs": [
    {
     "data": {
      "text/plain": [
       "{'dbn': str,\n",
       " 'num_of_sat_test_takers': str,\n",
       " 'sat_critical_reading_avg_score': str,\n",
       " 'sat_math_avg_score': str,\n",
       " 'sat_writing_avg_score': str,\n",
       " 'school_name': str}"
      ]
     },
     "execution_count": 8,
     "metadata": {},
     "output_type": "execute_result"
    }
   ],
   "source": [
    "def data_type_format(df):\n",
    "    type_dict = dict()\n",
    "    for counter, columnname in enumerate(df.columns.values):\n",
    "        type_dict[columnname]  = type(df.loc[1,columnname])\n",
    "    return(type_dict) \n",
    "        \n",
    "data_type_format(sat_2012)"
   ]
  },
  {
   "cell_type": "markdown",
   "metadata": {},
   "source": [
    "All observations are of data type \"string\", while other than DBN and SCHOOL NAME all column are of numeric type.\n",
    "In the data cleaning process these columns should be turned into numeric formats, maybe integer."
   ]
  },
  {
   "cell_type": "code",
   "execution_count": 9,
   "metadata": {},
   "outputs": [
    {
     "data": {
      "text/plain": [
       "dbn                               0\n",
       "num_of_sat_test_takers            0\n",
       "sat_critical_reading_avg_score    0\n",
       "sat_math_avg_score                0\n",
       "sat_writing_avg_score             0\n",
       "school_name                       0\n",
       "dtype: int64"
      ]
     },
     "execution_count": 9,
     "metadata": {},
     "output_type": "execute_result"
    }
   ],
   "source": [
    "sat_2012.isnull().sum()"
   ]
  },
  {
   "cell_type": "markdown",
   "metadata": {},
   "source": [
    "None null values."
   ]
  },
  {
   "cell_type": "markdown",
   "metadata": {},
   "source": [
    "#### Import data set 1: 2010-2011 Class Size - School-level detail"
   ]
  },
  {
   "cell_type": "markdown",
   "metadata": {},
   "source": [
    "Average class sizes for each school, by grade and program type (General Education, \n",
    "Self-Contained Special Education, Collaborative Team Teaching (CTT)) for grades K-9 \n",
    "(where grade 9 is not reported by subject area), and for grades 5-9 (where available) and 9-12, \n",
    "aggregated by program type (General Education, CTT, and Self-Contained Special Education) and core course \n",
    "(e.g. English 9, Integrated Algebra, US History, etc.)."
   ]
  },
  {
   "cell_type": "code",
   "execution_count": 10,
   "metadata": {},
   "outputs": [],
   "source": [
    "url = \"https://data.cityofnewyork.us/resource/urz7-pzb3.json\"\n",
    "r2 = requests.get(url)\n",
    "json_data_2 = r2.json()\n",
    "class_size = pd.DataFrame.from_dict(json_data_2)\n"
   ]
  },
  {
   "cell_type": "code",
   "execution_count": 11,
   "metadata": {},
   "outputs": [
    {
     "data": {
      "text/html": [
       "<div>\n",
       "<style>\n",
       "    .dataframe thead tr:only-child th {\n",
       "        text-align: right;\n",
       "    }\n",
       "\n",
       "    .dataframe thead th {\n",
       "        text-align: left;\n",
       "    }\n",
       "\n",
       "    .dataframe tbody tr th {\n",
       "        vertical-align: top;\n",
       "    }\n",
       "</style>\n",
       "<table border=\"1\" class=\"dataframe\">\n",
       "  <thead>\n",
       "    <tr style=\"text-align: right;\">\n",
       "      <th></th>\n",
       "      <th>average_class_size</th>\n",
       "      <th>borough</th>\n",
       "      <th>core_course_ms_core_and_9_12_only_</th>\n",
       "      <th>core_subject_ms_core_and_9_12_only_</th>\n",
       "      <th>csd</th>\n",
       "      <th>data_source</th>\n",
       "      <th>grade_</th>\n",
       "      <th>number_of_sections</th>\n",
       "      <th>number_of_students_seats_filled</th>\n",
       "      <th>program_type</th>\n",
       "      <th>school_code</th>\n",
       "      <th>school_name</th>\n",
       "      <th>schoolwide_pupil_teacher_ratio</th>\n",
       "      <th>service_category_k_9_only_</th>\n",
       "      <th>size_of_largest_class</th>\n",
       "      <th>size_of_smallest_class</th>\n",
       "    </tr>\n",
       "  </thead>\n",
       "  <tbody>\n",
       "    <tr>\n",
       "      <th>0</th>\n",
       "      <td>19.0</td>\n",
       "      <td>M</td>\n",
       "      <td>-</td>\n",
       "      <td>-</td>\n",
       "      <td>1</td>\n",
       "      <td>ATS</td>\n",
       "      <td>0K</td>\n",
       "      <td>1</td>\n",
       "      <td>19</td>\n",
       "      <td>GEN ED</td>\n",
       "      <td>M015</td>\n",
       "      <td>P.S. 015 Roberto Clemente</td>\n",
       "      <td>NaN</td>\n",
       "      <td>-</td>\n",
       "      <td>19</td>\n",
       "      <td>19</td>\n",
       "    </tr>\n",
       "    <tr>\n",
       "      <th>1</th>\n",
       "      <td>21.0</td>\n",
       "      <td>M</td>\n",
       "      <td>-</td>\n",
       "      <td>-</td>\n",
       "      <td>1</td>\n",
       "      <td>ATS</td>\n",
       "      <td>0K</td>\n",
       "      <td>1</td>\n",
       "      <td>21</td>\n",
       "      <td>CTT</td>\n",
       "      <td>M015</td>\n",
       "      <td>P.S. 015 Roberto Clemente</td>\n",
       "      <td>NaN</td>\n",
       "      <td>-</td>\n",
       "      <td>21</td>\n",
       "      <td>21</td>\n",
       "    </tr>\n",
       "    <tr>\n",
       "      <th>2</th>\n",
       "      <td>17.0</td>\n",
       "      <td>M</td>\n",
       "      <td>-</td>\n",
       "      <td>-</td>\n",
       "      <td>1</td>\n",
       "      <td>ATS</td>\n",
       "      <td>01</td>\n",
       "      <td>1</td>\n",
       "      <td>17</td>\n",
       "      <td>GEN ED</td>\n",
       "      <td>M015</td>\n",
       "      <td>P.S. 015 Roberto Clemente</td>\n",
       "      <td>NaN</td>\n",
       "      <td>-</td>\n",
       "      <td>17</td>\n",
       "      <td>17</td>\n",
       "    </tr>\n",
       "    <tr>\n",
       "      <th>3</th>\n",
       "      <td>17.0</td>\n",
       "      <td>M</td>\n",
       "      <td>-</td>\n",
       "      <td>-</td>\n",
       "      <td>1</td>\n",
       "      <td>ATS</td>\n",
       "      <td>01</td>\n",
       "      <td>1</td>\n",
       "      <td>17</td>\n",
       "      <td>CTT</td>\n",
       "      <td>M015</td>\n",
       "      <td>P.S. 015 Roberto Clemente</td>\n",
       "      <td>NaN</td>\n",
       "      <td>-</td>\n",
       "      <td>17</td>\n",
       "      <td>17</td>\n",
       "    </tr>\n",
       "    <tr>\n",
       "      <th>4</th>\n",
       "      <td>15.0</td>\n",
       "      <td>M</td>\n",
       "      <td>-</td>\n",
       "      <td>-</td>\n",
       "      <td>1</td>\n",
       "      <td>ATS</td>\n",
       "      <td>02</td>\n",
       "      <td>1</td>\n",
       "      <td>15</td>\n",
       "      <td>GEN ED</td>\n",
       "      <td>M015</td>\n",
       "      <td>P.S. 015 Roberto Clemente</td>\n",
       "      <td>NaN</td>\n",
       "      <td>-</td>\n",
       "      <td>15</td>\n",
       "      <td>15</td>\n",
       "    </tr>\n",
       "  </tbody>\n",
       "</table>\n",
       "</div>"
      ],
      "text/plain": [
       "  average_class_size borough core_course_ms_core_and_9_12_only_  \\\n",
       "0               19.0       M                                  -   \n",
       "1               21.0       M                                  -   \n",
       "2               17.0       M                                  -   \n",
       "3               17.0       M                                  -   \n",
       "4               15.0       M                                  -   \n",
       "\n",
       "  core_subject_ms_core_and_9_12_only_ csd data_source grade_  \\\n",
       "0                                   -   1         ATS     0K   \n",
       "1                                   -   1         ATS     0K   \n",
       "2                                   -   1         ATS     01   \n",
       "3                                   -   1         ATS     01   \n",
       "4                                   -   1         ATS     02   \n",
       "\n",
       "  number_of_sections number_of_students_seats_filled program_type school_code  \\\n",
       "0                  1                              19       GEN ED        M015   \n",
       "1                  1                              21          CTT        M015   \n",
       "2                  1                              17       GEN ED        M015   \n",
       "3                  1                              17          CTT        M015   \n",
       "4                  1                              15       GEN ED        M015   \n",
       "\n",
       "                 school_name schoolwide_pupil_teacher_ratio  \\\n",
       "0  P.S. 015 Roberto Clemente                            NaN   \n",
       "1  P.S. 015 Roberto Clemente                            NaN   \n",
       "2  P.S. 015 Roberto Clemente                            NaN   \n",
       "3  P.S. 015 Roberto Clemente                            NaN   \n",
       "4  P.S. 015 Roberto Clemente                            NaN   \n",
       "\n",
       "  service_category_k_9_only_ size_of_largest_class size_of_smallest_class  \n",
       "0                          -                    19                     19  \n",
       "1                          -                    21                     21  \n",
       "2                          -                    17                     17  \n",
       "3                          -                    17                     17  \n",
       "4                          -                    15                     15  "
      ]
     },
     "execution_count": 11,
     "metadata": {},
     "output_type": "execute_result"
    }
   ],
   "source": [
    "class_size.head()"
   ]
  },
  {
   "cell_type": "code",
   "execution_count": 12,
   "metadata": {},
   "outputs": [
    {
     "name": "stdout",
     "output_type": "stream",
     "text": [
      "<class 'pandas.core.frame.DataFrame'>\n",
      "RangeIndex: 1000 entries, 0 to 999\n",
      "Data columns (total 16 columns):\n",
      "average_class_size                     935 non-null object\n",
      "borough                                1000 non-null object\n",
      "core_course_ms_core_and_9_12_only_     935 non-null object\n",
      "core_subject_ms_core_and_9_12_only_    935 non-null object\n",
      "csd                                    1000 non-null object\n",
      "data_source                            935 non-null object\n",
      "grade_                                 935 non-null object\n",
      "number_of_sections                     935 non-null object\n",
      "number_of_students_seats_filled        935 non-null object\n",
      "program_type                           935 non-null object\n",
      "school_code                            1000 non-null object\n",
      "school_name                            1000 non-null object\n",
      "schoolwide_pupil_teacher_ratio         65 non-null object\n",
      "service_category_k_9_only_             935 non-null object\n",
      "size_of_largest_class                  935 non-null object\n",
      "size_of_smallest_class                 935 non-null object\n",
      "dtypes: object(16)\n",
      "memory usage: 125.1+ KB\n"
     ]
    }
   ],
   "source": [
    "class_size.info()"
   ]
  },
  {
   "cell_type": "code",
   "execution_count": 13,
   "metadata": {},
   "outputs": [
    {
     "data": {
      "text/plain": [
       "{'average_class_size': str,\n",
       " 'borough': str,\n",
       " 'core_course_ms_core_and_9_12_only_': str,\n",
       " 'core_subject_ms_core_and_9_12_only_': str,\n",
       " 'csd': str,\n",
       " 'data_source': str,\n",
       " 'grade_': str,\n",
       " 'number_of_sections': str,\n",
       " 'number_of_students_seats_filled': str,\n",
       " 'program_type': str,\n",
       " 'school_code': str,\n",
       " 'school_name': str,\n",
       " 'schoolwide_pupil_teacher_ratio': float,\n",
       " 'service_category_k_9_only_': str,\n",
       " 'size_of_largest_class': str,\n",
       " 'size_of_smallest_class': str}"
      ]
     },
     "execution_count": 13,
     "metadata": {},
     "output_type": "execute_result"
    }
   ],
   "source": [
    "data_type_format(class_size)"
   ]
  },
  {
   "cell_type": "markdown",
   "metadata": {},
   "source": [
    "E.g. data_type_format and size_of_smallest_class are integers but have data type string."
   ]
  },
  {
   "cell_type": "markdown",
   "metadata": {},
   "source": [
    "Is null?"
   ]
  },
  {
   "cell_type": "code",
   "execution_count": 14,
   "metadata": {},
   "outputs": [
    {
     "data": {
      "text/plain": [
       "average_class_size                      65\n",
       "borough                                  0\n",
       "core_course_ms_core_and_9_12_only_      65\n",
       "core_subject_ms_core_and_9_12_only_     65\n",
       "csd                                      0\n",
       "data_source                             65\n",
       "grade_                                  65\n",
       "number_of_sections                      65\n",
       "number_of_students_seats_filled         65\n",
       "program_type                            65\n",
       "school_code                              0\n",
       "school_name                              0\n",
       "schoolwide_pupil_teacher_ratio         935\n",
       "service_category_k_9_only_              65\n",
       "size_of_largest_class                   65\n",
       "size_of_smallest_class                  65\n",
       "dtype: int64"
      ]
     },
     "execution_count": 14,
     "metadata": {},
     "output_type": "execute_result"
    }
   ],
   "source": [
    "class_size.isnull().sum()"
   ]
  },
  {
   "cell_type": "markdown",
   "metadata": {},
   "source": [
    "There are substantial null values. \"schoolwide_pupil_teacher_ratio\" has 935 from 1000 observations. A strategy\n",
    "to handle null values is necessary."
   ]
  },
  {
   "cell_type": "markdown",
   "metadata": {},
   "source": [
    "#### Import data set 3: 2006 - 2012 School Demographics and Accountability Snapshot\n",
    "<p>\n",
    "Annual school accounts of NYC public school student populations served by grade, special programs, ethnicity, gender and Title I funded programs. \n",
    "</p>"
   ]
  },
  {
   "cell_type": "code",
   "execution_count": 15,
   "metadata": {},
   "outputs": [],
   "source": [
    "def df_from_json(url):\n",
    "    \"\"\"Get json file from url and convert the dict into a df\"\"\"\n",
    "    # url as string\n",
    "    r = requests.get(url)\n",
    "    json_data = r.json()\n",
    "    df = pd.DataFrame.from_dict(json_data)\n",
    "    return df\n"
   ]
  },
  {
   "cell_type": "code",
   "execution_count": 16,
   "metadata": {},
   "outputs": [],
   "source": [
    "demographics = df_from_json(\"https://data.cityofnewyork.us/resource/ihfw-zy9j.json\") "
   ]
  },
  {
   "cell_type": "code",
   "execution_count": 17,
   "metadata": {},
   "outputs": [
    {
     "data": {
      "text/html": [
       "<div>\n",
       "<style>\n",
       "    .dataframe thead tr:only-child th {\n",
       "        text-align: right;\n",
       "    }\n",
       "\n",
       "    .dataframe thead th {\n",
       "        text-align: left;\n",
       "    }\n",
       "\n",
       "    .dataframe tbody tr th {\n",
       "        vertical-align: top;\n",
       "    }\n",
       "</style>\n",
       "<table border=\"1\" class=\"dataframe\">\n",
       "  <thead>\n",
       "    <tr style=\"text-align: right;\">\n",
       "      <th></th>\n",
       "      <th>asian_num</th>\n",
       "      <th>asian_per</th>\n",
       "      <th>black_num</th>\n",
       "      <th>black_per</th>\n",
       "      <th>ctt_num</th>\n",
       "      <th>dbn</th>\n",
       "      <th>ell_num</th>\n",
       "      <th>ell_percent</th>\n",
       "      <th>female_num</th>\n",
       "      <th>female_per</th>\n",
       "      <th>...</th>\n",
       "      <th>male_per</th>\n",
       "      <th>name</th>\n",
       "      <th>prek</th>\n",
       "      <th>schoolyear</th>\n",
       "      <th>selfcontained_num</th>\n",
       "      <th>sped_num</th>\n",
       "      <th>sped_percent</th>\n",
       "      <th>total_enrollment</th>\n",
       "      <th>white_num</th>\n",
       "      <th>white_per</th>\n",
       "    </tr>\n",
       "  </thead>\n",
       "  <tbody>\n",
       "    <tr>\n",
       "      <th>0</th>\n",
       "      <td>10</td>\n",
       "      <td>3.6</td>\n",
       "      <td>74</td>\n",
       "      <td>26.3</td>\n",
       "      <td>25</td>\n",
       "      <td>01M015</td>\n",
       "      <td>36</td>\n",
       "      <td>12.8</td>\n",
       "      <td>123</td>\n",
       "      <td>43.8</td>\n",
       "      <td>...</td>\n",
       "      <td>56.2</td>\n",
       "      <td>P.S. 015 ROBERTO CLEMENTE</td>\n",
       "      <td>15</td>\n",
       "      <td>20052006</td>\n",
       "      <td>9</td>\n",
       "      <td>57</td>\n",
       "      <td>20.3</td>\n",
       "      <td>281</td>\n",
       "      <td>5</td>\n",
       "      <td>1.8</td>\n",
       "    </tr>\n",
       "    <tr>\n",
       "      <th>1</th>\n",
       "      <td>18</td>\n",
       "      <td>7.4</td>\n",
       "      <td>68</td>\n",
       "      <td>28</td>\n",
       "      <td>19</td>\n",
       "      <td>01M015</td>\n",
       "      <td>38</td>\n",
       "      <td>15.6</td>\n",
       "      <td>103</td>\n",
       "      <td>42.4</td>\n",
       "      <td>...</td>\n",
       "      <td>57.6</td>\n",
       "      <td>P.S. 015 ROBERTO CLEMENTE</td>\n",
       "      <td>15</td>\n",
       "      <td>20062007</td>\n",
       "      <td>15</td>\n",
       "      <td>55</td>\n",
       "      <td>22.6</td>\n",
       "      <td>243</td>\n",
       "      <td>4</td>\n",
       "      <td>1.6</td>\n",
       "    </tr>\n",
       "    <tr>\n",
       "      <th>2</th>\n",
       "      <td>16</td>\n",
       "      <td>6.1</td>\n",
       "      <td>77</td>\n",
       "      <td>29.5</td>\n",
       "      <td>20</td>\n",
       "      <td>01M015</td>\n",
       "      <td>52</td>\n",
       "      <td>19.9</td>\n",
       "      <td>118</td>\n",
       "      <td>45.2</td>\n",
       "      <td>...</td>\n",
       "      <td>54.8</td>\n",
       "      <td>P.S. 015 ROBERTO CLEMENTE</td>\n",
       "      <td>18</td>\n",
       "      <td>20072008</td>\n",
       "      <td>14</td>\n",
       "      <td>60</td>\n",
       "      <td>23</td>\n",
       "      <td>261</td>\n",
       "      <td>7</td>\n",
       "      <td>2.7</td>\n",
       "    </tr>\n",
       "    <tr>\n",
       "      <th>3</th>\n",
       "      <td>16</td>\n",
       "      <td>6.3</td>\n",
       "      <td>75</td>\n",
       "      <td>29.8</td>\n",
       "      <td>21</td>\n",
       "      <td>01M015</td>\n",
       "      <td>48</td>\n",
       "      <td>19</td>\n",
       "      <td>103</td>\n",
       "      <td>40.9</td>\n",
       "      <td>...</td>\n",
       "      <td>59.1</td>\n",
       "      <td>P.S. 015 ROBERTO CLEMENTE</td>\n",
       "      <td>17</td>\n",
       "      <td>20082009</td>\n",
       "      <td>17</td>\n",
       "      <td>62</td>\n",
       "      <td>24.6</td>\n",
       "      <td>252</td>\n",
       "      <td>7</td>\n",
       "      <td>2.8</td>\n",
       "    </tr>\n",
       "    <tr>\n",
       "      <th>4</th>\n",
       "      <td>16</td>\n",
       "      <td>7.7</td>\n",
       "      <td>67</td>\n",
       "      <td>32.2</td>\n",
       "      <td>14</td>\n",
       "      <td>01M015</td>\n",
       "      <td>40</td>\n",
       "      <td>19.2</td>\n",
       "      <td>84</td>\n",
       "      <td>40.4</td>\n",
       "      <td>...</td>\n",
       "      <td>59.6</td>\n",
       "      <td>P.S. 015 ROBERTO CLEMENTE</td>\n",
       "      <td>16</td>\n",
       "      <td>20092010</td>\n",
       "      <td>14</td>\n",
       "      <td>46</td>\n",
       "      <td>22.1</td>\n",
       "      <td>208</td>\n",
       "      <td>6</td>\n",
       "      <td>2.9</td>\n",
       "    </tr>\n",
       "  </tbody>\n",
       "</table>\n",
       "<p>5 rows × 38 columns</p>\n",
       "</div>"
      ],
      "text/plain": [
       "  asian_num asian_per black_num black_per ctt_num     dbn ell_num ell_percent  \\\n",
       "0        10       3.6        74      26.3      25  01M015      36        12.8   \n",
       "1        18       7.4        68        28      19  01M015      38        15.6   \n",
       "2        16       6.1        77      29.5      20  01M015      52        19.9   \n",
       "3        16       6.3        75      29.8      21  01M015      48          19   \n",
       "4        16       7.7        67      32.2      14  01M015      40        19.2   \n",
       "\n",
       "  female_num female_per    ...    male_per                       name prek  \\\n",
       "0        123       43.8    ...        56.2  P.S. 015 ROBERTO CLEMENTE   15   \n",
       "1        103       42.4    ...        57.6  P.S. 015 ROBERTO CLEMENTE   15   \n",
       "2        118       45.2    ...        54.8  P.S. 015 ROBERTO CLEMENTE   18   \n",
       "3        103       40.9    ...        59.1  P.S. 015 ROBERTO CLEMENTE   17   \n",
       "4         84       40.4    ...        59.6  P.S. 015 ROBERTO CLEMENTE   16   \n",
       "\n",
       "  schoolyear selfcontained_num sped_num sped_percent total_enrollment  \\\n",
       "0   20052006                 9       57         20.3              281   \n",
       "1   20062007                15       55         22.6              243   \n",
       "2   20072008                14       60           23              261   \n",
       "3   20082009                17       62         24.6              252   \n",
       "4   20092010                14       46         22.1              208   \n",
       "\n",
       "  white_num white_per  \n",
       "0         5       1.8  \n",
       "1         4       1.6  \n",
       "2         7       2.7  \n",
       "3         7       2.8  \n",
       "4         6       2.9  \n",
       "\n",
       "[5 rows x 38 columns]"
      ]
     },
     "execution_count": 17,
     "metadata": {},
     "output_type": "execute_result"
    }
   ],
   "source": [
    "demographics.head()"
   ]
  },
  {
   "cell_type": "code",
   "execution_count": 18,
   "metadata": {},
   "outputs": [
    {
     "name": "stdout",
     "output_type": "stream",
     "text": [
      "<class 'pandas.core.frame.DataFrame'>\n",
      "RangeIndex: 1000 entries, 0 to 999\n",
      "Data columns (total 38 columns):\n",
      "asian_num            1000 non-null object\n",
      "asian_per            1000 non-null object\n",
      "black_num            1000 non-null object\n",
      "black_per            1000 non-null object\n",
      "ctt_num              836 non-null object\n",
      "dbn                  1000 non-null object\n",
      "ell_num              978 non-null object\n",
      "ell_percent          986 non-null object\n",
      "female_num           998 non-null object\n",
      "female_per           1000 non-null object\n",
      "fl_percent           849 non-null object\n",
      "frl_percent          449 non-null object\n",
      "grade1               496 non-null object\n",
      "grade10              546 non-null object\n",
      "grade11              532 non-null object\n",
      "grade12              514 non-null object\n",
      "grade2               492 non-null object\n",
      "grade3               491 non-null object\n",
      "grade4               497 non-null object\n",
      "grade5               496 non-null object\n",
      "grade6               369 non-null object\n",
      "grade7               361 non-null object\n",
      "grade8               361 non-null object\n",
      "grade9               537 non-null object\n",
      "hispanic_num         1000 non-null object\n",
      "hispanic_per         1000 non-null object\n",
      "k                    498 non-null object\n",
      "male_num             994 non-null object\n",
      "male_per             1000 non-null object\n",
      "name                 1000 non-null object\n",
      "prek                 432 non-null object\n",
      "schoolyear           1000 non-null object\n",
      "selfcontained_num    785 non-null object\n",
      "sped_num             992 non-null object\n",
      "sped_percent         1000 non-null object\n",
      "total_enrollment     1000 non-null object\n",
      "white_num            1000 non-null object\n",
      "white_per            1000 non-null object\n",
      "dtypes: object(38)\n",
      "memory usage: 297.0+ KB\n"
     ]
    }
   ],
   "source": [
    "demographics.info()"
   ]
  },
  {
   "cell_type": "code",
   "execution_count": 19,
   "metadata": {},
   "outputs": [
    {
     "data": {
      "text/plain": [
       "{'asian_num': str,\n",
       " 'asian_per': str,\n",
       " 'black_num': str,\n",
       " 'black_per': str,\n",
       " 'ctt_num': str,\n",
       " 'dbn': str,\n",
       " 'ell_num': str,\n",
       " 'ell_percent': str,\n",
       " 'female_num': str,\n",
       " 'female_per': str,\n",
       " 'fl_percent': str,\n",
       " 'frl_percent': float,\n",
       " 'grade1': str,\n",
       " 'grade10': float,\n",
       " 'grade11': float,\n",
       " 'grade12': float,\n",
       " 'grade2': str,\n",
       " 'grade3': str,\n",
       " 'grade4': str,\n",
       " 'grade5': str,\n",
       " 'grade6': float,\n",
       " 'grade7': float,\n",
       " 'grade8': float,\n",
       " 'grade9': float,\n",
       " 'hispanic_num': str,\n",
       " 'hispanic_per': str,\n",
       " 'k': str,\n",
       " 'male_num': str,\n",
       " 'male_per': str,\n",
       " 'name': str,\n",
       " 'prek': str,\n",
       " 'schoolyear': str,\n",
       " 'selfcontained_num': str,\n",
       " 'sped_num': str,\n",
       " 'sped_percent': str,\n",
       " 'total_enrollment': str,\n",
       " 'white_num': str,\n",
       " 'white_per': str}"
      ]
     },
     "execution_count": 19,
     "metadata": {},
     "output_type": "execute_result"
    }
   ],
   "source": [
    "data_type_format(demographics)"
   ]
  },
  {
   "cell_type": "markdown",
   "metadata": {},
   "source": [
    "Several variables of data type string are numeric values. For example asian_num is of type integer."
   ]
  },
  {
   "cell_type": "code",
   "execution_count": 20,
   "metadata": {},
   "outputs": [
    {
     "data": {
      "text/plain": [
       "asian_num              0\n",
       "asian_per              0\n",
       "black_num              0\n",
       "black_per              0\n",
       "ctt_num              164\n",
       "dbn                    0\n",
       "ell_num               22\n",
       "ell_percent           14\n",
       "female_num             2\n",
       "female_per             0\n",
       "fl_percent           151\n",
       "frl_percent          551\n",
       "grade1               504\n",
       "grade10              454\n",
       "grade11              468\n",
       "grade12              486\n",
       "grade2               508\n",
       "grade3               509\n",
       "grade4               503\n",
       "grade5               504\n",
       "grade6               631\n",
       "grade7               639\n",
       "grade8               639\n",
       "grade9               463\n",
       "hispanic_num           0\n",
       "hispanic_per           0\n",
       "k                    502\n",
       "male_num               6\n",
       "male_per               0\n",
       "name                   0\n",
       "prek                 568\n",
       "schoolyear             0\n",
       "selfcontained_num    215\n",
       "sped_num               8\n",
       "sped_percent           0\n",
       "total_enrollment       0\n",
       "white_num              0\n",
       "white_per              0\n",
       "dtype: int64"
      ]
     },
     "execution_count": 20,
     "metadata": {},
     "output_type": "execute_result"
    }
   ],
   "source": [
    "demographics.isnull().sum()"
   ]
  },
  {
   "cell_type": "markdown",
   "metadata": {},
   "source": [
    "There are substantial null-values. I particular the grade-variables have ca. 50 percent null values.\n",
    "A strategy to handle missing data is to be developed."
   ]
  },
  {
   "cell_type": "markdown",
   "metadata": {},
   "source": [
    "#### Import data set 3: 2005-2010 Graduation Outcomes - School"
   ]
  },
  {
   "cell_type": "markdown",
   "metadata": {},
   "source": [
    "<p>\n",
    "Graduation Outcomes - Cohorts of 2001 through 2006 (Classes of 2005 through 2010)\n",
    "The New York State calculation method was first adopted for the Cohort of 2001 (Class of 2005). The cohort consists of \n",
    "all students who first entered 9th grade in a given school year.\n",
    "</p>"
   ]
  },
  {
   "cell_type": "code",
   "execution_count": 21,
   "metadata": {},
   "outputs": [],
   "source": [
    "graduation = df_from_json(\"https://data.cityofnewyork.us/resource/ns8x-c6af.json\") "
   ]
  },
  {
   "cell_type": "code",
   "execution_count": 22,
   "metadata": {},
   "outputs": [
    {
     "data": {
      "text/html": [
       "<div>\n",
       "<style>\n",
       "    .dataframe thead tr:only-child th {\n",
       "        text-align: right;\n",
       "    }\n",
       "\n",
       "    .dataframe thead th {\n",
       "        text-align: left;\n",
       "    }\n",
       "\n",
       "    .dataframe tbody tr th {\n",
       "        vertical-align: top;\n",
       "    }\n",
       "</style>\n",
       "<table border=\"1\" class=\"dataframe\">\n",
       "  <thead>\n",
       "    <tr style=\"text-align: right;\">\n",
       "      <th></th>\n",
       "      <th>advanced_regents_n</th>\n",
       "      <th>advanced_regents_of_cohort</th>\n",
       "      <th>advanced_regents_of_grads</th>\n",
       "      <th>cohort</th>\n",
       "      <th>dbn</th>\n",
       "      <th>demographic</th>\n",
       "      <th>dropped_out_n</th>\n",
       "      <th>dropped_out_of_cohort</th>\n",
       "      <th>local_n</th>\n",
       "      <th>local_of_cohort</th>\n",
       "      <th>...</th>\n",
       "      <th>regents_w_o_advanced_of_grads</th>\n",
       "      <th>school_name</th>\n",
       "      <th>still_enrolled_n</th>\n",
       "      <th>still_enrolled_of_cohort</th>\n",
       "      <th>total_cohort</th>\n",
       "      <th>total_grads_n</th>\n",
       "      <th>total_grads_of_cohort</th>\n",
       "      <th>total_regents_n</th>\n",
       "      <th>total_regents_of_cohort</th>\n",
       "      <th>total_regents_of_grads</th>\n",
       "    </tr>\n",
       "  </thead>\n",
       "  <tbody>\n",
       "    <tr>\n",
       "      <th>0</th>\n",
       "      <td>s</td>\n",
       "      <td>NaN</td>\n",
       "      <td>NaN</td>\n",
       "      <td>2003</td>\n",
       "      <td>01M292</td>\n",
       "      <td>Total Cohort</td>\n",
       "      <td>s</td>\n",
       "      <td>NaN</td>\n",
       "      <td>s</td>\n",
       "      <td>NaN</td>\n",
       "      <td>...</td>\n",
       "      <td>NaN</td>\n",
       "      <td>HENRY STREET SCHOOL FOR INTERNATIONAL</td>\n",
       "      <td>s</td>\n",
       "      <td>NaN</td>\n",
       "      <td>5</td>\n",
       "      <td>s</td>\n",
       "      <td>NaN</td>\n",
       "      <td>s</td>\n",
       "      <td>NaN</td>\n",
       "      <td>NaN</td>\n",
       "    </tr>\n",
       "    <tr>\n",
       "      <th>1</th>\n",
       "      <td>0</td>\n",
       "      <td>0</td>\n",
       "      <td>0</td>\n",
       "      <td>2004</td>\n",
       "      <td>01M292</td>\n",
       "      <td>Total Cohort</td>\n",
       "      <td>3</td>\n",
       "      <td>5.5</td>\n",
       "      <td>20</td>\n",
       "      <td>36.4</td>\n",
       "      <td>...</td>\n",
       "      <td>45.9</td>\n",
       "      <td>HENRY STREET SCHOOL FOR INTERNATIONAL</td>\n",
       "      <td>15</td>\n",
       "      <td>27.3</td>\n",
       "      <td>55</td>\n",
       "      <td>37</td>\n",
       "      <td>67.3</td>\n",
       "      <td>17</td>\n",
       "      <td>30.9</td>\n",
       "      <td>45.9</td>\n",
       "    </tr>\n",
       "    <tr>\n",
       "      <th>2</th>\n",
       "      <td>0</td>\n",
       "      <td>0</td>\n",
       "      <td>0</td>\n",
       "      <td>2005</td>\n",
       "      <td>01M292</td>\n",
       "      <td>Total Cohort</td>\n",
       "      <td>9</td>\n",
       "      <td>14.1</td>\n",
       "      <td>16</td>\n",
       "      <td>25</td>\n",
       "      <td>...</td>\n",
       "      <td>62.8</td>\n",
       "      <td>HENRY STREET SCHOOL FOR INTERNATIONAL</td>\n",
       "      <td>9</td>\n",
       "      <td>14.1</td>\n",
       "      <td>64</td>\n",
       "      <td>43</td>\n",
       "      <td>67.2</td>\n",
       "      <td>27</td>\n",
       "      <td>42.2</td>\n",
       "      <td>62.8</td>\n",
       "    </tr>\n",
       "    <tr>\n",
       "      <th>3</th>\n",
       "      <td>0</td>\n",
       "      <td>0</td>\n",
       "      <td>0</td>\n",
       "      <td>2006</td>\n",
       "      <td>01M292</td>\n",
       "      <td>Total Cohort</td>\n",
       "      <td>11</td>\n",
       "      <td>14.1</td>\n",
       "      <td>7</td>\n",
       "      <td>9</td>\n",
       "      <td>...</td>\n",
       "      <td>83.7</td>\n",
       "      <td>HENRY STREET SCHOOL FOR INTERNATIONAL</td>\n",
       "      <td>16</td>\n",
       "      <td>20.5</td>\n",
       "      <td>78</td>\n",
       "      <td>43</td>\n",
       "      <td>55.1</td>\n",
       "      <td>36</td>\n",
       "      <td>46.2</td>\n",
       "      <td>83.7</td>\n",
       "    </tr>\n",
       "    <tr>\n",
       "      <th>4</th>\n",
       "      <td>0</td>\n",
       "      <td>0</td>\n",
       "      <td>0</td>\n",
       "      <td>2006 Aug</td>\n",
       "      <td>01M292</td>\n",
       "      <td>Total Cohort</td>\n",
       "      <td>11</td>\n",
       "      <td>14.1</td>\n",
       "      <td>7</td>\n",
       "      <td>9</td>\n",
       "      <td>...</td>\n",
       "      <td>84.1</td>\n",
       "      <td>HENRY STREET SCHOOL FOR INTERNATIONAL</td>\n",
       "      <td>15</td>\n",
       "      <td>19.2</td>\n",
       "      <td>78</td>\n",
       "      <td>44</td>\n",
       "      <td>56.4</td>\n",
       "      <td>37</td>\n",
       "      <td>47.4</td>\n",
       "      <td>84.1</td>\n",
       "    </tr>\n",
       "  </tbody>\n",
       "</table>\n",
       "<p>5 rows × 23 columns</p>\n",
       "</div>"
      ],
      "text/plain": [
       "  advanced_regents_n advanced_regents_of_cohort advanced_regents_of_grads  \\\n",
       "0                  s                        NaN                       NaN   \n",
       "1                  0                          0                         0   \n",
       "2                  0                          0                         0   \n",
       "3                  0                          0                         0   \n",
       "4                  0                          0                         0   \n",
       "\n",
       "     cohort     dbn   demographic dropped_out_n dropped_out_of_cohort local_n  \\\n",
       "0      2003  01M292  Total Cohort             s                   NaN       s   \n",
       "1      2004  01M292  Total Cohort             3                   5.5      20   \n",
       "2      2005  01M292  Total Cohort             9                  14.1      16   \n",
       "3      2006  01M292  Total Cohort            11                  14.1       7   \n",
       "4  2006 Aug  01M292  Total Cohort            11                  14.1       7   \n",
       "\n",
       "  local_of_cohort          ...           regents_w_o_advanced_of_grads  \\\n",
       "0             NaN          ...                                     NaN   \n",
       "1            36.4          ...                                    45.9   \n",
       "2              25          ...                                    62.8   \n",
       "3               9          ...                                    83.7   \n",
       "4               9          ...                                    84.1   \n",
       "\n",
       "                             school_name still_enrolled_n  \\\n",
       "0  HENRY STREET SCHOOL FOR INTERNATIONAL                s   \n",
       "1  HENRY STREET SCHOOL FOR INTERNATIONAL               15   \n",
       "2  HENRY STREET SCHOOL FOR INTERNATIONAL                9   \n",
       "3  HENRY STREET SCHOOL FOR INTERNATIONAL               16   \n",
       "4  HENRY STREET SCHOOL FOR INTERNATIONAL               15   \n",
       "\n",
       "  still_enrolled_of_cohort total_cohort total_grads_n total_grads_of_cohort  \\\n",
       "0                      NaN            5             s                   NaN   \n",
       "1                     27.3           55            37                  67.3   \n",
       "2                     14.1           64            43                  67.2   \n",
       "3                     20.5           78            43                  55.1   \n",
       "4                     19.2           78            44                  56.4   \n",
       "\n",
       "  total_regents_n total_regents_of_cohort total_regents_of_grads  \n",
       "0               s                     NaN                    NaN  \n",
       "1              17                    30.9                   45.9  \n",
       "2              27                    42.2                   62.8  \n",
       "3              36                    46.2                   83.7  \n",
       "4              37                    47.4                   84.1  \n",
       "\n",
       "[5 rows x 23 columns]"
      ]
     },
     "execution_count": 22,
     "metadata": {},
     "output_type": "execute_result"
    }
   ],
   "source": [
    "graduation.head()"
   ]
  },
  {
   "cell_type": "code",
   "execution_count": 23,
   "metadata": {},
   "outputs": [
    {
     "name": "stdout",
     "output_type": "stream",
     "text": [
      "<class 'pandas.core.frame.DataFrame'>\n",
      "RangeIndex: 1000 entries, 0 to 999\n",
      "Data columns (total 23 columns):\n",
      "advanced_regents_n                1000 non-null object\n",
      "advanced_regents_of_cohort        884 non-null object\n",
      "advanced_regents_of_grads         882 non-null object\n",
      "cohort                            1000 non-null object\n",
      "dbn                               1000 non-null object\n",
      "demographic                       1000 non-null object\n",
      "dropped_out_n                     1000 non-null object\n",
      "dropped_out_of_cohort             884 non-null object\n",
      "local_n                           1000 non-null object\n",
      "local_of_cohort                   884 non-null object\n",
      "local_of_grads                    882 non-null object\n",
      "regents_w_o_advanced_n            1000 non-null object\n",
      "regents_w_o_advanced_of_cohort    884 non-null object\n",
      "regents_w_o_advanced_of_grads     882 non-null object\n",
      "school_name                       1000 non-null object\n",
      "still_enrolled_n                  1000 non-null object\n",
      "still_enrolled_of_cohort          884 non-null object\n",
      "total_cohort                      1000 non-null object\n",
      "total_grads_n                     1000 non-null object\n",
      "total_grads_of_cohort             884 non-null object\n",
      "total_regents_n                   1000 non-null object\n",
      "total_regents_of_cohort           884 non-null object\n",
      "total_regents_of_grads            882 non-null object\n",
      "dtypes: object(23)\n",
      "memory usage: 179.8+ KB\n"
     ]
    }
   ],
   "source": [
    "graduation.info()"
   ]
  },
  {
   "cell_type": "code",
   "execution_count": 24,
   "metadata": {},
   "outputs": [
    {
     "data": {
      "text/plain": [
       "{'advanced_regents_n': str,\n",
       " 'advanced_regents_of_cohort': str,\n",
       " 'advanced_regents_of_grads': str,\n",
       " 'cohort': str,\n",
       " 'dbn': str,\n",
       " 'demographic': str,\n",
       " 'dropped_out_n': str,\n",
       " 'dropped_out_of_cohort': str,\n",
       " 'local_n': str,\n",
       " 'local_of_cohort': str,\n",
       " 'local_of_grads': str,\n",
       " 'regents_w_o_advanced_n': str,\n",
       " 'regents_w_o_advanced_of_cohort': str,\n",
       " 'regents_w_o_advanced_of_grads': str,\n",
       " 'school_name': str,\n",
       " 'still_enrolled_n': str,\n",
       " 'still_enrolled_of_cohort': str,\n",
       " 'total_cohort': str,\n",
       " 'total_grads_n': str,\n",
       " 'total_grads_of_cohort': str,\n",
       " 'total_regents_n': str,\n",
       " 'total_regents_of_cohort': str,\n",
       " 'total_regents_of_grads': str}"
      ]
     },
     "execution_count": 24,
     "metadata": {},
     "output_type": "execute_result"
    }
   ],
   "source": [
    "data_type_format(graduation)"
   ]
  },
  {
   "cell_type": "markdown",
   "metadata": {},
   "source": [
    "Several numeric variables are stored as strings."
   ]
  },
  {
   "cell_type": "code",
   "execution_count": 25,
   "metadata": {},
   "outputs": [
    {
     "data": {
      "text/plain": [
       "advanced_regents_n                  0\n",
       "advanced_regents_of_cohort        116\n",
       "advanced_regents_of_grads         118\n",
       "cohort                              0\n",
       "dbn                                 0\n",
       "demographic                         0\n",
       "dropped_out_n                       0\n",
       "dropped_out_of_cohort             116\n",
       "local_n                             0\n",
       "local_of_cohort                   116\n",
       "local_of_grads                    118\n",
       "regents_w_o_advanced_n              0\n",
       "regents_w_o_advanced_of_cohort    116\n",
       "regents_w_o_advanced_of_grads     118\n",
       "school_name                         0\n",
       "still_enrolled_n                    0\n",
       "still_enrolled_of_cohort          116\n",
       "total_cohort                        0\n",
       "total_grads_n                       0\n",
       "total_grads_of_cohort             116\n",
       "total_regents_n                     0\n",
       "total_regents_of_cohort           116\n",
       "total_regents_of_grads            118\n",
       "dtype: int64"
      ]
     },
     "execution_count": 25,
     "metadata": {},
     "output_type": "execute_result"
    }
   ],
   "source": [
    "graduation.isnull().sum()"
   ]
  },
  {
   "cell_type": "markdown",
   "metadata": {},
   "source": [
    "Substantial null values."
   ]
  },
  {
   "cell_type": "markdown",
   "metadata": {},
   "source": [
    "#### Import data set 4: 2014 - 2015 DOE High School Directory"
   ]
  },
  {
   "cell_type": "code",
   "execution_count": 26,
   "metadata": {},
   "outputs": [],
   "source": [
    "highschool = df_from_json(\"https://data.cityofnewyork.us/resource/2u2u-zka4.json\") "
   ]
  },
  {
   "cell_type": "code",
   "execution_count": 27,
   "metadata": {},
   "outputs": [
    {
     "data": {
      "text/html": [
       "<div>\n",
       "<style>\n",
       "    .dataframe thead tr:only-child th {\n",
       "        text-align: right;\n",
       "    }\n",
       "\n",
       "    .dataframe thead th {\n",
       "        text-align: left;\n",
       "    }\n",
       "\n",
       "    .dataframe tbody tr th {\n",
       "        vertical-align: top;\n",
       "    }\n",
       "</style>\n",
       "<table border=\"1\" class=\"dataframe\">\n",
       "  <thead>\n",
       "    <tr style=\"text-align: right;\">\n",
       "      <th></th>\n",
       "      <th>:@computed_region_92fq_4b7q</th>\n",
       "      <th>:@computed_region_efsh_h5xi</th>\n",
       "      <th>:@computed_region_f5dn_yrer</th>\n",
       "      <th>:@computed_region_sbqj_enih</th>\n",
       "      <th>:@computed_region_yeji_bk3q</th>\n",
       "      <th>addtl_info1</th>\n",
       "      <th>addtl_info2</th>\n",
       "      <th>advancedplacement_courses</th>\n",
       "      <th>bbl</th>\n",
       "      <th>bin</th>\n",
       "      <th>...</th>\n",
       "      <th>school_name</th>\n",
       "      <th>school_sports</th>\n",
       "      <th>school_type</th>\n",
       "      <th>se_services</th>\n",
       "      <th>start_time</th>\n",
       "      <th>state_code</th>\n",
       "      <th>subway</th>\n",
       "      <th>total_students</th>\n",
       "      <th>website</th>\n",
       "      <th>zip</th>\n",
       "    </tr>\n",
       "  </thead>\n",
       "  <tbody>\n",
       "    <tr>\n",
       "      <th>0</th>\n",
       "      <td>47</td>\n",
       "      <td>20529</td>\n",
       "      <td>51</td>\n",
       "      <td>59</td>\n",
       "      <td>3</td>\n",
       "      <td>Uniform Required: plain white collared shirt, ...</td>\n",
       "      <td>Extended Day Program, Student Summer Orientati...</td>\n",
       "      <td>Calculus AB, English Language and Composition,...</td>\n",
       "      <td>4157360001</td>\n",
       "      <td>4300730</td>\n",
       "      <td>...</td>\n",
       "      <td>Frederick Douglass Academy VI High School</td>\n",
       "      <td>Step Team, Modern Dance, Hip Hop Dance</td>\n",
       "      <td>NaN</td>\n",
       "      <td>This school will provide students with disabil...</td>\n",
       "      <td>7:45 AM</td>\n",
       "      <td>NY</td>\n",
       "      <td>A to Beach 25th St-Wavecrest</td>\n",
       "      <td>412</td>\n",
       "      <td>http://schools.nyc.gov/schoolportals/27/Q260</td>\n",
       "      <td>11691</td>\n",
       "    </tr>\n",
       "    <tr>\n",
       "      <th>1</th>\n",
       "      <td>45</td>\n",
       "      <td>17616</td>\n",
       "      <td>21</td>\n",
       "      <td>35</td>\n",
       "      <td>2</td>\n",
       "      <td>Our school requires completion of a Common Cor...</td>\n",
       "      <td>NaN</td>\n",
       "      <td>NaN</td>\n",
       "      <td>3068830001</td>\n",
       "      <td>3186454</td>\n",
       "      <td>...</td>\n",
       "      <td>Life Academy High School for Film and Music</td>\n",
       "      <td>NaN</td>\n",
       "      <td>NaN</td>\n",
       "      <td>This school will provide students with disabil...</td>\n",
       "      <td>8:15 AM</td>\n",
       "      <td>NY</td>\n",
       "      <td>D to 25th Ave ; N to Ave U ; N to Gravesend - ...</td>\n",
       "      <td>260</td>\n",
       "      <td>http://schools.nyc.gov/schoolportals/21/K559</td>\n",
       "      <td>11214</td>\n",
       "    </tr>\n",
       "  </tbody>\n",
       "</table>\n",
       "<p>2 rows × 73 columns</p>\n",
       "</div>"
      ],
      "text/plain": [
       "  :@computed_region_92fq_4b7q :@computed_region_efsh_h5xi  \\\n",
       "0                          47                       20529   \n",
       "1                          45                       17616   \n",
       "\n",
       "  :@computed_region_f5dn_yrer :@computed_region_sbqj_enih  \\\n",
       "0                          51                          59   \n",
       "1                          21                          35   \n",
       "\n",
       "  :@computed_region_yeji_bk3q  \\\n",
       "0                           3   \n",
       "1                           2   \n",
       "\n",
       "                                         addtl_info1  \\\n",
       "0  Uniform Required: plain white collared shirt, ...   \n",
       "1  Our school requires completion of a Common Cor...   \n",
       "\n",
       "                                         addtl_info2  \\\n",
       "0  Extended Day Program, Student Summer Orientati...   \n",
       "1                                                NaN   \n",
       "\n",
       "                           advancedplacement_courses         bbl      bin  \\\n",
       "0  Calculus AB, English Language and Composition,...  4157360001  4300730   \n",
       "1                                                NaN  3068830001  3186454   \n",
       "\n",
       "   ...                                    school_name  \\\n",
       "0  ...      Frederick Douglass Academy VI High School   \n",
       "1  ...    Life Academy High School for Film and Music   \n",
       "\n",
       "                            school_sports school_type  \\\n",
       "0  Step Team, Modern Dance, Hip Hop Dance         NaN   \n",
       "1                                     NaN         NaN   \n",
       "\n",
       "                                         se_services start_time state_code  \\\n",
       "0  This school will provide students with disabil...    7:45 AM         NY   \n",
       "1  This school will provide students with disabil...    8:15 AM         NY   \n",
       "\n",
       "                                              subway total_students  \\\n",
       "0                       A to Beach 25th St-Wavecrest            412   \n",
       "1  D to 25th Ave ; N to Ave U ; N to Gravesend - ...            260   \n",
       "\n",
       "                                        website    zip  \n",
       "0  http://schools.nyc.gov/schoolportals/27/Q260  11691  \n",
       "1  http://schools.nyc.gov/schoolportals/21/K559  11214  \n",
       "\n",
       "[2 rows x 73 columns]"
      ]
     },
     "execution_count": 27,
     "metadata": {},
     "output_type": "execute_result"
    }
   ],
   "source": [
    "highschool.head(2)"
   ]
  },
  {
   "cell_type": "code",
   "execution_count": 28,
   "metadata": {
    "scrolled": true
   },
   "outputs": [],
   "source": [
    "# highschool.info()"
   ]
  },
  {
   "cell_type": "code",
   "execution_count": 29,
   "metadata": {},
   "outputs": [
    {
     "data": {
      "text/plain": [
       "{':@computed_region_92fq_4b7q': str,\n",
       " ':@computed_region_efsh_h5xi': str,\n",
       " ':@computed_region_f5dn_yrer': str,\n",
       " ':@computed_region_sbqj_enih': str,\n",
       " ':@computed_region_yeji_bk3q': str,\n",
       " 'addtl_info1': str,\n",
       " 'addtl_info2': float,\n",
       " 'advancedplacement_courses': float,\n",
       " 'bbl': str,\n",
       " 'bin': str,\n",
       " 'boro': str,\n",
       " 'building_code': str,\n",
       " 'bus': str,\n",
       " 'campus_name': str,\n",
       " 'census_tract': str,\n",
       " 'city': str,\n",
       " 'community_board': str,\n",
       " 'council_district': str,\n",
       " 'dbn': str,\n",
       " 'ell_programs': str,\n",
       " 'end_time': str,\n",
       " 'expgrade_span_max': float,\n",
       " 'expgrade_span_min': float,\n",
       " 'extracurricular_activities': str,\n",
       " 'fax_number': str,\n",
       " 'grade_span_max': str,\n",
       " 'grade_span_min': str,\n",
       " 'language_classes': str,\n",
       " 'location_1': dict,\n",
       " 'location_1_address': str,\n",
       " 'location_1_city': str,\n",
       " 'location_1_state': str,\n",
       " 'location_1_zip': str,\n",
       " 'nta': str,\n",
       " 'number_programs': str,\n",
       " 'online_ap_courses': str,\n",
       " 'online_language_courses': float,\n",
       " 'overview_paragraph': str,\n",
       " 'partner_cbo': str,\n",
       " 'partner_corporate': str,\n",
       " 'partner_cultural': str,\n",
       " 'partner_financial': float,\n",
       " 'partner_highered': str,\n",
       " 'partner_hospital': float,\n",
       " 'partner_nonprofit': str,\n",
       " 'partner_other': float,\n",
       " 'phone_number': str,\n",
       " 'primary_address_line_1': str,\n",
       " 'priority01': str,\n",
       " 'priority02': str,\n",
       " 'priority03': float,\n",
       " 'priority04': float,\n",
       " 'priority05': float,\n",
       " 'priority06': float,\n",
       " 'priority07': float,\n",
       " 'priority08': float,\n",
       " 'priority09': float,\n",
       " 'priority10': float,\n",
       " 'program_highlights': str,\n",
       " 'psal_sports_boys': str,\n",
       " 'psal_sports_coed': str,\n",
       " 'psal_sports_girls': str,\n",
       " 'school_accessibility_description': str,\n",
       " 'school_name': str,\n",
       " 'school_sports': float,\n",
       " 'school_type': float,\n",
       " 'se_services': str,\n",
       " 'start_time': str,\n",
       " 'state_code': str,\n",
       " 'subway': str,\n",
       " 'total_students': str,\n",
       " 'website': str,\n",
       " 'zip': str}"
      ]
     },
     "execution_count": 29,
     "metadata": {},
     "output_type": "execute_result"
    }
   ],
   "source": [
    "data_type_format(highschool)"
   ]
  },
  {
   "cell_type": "code",
   "execution_count": 30,
   "metadata": {},
   "outputs": [
    {
     "data": {
      "text/plain": [
       ":@computed_region_92fq_4b7q           0\n",
       ":@computed_region_efsh_h5xi           1\n",
       ":@computed_region_f5dn_yrer           0\n",
       ":@computed_region_sbqj_enih           0\n",
       ":@computed_region_yeji_bk3q           0\n",
       "addtl_info1                          81\n",
       "addtl_info2                         204\n",
       "advancedplacement_courses            95\n",
       "bbl                                   4\n",
       "bin                                   4\n",
       "boro                                  0\n",
       "building_code                         0\n",
       "bus                                   0\n",
       "campus_name                           0\n",
       "census_tract                          3\n",
       "city                                  0\n",
       "community_board                       3\n",
       "council_district                      3\n",
       "dbn                                   0\n",
       "ell_programs                          0\n",
       "end_time                              4\n",
       "expgrade_span_max                   402\n",
       "expgrade_span_min                   404\n",
       "extracurricular_activities            0\n",
       "fax_number                            0\n",
       "grade_span_max                        0\n",
       "grade_span_min                        3\n",
       "language_classes                     23\n",
       "location_1                            0\n",
       "location_1_address                    0\n",
       "                                   ... \n",
       "partner_hospital                    238\n",
       "partner_nonprofit                   137\n",
       "partner_other                       247\n",
       "phone_number                          0\n",
       "primary_address_line_1                0\n",
       "priority01                            0\n",
       "priority02                           83\n",
       "priority03                          192\n",
       "priority04                          258\n",
       "priority05                          396\n",
       "priority06                          418\n",
       "priority07                          431\n",
       "priority08                          434\n",
       "priority09                          434\n",
       "priority10                          434\n",
       "program_highlights                    1\n",
       "psal_sports_boys                     62\n",
       "psal_sports_coed                    288\n",
       "psal_sports_girls                    62\n",
       "school_accessibility_description      0\n",
       "school_name                           0\n",
       "school_sports                       138\n",
       "school_type                         331\n",
       "se_services                           0\n",
       "start_time                            4\n",
       "state_code                            0\n",
       "subway                                0\n",
       "total_students                        9\n",
       "website                               5\n",
       "zip                                   0\n",
       "Length: 73, dtype: int64"
      ]
     },
     "execution_count": 30,
     "metadata": {},
     "output_type": "execute_result"
    }
   ],
   "source": [
    "highschool.isnull().sum()"
   ]
  },
  {
   "cell_type": "markdown",
   "metadata": {},
   "source": [
    "Import data set 4: 2012 SAT Results"
   ]
  },
  {
   "cell_type": "code",
   "execution_count": 31,
   "metadata": {},
   "outputs": [],
   "source": [
    "sat_results = df_from_json(\"https://data.cityofnewyork.us/resource/734v-jeq5.json\") \n"
   ]
  },
  {
   "cell_type": "code",
   "execution_count": 32,
   "metadata": {},
   "outputs": [
    {
     "data": {
      "text/html": [
       "<div>\n",
       "<style>\n",
       "    .dataframe thead tr:only-child th {\n",
       "        text-align: right;\n",
       "    }\n",
       "\n",
       "    .dataframe thead th {\n",
       "        text-align: left;\n",
       "    }\n",
       "\n",
       "    .dataframe tbody tr th {\n",
       "        vertical-align: top;\n",
       "    }\n",
       "</style>\n",
       "<table border=\"1\" class=\"dataframe\">\n",
       "  <thead>\n",
       "    <tr style=\"text-align: right;\">\n",
       "      <th></th>\n",
       "      <th>dbn</th>\n",
       "      <th>num_of_sat_test_takers</th>\n",
       "      <th>sat_critical_reading_avg_score</th>\n",
       "      <th>sat_math_avg_score</th>\n",
       "      <th>sat_writing_avg_score</th>\n",
       "      <th>school_name</th>\n",
       "    </tr>\n",
       "  </thead>\n",
       "  <tbody>\n",
       "    <tr>\n",
       "      <th>0</th>\n",
       "      <td>01M292</td>\n",
       "      <td>29</td>\n",
       "      <td>355</td>\n",
       "      <td>404</td>\n",
       "      <td>363</td>\n",
       "      <td>HENRY STREET SCHOOL FOR INTERNATIONAL STUDIES</td>\n",
       "    </tr>\n",
       "    <tr>\n",
       "      <th>1</th>\n",
       "      <td>01M448</td>\n",
       "      <td>91</td>\n",
       "      <td>383</td>\n",
       "      <td>423</td>\n",
       "      <td>366</td>\n",
       "      <td>UNIVERSITY NEIGHBORHOOD HIGH SCHOOL</td>\n",
       "    </tr>\n",
       "    <tr>\n",
       "      <th>2</th>\n",
       "      <td>01M450</td>\n",
       "      <td>70</td>\n",
       "      <td>377</td>\n",
       "      <td>402</td>\n",
       "      <td>370</td>\n",
       "      <td>EAST SIDE COMMUNITY SCHOOL</td>\n",
       "    </tr>\n",
       "  </tbody>\n",
       "</table>\n",
       "</div>"
      ],
      "text/plain": [
       "      dbn num_of_sat_test_takers sat_critical_reading_avg_score  \\\n",
       "0  01M292                     29                            355   \n",
       "1  01M448                     91                            383   \n",
       "2  01M450                     70                            377   \n",
       "\n",
       "  sat_math_avg_score sat_writing_avg_score  \\\n",
       "0                404                   363   \n",
       "1                423                   366   \n",
       "2                402                   370   \n",
       "\n",
       "                                     school_name  \n",
       "0  HENRY STREET SCHOOL FOR INTERNATIONAL STUDIES  \n",
       "1            UNIVERSITY NEIGHBORHOOD HIGH SCHOOL  \n",
       "2                     EAST SIDE COMMUNITY SCHOOL  "
      ]
     },
     "execution_count": 32,
     "metadata": {},
     "output_type": "execute_result"
    }
   ],
   "source": [
    "sat_results.head(3)"
   ]
  },
  {
   "cell_type": "code",
   "execution_count": 33,
   "metadata": {},
   "outputs": [
    {
     "name": "stdout",
     "output_type": "stream",
     "text": [
      "<class 'pandas.core.frame.DataFrame'>\n",
      "RangeIndex: 478 entries, 0 to 477\n",
      "Data columns (total 6 columns):\n",
      "dbn                               478 non-null object\n",
      "num_of_sat_test_takers            478 non-null object\n",
      "sat_critical_reading_avg_score    478 non-null object\n",
      "sat_math_avg_score                478 non-null object\n",
      "sat_writing_avg_score             478 non-null object\n",
      "school_name                       478 non-null object\n",
      "dtypes: object(6)\n",
      "memory usage: 22.5+ KB\n"
     ]
    }
   ],
   "source": [
    "sat_results.info()"
   ]
  },
  {
   "cell_type": "code",
   "execution_count": 34,
   "metadata": {},
   "outputs": [
    {
     "data": {
      "text/plain": [
       "{'dbn': str,\n",
       " 'num_of_sat_test_takers': str,\n",
       " 'sat_critical_reading_avg_score': str,\n",
       " 'sat_math_avg_score': str,\n",
       " 'sat_writing_avg_score': str,\n",
       " 'school_name': str}"
      ]
     },
     "execution_count": 34,
     "metadata": {},
     "output_type": "execute_result"
    }
   ],
   "source": [
    "data_type_format(sat_results)"
   ]
  },
  {
   "cell_type": "code",
   "execution_count": 35,
   "metadata": {},
   "outputs": [
    {
     "data": {
      "text/plain": [
       "dbn                               0\n",
       "num_of_sat_test_takers            0\n",
       "sat_critical_reading_avg_score    0\n",
       "sat_math_avg_score                0\n",
       "sat_writing_avg_score             0\n",
       "school_name                       0\n",
       "dtype: int64"
      ]
     },
     "execution_count": 35,
     "metadata": {},
     "output_type": "execute_result"
    }
   ],
   "source": [
    "sat_results.isnull().sum()"
   ]
  },
  {
   "cell_type": "markdown",
   "metadata": {},
   "source": [
    "#### Reading in files from directory using glob and store theses in a dictionary<br>\n",
    "(The data files are not updated and remain static.)"
   ]
  },
  {
   "cell_type": "code",
   "execution_count": 36,
   "metadata": {},
   "outputs": [
    {
     "name": "stdout",
     "output_type": "stream",
     "text": [
      "['AP__College_Board.csv', 'Class_Size.csv', 'Graduation_Outcomes.csv', 'High_School_Directory.csv', 'SAT_Results.csv', 'School_Demographics.csv', 'School_Level.csv']\n"
     ]
    }
   ],
   "source": [
    "# Create a list from csv-files stored in a directory schools\n",
    "schools_list = []\n",
    "for name in glob.glob(\"data-master/schools/*csv\"):\n",
    "    # Use os.path.basename to retrieve only the name without path\n",
    "    name_none_path = os.path.basename(name)\n",
    "    schools_list.append(name_none_path)\n",
    "    \n",
    "print(schools_list)"
   ]
  },
  {
   "cell_type": "code",
   "execution_count": 37,
   "metadata": {},
   "outputs": [
    {
     "name": "stdout",
     "output_type": "stream",
     "text": [
      "dict_keys(['AP__College_Board', 'Class_Size', 'Graduation_Outcomes', 'High_School_Directory', 'SAT_Results', 'School_Demographics', 'School_Level'])\n"
     ]
    }
   ],
   "source": [
    "# Create a dictionary whereby key names are the names of the csv files without the suffix \".csv\"\n",
    "\n",
    "schools_data = dict()\n",
    "\n",
    "for f in schools_list:\n",
    "    d = pd.read_csv(\"data-master/schools/{0}\".format(f)) \n",
    "    key_name = f.replace(\".csv\", \"\")\n",
    "    schools_data[key_name] = d\n",
    "\n",
    "print(schools_data.keys())    "
   ]
  },
  {
   "cell_type": "code",
   "execution_count": 38,
   "metadata": {},
   "outputs": [
    {
     "name": "stdout",
     "output_type": "stream",
     "text": [
      "      DBN                                    SCHOOL NAME  \\\n",
      "0  01M292  HENRY STREET SCHOOL FOR INTERNATIONAL STUDIES   \n",
      "1  01M448            UNIVERSITY NEIGHBORHOOD HIGH SCHOOL   \n",
      "2  01M450                     EAST SIDE COMMUNITY SCHOOL   \n",
      "3  01M458                      FORSYTH SATELLITE ACADEMY   \n",
      "4  01M509                        MARTA VALLE HIGH SCHOOL   \n",
      "\n",
      "  Num of SAT Test Takers SAT Critical Reading Avg. Score SAT Math Avg. Score  \\\n",
      "0                     29                             355                 404   \n",
      "1                     91                             383                 423   \n",
      "2                     70                             377                 402   \n",
      "3                      7                             414                 401   \n",
      "4                     44                             390                 433   \n",
      "\n",
      "  SAT Writing Avg. Score  \n",
      "0                    363  \n",
      "1                    366  \n",
      "2                    370  \n",
      "3                    359  \n",
      "4                    384  \n"
     ]
    }
   ],
   "source": [
    "print(schools_data[\"SAT_Results\"].head(5))"
   ]
  },
  {
   "cell_type": "markdown",
   "metadata": {},
   "source": [
    "Displaying the first five rows of the dataframe associated with the key."
   ]
  },
  {
   "cell_type": "code",
   "execution_count": 39,
   "metadata": {},
   "outputs": [
    {
     "name": "stdout",
     "output_type": "stream",
     "text": [
      "['DBN' 'SchoolName' 'AP Test Takers ' 'Total Exams Taken'\n",
      " 'Number of Exams with scores 3 4 or 5']\n",
      "['CSD' 'BOROUGH' 'SCHOOL CODE' 'SCHOOL NAME' 'GRADE ' 'PROGRAM TYPE'\n",
      " 'CORE SUBJECT (MS CORE and 9-12 ONLY)'\n",
      " 'CORE COURSE (MS CORE and 9-12 ONLY)' 'SERVICE CATEGORY(K-9* ONLY)'\n",
      " 'NUMBER OF STUDENTS / SEATS FILLED' 'NUMBER OF SECTIONS'\n",
      " 'AVERAGE CLASS SIZE' 'SIZE OF SMALLEST CLASS' 'SIZE OF LARGEST CLASS'\n",
      " 'DATA SOURCE' 'SCHOOLWIDE PUPIL-TEACHER RATIO']\n",
      "['Demographic' 'DBN' 'School Name' 'Cohort' 'Total Cohort'\n",
      " 'Total Grads - n' 'Total Grads - % of cohort' 'Total Regents - n'\n",
      " 'Total Regents - % of cohort' 'Total Regents - % of grads'\n",
      " 'Advanced Regents - n' 'Advanced Regents - % of cohort'\n",
      " 'Advanced Regents - % of grads' 'Regents w/o Advanced - n'\n",
      " 'Regents w/o Advanced - % of cohort' 'Regents w/o Advanced - % of grads'\n",
      " 'Local - n' 'Local - % of cohort' 'Local - % of grads'\n",
      " 'Still Enrolled - n' 'Still Enrolled - % of cohort' 'Dropped Out - n'\n",
      " 'Dropped Out - % of cohort']\n",
      "['dbn' 'school_name' 'borough' 'building_code' 'phone_number' 'fax_number'\n",
      " 'grade_span_min' 'grade_span_max' 'expgrade_span_min' 'expgrade_span_max'\n",
      " 'bus' 'subway' 'primary_address_line_1' 'city' 'state_code' 'postcode'\n",
      " 'website' 'total_students' 'campus_name' 'school_type'\n",
      " 'overview_paragraph' 'program_highlights' 'language_classes'\n",
      " 'advancedplacement_courses' 'online_ap_courses' 'online_language_courses'\n",
      " 'extracurricular_activities' 'psal_sports_boys' 'psal_sports_girls'\n",
      " 'psal_sports_coed' 'school_sports' 'partner_cbo' 'partner_hospital'\n",
      " 'partner_highered' 'partner_cultural' 'partner_nonprofit'\n",
      " 'partner_corporate' 'partner_financial' 'partner_other' 'addtl_info1'\n",
      " 'addtl_info2' 'start_time' 'end_time' 'se_services' 'ell_programs'\n",
      " 'school_accessibility_description' 'number_programs' 'priority01'\n",
      " 'priority02' 'priority03' 'priority04' 'priority05' 'priority06'\n",
      " 'priority07' 'priority08' 'priority09' 'priority10' 'Location 1'\n",
      " 'Community Board' 'Council District' 'Census Tract' 'BIN' 'BBL' 'NTA']\n",
      "['DBN' 'SCHOOL NAME' 'Num of SAT Test Takers'\n",
      " 'SAT Critical Reading Avg. Score' 'SAT Math Avg. Score'\n",
      " 'SAT Writing Avg. Score']\n",
      "['DBN' 'Name' 'schoolyear' 'fl_percent' 'frl_percent' 'total_enrollment'\n",
      " 'prek' 'k' 'grade1' 'grade2' 'grade3' 'grade4' 'grade5' 'grade6' 'grade7'\n",
      " 'grade8' 'grade9' 'grade10' 'grade11' 'grade12' 'ell_num' 'ell_percent'\n",
      " 'sped_num' 'sped_percent' 'ctt_num' 'selfcontained_num' 'asian_num'\n",
      " 'asian_per' 'black_num' 'black_per' 'hispanic_num' 'hispanic_per'\n",
      " 'white_num' 'white_per' 'male_num' 'male_per' 'female_num' 'female_per']\n",
      "['Demographic' 'DBN' 'School Name' 'Cohort' 'Total Cohort'\n",
      " 'Total Grads - n' 'Total Grads - % of cohort' 'Total Regents - n'\n",
      " 'Total Regents - % of cohort' 'Total Regents - % of grads'\n",
      " 'Advanced Regents - n' 'Advanced Regents - % of cohort'\n",
      " 'Advanced Regents - % of grads' 'Regents w/o Advanced - n'\n",
      " 'Regents w/o Advanced - % of cohort' 'Regents w/o Advanced - % of grads'\n",
      " 'Local - n' 'Local - % of cohort' 'Local - % of grads'\n",
      " 'Still Enrolled - n' 'Still Enrolled - % of cohort' 'Dropped Out - n'\n",
      " 'Dropped Out - % of cohort']\n"
     ]
    }
   ],
   "source": [
    "for key in schools_data.keys():\n",
    "    print(schools_data[key].columns.values)"
   ]
  },
  {
   "cell_type": "markdown",
   "metadata": {},
   "source": [
    "Most df have a dbn identification column. This identification variable is usefull for combining the data frames."
   ]
  },
  {
   "cell_type": "markdown",
   "metadata": {},
   "source": [
    "Read in surveys of parents, teachers, and students at each school<br>\n",
    "(Also data on surveys from New York City district 75)"
   ]
  },
  {
   "cell_type": "code",
   "execution_count": 40,
   "metadata": {},
   "outputs": [
    {
     "data": {
      "text/html": [
       "<div>\n",
       "<style>\n",
       "    .dataframe thead tr:only-child th {\n",
       "        text-align: right;\n",
       "    }\n",
       "\n",
       "    .dataframe thead th {\n",
       "        text-align: left;\n",
       "    }\n",
       "\n",
       "    .dataframe tbody tr th {\n",
       "        vertical-align: top;\n",
       "    }\n",
       "</style>\n",
       "<table border=\"1\" class=\"dataframe\">\n",
       "  <thead>\n",
       "    <tr style=\"text-align: right;\">\n",
       "      <th></th>\n",
       "      <th>N_p</th>\n",
       "      <th>N_s</th>\n",
       "      <th>N_t</th>\n",
       "      <th>aca_p_11</th>\n",
       "      <th>aca_s_11</th>\n",
       "      <th>aca_t_11</th>\n",
       "      <th>aca_tot_11</th>\n",
       "      <th>bn</th>\n",
       "      <th>com_p_11</th>\n",
       "      <th>com_s_11</th>\n",
       "      <th>...</th>\n",
       "      <th>t_q8c_1</th>\n",
       "      <th>t_q8c_2</th>\n",
       "      <th>t_q8c_3</th>\n",
       "      <th>t_q8c_4</th>\n",
       "      <th>t_q9</th>\n",
       "      <th>t_q9_1</th>\n",
       "      <th>t_q9_2</th>\n",
       "      <th>t_q9_3</th>\n",
       "      <th>t_q9_4</th>\n",
       "      <th>t_q9_5</th>\n",
       "    </tr>\n",
       "  </thead>\n",
       "  <tbody>\n",
       "    <tr>\n",
       "      <th>0</th>\n",
       "      <td>90.0</td>\n",
       "      <td>NaN</td>\n",
       "      <td>22.0</td>\n",
       "      <td>7.8</td>\n",
       "      <td>NaN</td>\n",
       "      <td>7.9</td>\n",
       "      <td>7.9</td>\n",
       "      <td>M015</td>\n",
       "      <td>7.6</td>\n",
       "      <td>NaN</td>\n",
       "      <td>...</td>\n",
       "      <td>29.0</td>\n",
       "      <td>67.0</td>\n",
       "      <td>5.0</td>\n",
       "      <td>0.0</td>\n",
       "      <td>NaN</td>\n",
       "      <td>5.0</td>\n",
       "      <td>14.0</td>\n",
       "      <td>52.0</td>\n",
       "      <td>24.0</td>\n",
       "      <td>5.0</td>\n",
       "    </tr>\n",
       "    <tr>\n",
       "      <th>1</th>\n",
       "      <td>161.0</td>\n",
       "      <td>NaN</td>\n",
       "      <td>34.0</td>\n",
       "      <td>7.8</td>\n",
       "      <td>NaN</td>\n",
       "      <td>9.1</td>\n",
       "      <td>8.4</td>\n",
       "      <td>M019</td>\n",
       "      <td>7.6</td>\n",
       "      <td>NaN</td>\n",
       "      <td>...</td>\n",
       "      <td>74.0</td>\n",
       "      <td>21.0</td>\n",
       "      <td>6.0</td>\n",
       "      <td>0.0</td>\n",
       "      <td>NaN</td>\n",
       "      <td>3.0</td>\n",
       "      <td>6.0</td>\n",
       "      <td>3.0</td>\n",
       "      <td>78.0</td>\n",
       "      <td>9.0</td>\n",
       "    </tr>\n",
       "    <tr>\n",
       "      <th>2</th>\n",
       "      <td>367.0</td>\n",
       "      <td>NaN</td>\n",
       "      <td>42.0</td>\n",
       "      <td>8.6</td>\n",
       "      <td>NaN</td>\n",
       "      <td>7.5</td>\n",
       "      <td>8.0</td>\n",
       "      <td>M020</td>\n",
       "      <td>8.3</td>\n",
       "      <td>NaN</td>\n",
       "      <td>...</td>\n",
       "      <td>33.0</td>\n",
       "      <td>35.0</td>\n",
       "      <td>20.0</td>\n",
       "      <td>13.0</td>\n",
       "      <td>NaN</td>\n",
       "      <td>3.0</td>\n",
       "      <td>5.0</td>\n",
       "      <td>16.0</td>\n",
       "      <td>70.0</td>\n",
       "      <td>5.0</td>\n",
       "    </tr>\n",
       "  </tbody>\n",
       "</table>\n",
       "<p>3 rows × 2773 columns</p>\n",
       "</div>"
      ],
      "text/plain": [
       "     N_p  N_s   N_t  aca_p_11  aca_s_11  aca_t_11  aca_tot_11    bn  com_p_11  \\\n",
       "0   90.0  NaN  22.0       7.8       NaN       7.9         7.9  M015       7.6   \n",
       "1  161.0  NaN  34.0       7.8       NaN       9.1         8.4  M019       7.6   \n",
       "2  367.0  NaN  42.0       8.6       NaN       7.5         8.0  M020       8.3   \n",
       "\n",
       "   com_s_11   ...    t_q8c_1  t_q8c_2  t_q8c_3 t_q8c_4  t_q9  t_q9_1  t_q9_2  \\\n",
       "0       NaN   ...       29.0     67.0      5.0     0.0   NaN     5.0    14.0   \n",
       "1       NaN   ...       74.0     21.0      6.0     0.0   NaN     3.0     6.0   \n",
       "2       NaN   ...       33.0     35.0     20.0    13.0   NaN     3.0     5.0   \n",
       "\n",
       "   t_q9_3  t_q9_4  t_q9_5  \n",
       "0    52.0    24.0     5.0  \n",
       "1     3.0    78.0     9.0  \n",
       "2    16.0    70.0     5.0  \n",
       "\n",
       "[3 rows x 2773 columns]"
      ]
     },
     "execution_count": 40,
     "metadata": {},
     "output_type": "execute_result"
    }
   ],
   "source": [
    "all_survey = pd.read_csv(\"data-master/schools/all_survey.txt\", delimiter=\"\\t\", encoding=\"windows-1252\")\n",
    "d75_survey = pd.read_csv(\"data-master/schools/d75_survey.txt\", delimiter=\"\\t\", encoding=\"windows-1252\")\n",
    "#  pd.concat([x,y], axis=0)\n",
    "survey  = pd.concat([all_survey, d75_survey], axis=0)\n",
    "survey.head(3)"
   ]
  },
  {
   "cell_type": "code",
   "execution_count": 41,
   "metadata": {},
   "outputs": [
    {
     "data": {
      "text/plain": [
       "(1702, 2773)"
      ]
     },
     "execution_count": 41,
     "metadata": {},
     "output_type": "execute_result"
    }
   ],
   "source": [
    "survey.shape"
   ]
  },
  {
   "cell_type": "markdown",
   "metadata": {},
   "source": [
    "There are 2773 columns. Which variables are needed out of this?"
   ]
  },
  {
   "cell_type": "code",
   "execution_count": 42,
   "metadata": {},
   "outputs": [
    {
     "data": {
      "text/plain": [
       "array(['N_p', 'N_s', 'N_t', 'aca_p_11', 'aca_s_11', 'aca_t_11',\n",
       "       'aca_tot_11', 'bn', 'com_p_11', 'com_s_11'], dtype=object)"
      ]
     },
     "execution_count": 42,
     "metadata": {},
     "output_type": "execute_result"
    }
   ],
   "source": [
    "survey.columns.values[0:10]"
   ]
  },
  {
   "cell_type": "code",
   "execution_count": 43,
   "metadata": {},
   "outputs": [
    {
     "data": {
      "text/plain": [
       "N_p             6\n",
       "N_s           666\n",
       "N_t             2\n",
       "aca_p_11        6\n",
       "aca_s_11      666\n",
       "aca_t_11        2\n",
       "aca_tot_11      0\n",
       "bn              0\n",
       "com_p_11        6\n",
       "com_s_11      666\n",
       "dtype: int64"
      ]
     },
     "execution_count": 43,
     "metadata": {},
     "output_type": "execute_result"
    }
   ],
   "source": [
    "survey.isnull().sum()[0:10]"
   ]
  },
  {
   "cell_type": "markdown",
   "metadata": {},
   "source": [
    "Relevant variables of the survey data"
   ]
  },
  {
   "cell_type": "code",
   "execution_count": 44,
   "metadata": {},
   "outputs": [],
   "source": [
    "relevant_surveyvariables = [\"DBN\", \"rr_s\", \"rr_t\", \"rr_p\", \"N_s\", \"N_t\", \"N_p\", \"saf_p_11\", \n",
    "                            \"com_p_11\", \"eng_p_11\", \"aca_p_11\", \"saf_t_11\", \"com_t_11\", \"eng_t_11\", \"aca_t_11\", \"saf_s_11\", \"com_s_11\", \"eng_s_11\", \"aca_s_11\", \"saf_tot_11\",\n",
    "                            \"com_tot_11\", \"eng_tot_11\", \"aca_tot_11\"]"
   ]
  },
  {
   "cell_type": "code",
   "execution_count": 45,
   "metadata": {},
   "outputs": [],
   "source": [
    "survey[\"DBN\"] = survey[\"dbn\"]"
   ]
  },
  {
   "cell_type": "code",
   "execution_count": 46,
   "metadata": {},
   "outputs": [
    {
     "name": "stdout",
     "output_type": "stream",
     "text": [
      "      DBN  rr_s  rr_t  rr_p  N_s   N_t    N_p  saf_p_11  com_p_11  eng_p_11  \\\n",
      "0  01M015   NaN    88    60  NaN  22.0   90.0       8.5       7.6       7.5   \n",
      "1  01M019   NaN   100    60  NaN  34.0  161.0       8.4       7.6       7.6   \n",
      "\n",
      "      ...      eng_t_11  aca_t_11  saf_s_11  com_s_11  eng_s_11  aca_s_11  \\\n",
      "0     ...           7.6       7.9       NaN       NaN       NaN       NaN   \n",
      "1     ...           8.9       9.1       NaN       NaN       NaN       NaN   \n",
      "\n",
      "   saf_tot_11  com_tot_11  eng_tot_11  aca_tot_11  \n",
      "0         8.0         7.7         7.5         7.9  \n",
      "1         8.5         8.1         8.2         8.4  \n",
      "\n",
      "[2 rows x 23 columns]\n",
      "(1702, 23)\n"
     ]
    }
   ],
   "source": [
    "survey_reduced = survey.loc[:, relevant_surveyvariables]\n",
    "print(survey_reduced.head(2))\n",
    "print(survey_reduced.shape)"
   ]
  },
  {
   "cell_type": "code",
   "execution_count": 47,
   "metadata": {},
   "outputs": [
    {
     "name": "stdout",
     "output_type": "stream",
     "text": [
      "dict_keys(['AP__College_Board', 'Class_Size', 'Graduation_Outcomes', 'High_School_Directory', 'SAT_Results', 'School_Demographics', 'School_Level', 'survey'])\n"
     ]
    }
   ],
   "source": [
    "schools_data[\"survey\"] = survey_reduced\n",
    "print(schools_data.keys())"
   ]
  },
  {
   "cell_type": "markdown",
   "metadata": {},
   "source": [
    "Change dbn to DBN in High_School_Directory"
   ]
  },
  {
   "cell_type": "code",
   "execution_count": 48,
   "metadata": {},
   "outputs": [],
   "source": [
    "schools_data['High_School_Directory'][\"DBN\"] = schools_data['High_School_Directory'][\"dbn\"]"
   ]
  },
  {
   "cell_type": "markdown",
   "metadata": {},
   "source": [
    "Make a new DBN column for Class Size by padding CSD and combine padded CSD with the SCHOOL CODE variable"
   ]
  },
  {
   "cell_type": "code",
   "execution_count": 49,
   "metadata": {},
   "outputs": [
    {
     "data": {
      "text/html": [
       "<div>\n",
       "<style>\n",
       "    .dataframe thead tr:only-child th {\n",
       "        text-align: right;\n",
       "    }\n",
       "\n",
       "    .dataframe thead th {\n",
       "        text-align: left;\n",
       "    }\n",
       "\n",
       "    .dataframe tbody tr th {\n",
       "        vertical-align: top;\n",
       "    }\n",
       "</style>\n",
       "<table border=\"1\" class=\"dataframe\">\n",
       "  <thead>\n",
       "    <tr style=\"text-align: right;\">\n",
       "      <th></th>\n",
       "      <th>CSD</th>\n",
       "      <th>BOROUGH</th>\n",
       "      <th>SCHOOL CODE</th>\n",
       "      <th>SCHOOL NAME</th>\n",
       "      <th>GRADE</th>\n",
       "      <th>PROGRAM TYPE</th>\n",
       "      <th>CORE SUBJECT (MS CORE and 9-12 ONLY)</th>\n",
       "      <th>CORE COURSE (MS CORE and 9-12 ONLY)</th>\n",
       "      <th>SERVICE CATEGORY(K-9* ONLY)</th>\n",
       "      <th>NUMBER OF STUDENTS / SEATS FILLED</th>\n",
       "      <th>NUMBER OF SECTIONS</th>\n",
       "      <th>AVERAGE CLASS SIZE</th>\n",
       "      <th>SIZE OF SMALLEST CLASS</th>\n",
       "      <th>SIZE OF LARGEST CLASS</th>\n",
       "      <th>DATA SOURCE</th>\n",
       "      <th>SCHOOLWIDE PUPIL-TEACHER RATIO</th>\n",
       "    </tr>\n",
       "  </thead>\n",
       "  <tbody>\n",
       "    <tr>\n",
       "      <th>0</th>\n",
       "      <td>1</td>\n",
       "      <td>M</td>\n",
       "      <td>M015</td>\n",
       "      <td>P.S. 015 Roberto Clemente</td>\n",
       "      <td>0K</td>\n",
       "      <td>GEN ED</td>\n",
       "      <td>-</td>\n",
       "      <td>-</td>\n",
       "      <td>-</td>\n",
       "      <td>19.0</td>\n",
       "      <td>1.0</td>\n",
       "      <td>19.0</td>\n",
       "      <td>19.0</td>\n",
       "      <td>19.0</td>\n",
       "      <td>ATS</td>\n",
       "      <td>NaN</td>\n",
       "    </tr>\n",
       "    <tr>\n",
       "      <th>1</th>\n",
       "      <td>1</td>\n",
       "      <td>M</td>\n",
       "      <td>M015</td>\n",
       "      <td>P.S. 015 Roberto Clemente</td>\n",
       "      <td>0K</td>\n",
       "      <td>CTT</td>\n",
       "      <td>-</td>\n",
       "      <td>-</td>\n",
       "      <td>-</td>\n",
       "      <td>21.0</td>\n",
       "      <td>1.0</td>\n",
       "      <td>21.0</td>\n",
       "      <td>21.0</td>\n",
       "      <td>21.0</td>\n",
       "      <td>ATS</td>\n",
       "      <td>NaN</td>\n",
       "    </tr>\n",
       "  </tbody>\n",
       "</table>\n",
       "</div>"
      ],
      "text/plain": [
       "   CSD BOROUGH SCHOOL CODE                SCHOOL NAME GRADE  PROGRAM TYPE  \\\n",
       "0    1       M        M015  P.S. 015 Roberto Clemente     0K       GEN ED   \n",
       "1    1       M        M015  P.S. 015 Roberto Clemente     0K          CTT   \n",
       "\n",
       "  CORE SUBJECT (MS CORE and 9-12 ONLY) CORE COURSE (MS CORE and 9-12 ONLY)  \\\n",
       "0                                    -                                   -   \n",
       "1                                    -                                   -   \n",
       "\n",
       "  SERVICE CATEGORY(K-9* ONLY)  NUMBER OF STUDENTS / SEATS FILLED  \\\n",
       "0                           -                               19.0   \n",
       "1                           -                               21.0   \n",
       "\n",
       "   NUMBER OF SECTIONS  AVERAGE CLASS SIZE  SIZE OF SMALLEST CLASS  \\\n",
       "0                 1.0                19.0                    19.0   \n",
       "1                 1.0                21.0                    21.0   \n",
       "\n",
       "   SIZE OF LARGEST CLASS DATA SOURCE  SCHOOLWIDE PUPIL-TEACHER RATIO  \n",
       "0                   19.0         ATS                             NaN  \n",
       "1                   21.0         ATS                             NaN  "
      ]
     },
     "execution_count": 49,
     "metadata": {},
     "output_type": "execute_result"
    }
   ],
   "source": [
    "schools_data['Class_Size'].head(2)"
   ]
  },
  {
   "cell_type": "code",
   "execution_count": 50,
   "metadata": {},
   "outputs": [],
   "source": [
    "def padd_digit(variable):\n",
    "    padded_list = []\n",
    "    for i in range(0, len(variable)):\n",
    "        \n",
    "        h = str(variable[i])\n",
    "        if len(h) == 2:\n",
    "            padded_list.append(h)\n",
    "        elif len(h) == 1:\n",
    "            u = h.zfill(2)\n",
    "            padded_list.append(u)\n",
    "            \n",
    "    padded_series = pd.Series(padded_list)\n",
    "    return padded_series\n",
    "\n"
   ]
  },
  {
   "cell_type": "code",
   "execution_count": 51,
   "metadata": {},
   "outputs": [
    {
     "name": "stdout",
     "output_type": "stream",
     "text": [
      "0    01\n",
      "1    01\n",
      "2    01\n",
      "3    01\n",
      "4    01\n",
      "5    01\n",
      "6    01\n",
      "7    01\n",
      "8    01\n",
      "9    01\n",
      "dtype: object\n"
     ]
    }
   ],
   "source": [
    "n = schools_data['Class_Size']['CSD']    \n",
    "t = padd_digit(schools_data['Class_Size']['CSD'])\n",
    "\n",
    "print(t[0:10])\n",
    "schools_data['Class_Size']['CSD'] = t\n",
    "\n",
    "schools_data[\"Class_Size\"][\"DBN\"] = schools_data[\"Class_Size\"][\"CSD\"] + schools_data[\"Class_Size\"][\"SCHOOL CODE\"]\n"
   ]
  },
  {
   "cell_type": "code",
   "execution_count": 52,
   "metadata": {},
   "outputs": [
    {
     "name": "stdout",
     "output_type": "stream",
     "text": [
      "  CSD BOROUGH SCHOOL CODE                SCHOOL NAME GRADE  PROGRAM TYPE  \\\n",
      "0  01       M        M015  P.S. 015 Roberto Clemente     0K       GEN ED   \n",
      "1  01       M        M015  P.S. 015 Roberto Clemente     0K          CTT   \n",
      "2  01       M        M015  P.S. 015 Roberto Clemente     01       GEN ED   \n",
      "\n",
      "  CORE SUBJECT (MS CORE and 9-12 ONLY) CORE COURSE (MS CORE and 9-12 ONLY)  \\\n",
      "0                                    -                                   -   \n",
      "1                                    -                                   -   \n",
      "2                                    -                                   -   \n",
      "\n",
      "  SERVICE CATEGORY(K-9* ONLY)  NUMBER OF STUDENTS / SEATS FILLED  \\\n",
      "0                           -                               19.0   \n",
      "1                           -                               21.0   \n",
      "2                           -                               17.0   \n",
      "\n",
      "   NUMBER OF SECTIONS  AVERAGE CLASS SIZE  SIZE OF SMALLEST CLASS  \\\n",
      "0                 1.0                19.0                    19.0   \n",
      "1                 1.0                21.0                    21.0   \n",
      "2                 1.0                17.0                    17.0   \n",
      "\n",
      "   SIZE OF LARGEST CLASS DATA SOURCE  SCHOOLWIDE PUPIL-TEACHER RATIO     DBN  \n",
      "0                   19.0         ATS                             NaN  01M015  \n",
      "1                   21.0         ATS                             NaN  01M015  \n",
      "2                   17.0         ATS                             NaN  01M015  \n"
     ]
    }
   ],
   "source": [
    "print(schools_data['Class_Size'].head(3) )"
   ]
  },
  {
   "cell_type": "code",
   "execution_count": 53,
   "metadata": {},
   "outputs": [
    {
     "name": "stdout",
     "output_type": "stream",
     "text": [
      "Index(['CSD', 'BOROUGH', 'SCHOOL CODE', 'SCHOOL NAME', 'GRADE ',\n",
      "       'PROGRAM TYPE', 'CORE SUBJECT (MS CORE and 9-12 ONLY)',\n",
      "       'CORE COURSE (MS CORE and 9-12 ONLY)', 'SERVICE CATEGORY(K-9* ONLY)',\n",
      "       'NUMBER OF STUDENTS / SEATS FILLED', 'NUMBER OF SECTIONS',\n",
      "       'AVERAGE CLASS SIZE', 'SIZE OF SMALLEST CLASS', 'SIZE OF LARGEST CLASS',\n",
      "       'DATA SOURCE', 'SCHOOLWIDE PUPIL-TEACHER RATIO', 'DBN'],\n",
      "      dtype='object')\n",
      "0     01M015\n",
      "1     01M015\n",
      "2     01M015\n",
      "3     01M015\n",
      "4     01M015\n",
      "5     01M015\n",
      "6     01M015\n",
      "7     01M015\n",
      "8     01M015\n",
      "9     01M015\n",
      "10    01M015\n",
      "Name: DBN, dtype: object\n",
      "2000    02M475\n",
      "2001    02M475\n",
      "2002    02M475\n",
      "2003    02M475\n",
      "2004    02M475\n",
      "2005    02M475\n",
      "2006    02M475\n",
      "2007    02M475\n",
      "2008    02M475\n",
      "2009    02M489\n",
      "2010    02M489\n",
      "Name: DBN, dtype: object\n"
     ]
    }
   ],
   "source": [
    "# Check data\n",
    "print(schools_data['Class_Size'].columns )\n",
    "print(schools_data[\"Class_Size\"].loc[0:10,\"DBN\"])\n",
    "print(schools_data[\"Class_Size\"].loc[2000:2010,\"DBN\"])"
   ]
  },
  {
   "cell_type": "markdown",
   "metadata": {},
   "source": [
    "Experiment with zfill and range()"
   ]
  },
  {
   "cell_type": "code",
   "execution_count": 54,
   "metadata": {},
   "outputs": [
    {
     "name": "stdout",
     "output_type": "stream",
     "text": [
      "00042\n",
      "42\n",
      "042\n",
      "01\n",
      "range(0, 27611)\n"
     ]
    }
   ],
   "source": [
    "print(\"42\".zfill(5))\n",
    "print(\"42\".zfill(1))\n",
    "print(\"42\".zfill(3))\n",
    "print(\"1\".zfill(2))\n",
    "print(range(0, len(n)))"
   ]
  },
  {
   "cell_type": "markdown",
   "metadata": {},
   "source": [
    "Doing the same but using apply instead list & append."
   ]
  },
  {
   "cell_type": "code",
   "execution_count": 55,
   "metadata": {},
   "outputs": [
    {
     "name": "stdout",
     "output_type": "stream",
     "text": [
      "  CSD BOROUGH SCHOOL CODE                SCHOOL NAME GRADE  PROGRAM TYPE  \\\n",
      "0  01       M        M015  P.S. 015 Roberto Clemente     0K       GEN ED   \n",
      "1  01       M        M015  P.S. 015 Roberto Clemente     0K          CTT   \n",
      "2  01       M        M015  P.S. 015 Roberto Clemente     01       GEN ED   \n",
      "3  01       M        M015  P.S. 015 Roberto Clemente     01          CTT   \n",
      "4  01       M        M015  P.S. 015 Roberto Clemente     02       GEN ED   \n",
      "\n",
      "  CORE SUBJECT (MS CORE and 9-12 ONLY) CORE COURSE (MS CORE and 9-12 ONLY)  \\\n",
      "0                                    -                                   -   \n",
      "1                                    -                                   -   \n",
      "2                                    -                                   -   \n",
      "3                                    -                                   -   \n",
      "4                                    -                                   -   \n",
      "\n",
      "  SERVICE CATEGORY(K-9* ONLY)  NUMBER OF STUDENTS / SEATS FILLED  \\\n",
      "0                           -                               19.0   \n",
      "1                           -                               21.0   \n",
      "2                           -                               17.0   \n",
      "3                           -                               17.0   \n",
      "4                           -                               15.0   \n",
      "\n",
      "   NUMBER OF SECTIONS  AVERAGE CLASS SIZE  SIZE OF SMALLEST CLASS  \\\n",
      "0                 1.0                19.0                    19.0   \n",
      "1                 1.0                21.0                    21.0   \n",
      "2                 1.0                17.0                    17.0   \n",
      "3                 1.0                17.0                    17.0   \n",
      "4                 1.0                15.0                    15.0   \n",
      "\n",
      "   SIZE OF LARGEST CLASS DATA SOURCE  SCHOOLWIDE PUPIL-TEACHER RATIO     DBN  \\\n",
      "0                   19.0         ATS                             NaN  01M015   \n",
      "1                   21.0         ATS                             NaN  01M015   \n",
      "2                   17.0         ATS                             NaN  01M015   \n",
      "3                   17.0         ATS                             NaN  01M015   \n",
      "4                   15.0         ATS                             NaN  01M015   \n",
      "\n",
      "  padded_csd  \n",
      "0         01  \n",
      "1         01  \n",
      "2         01  \n",
      "3         01  \n",
      "4         01  \n"
     ]
    }
   ],
   "source": [
    "dt_apply = schools_data\n",
    "\n",
    "def pad_csd(num):\n",
    "    string_representation = str(num)\n",
    "    if len(string_representation) > 1:\n",
    "        return string_representation\n",
    "    else:\n",
    "        return string_representation.zfill(2)\n",
    "    \n",
    "dt_apply[\"Class_Size\"][\"padded_csd\"] =dt_apply[\"Class_Size\"][\"CSD\"].apply(pad_csd)\n",
    "dt_apply[\"Class_Size\"][\"DBN\"] = dt_apply[\"Class_Size\"][\"padded_csd\"] + dt_apply[\"Class_Size\"][\"SCHOOL CODE\"]\n",
    "print(dt_apply[\"Class_Size\"].head())"
   ]
  },
  {
   "cell_type": "markdown",
   "metadata": {},
   "source": [
    "#### Change datatype of columns from strings into numerics"
   ]
  },
  {
   "cell_type": "markdown",
   "metadata": {
    "collapsed": true
   },
   "source": [
    "As above mentioned some variables are of type string, while should be of type numeric (float).\n",
    "That is why the SAT Math Avg. Score, SAT Critical Reading Avg. Score, and SAT Writing Avg. Score columns in the sat_results data set from the object (string) data \n",
    "type are converted to a numeric data type."
   ]
  },
  {
   "cell_type": "code",
   "execution_count": 56,
   "metadata": {},
   "outputs": [
    {
     "name": "stdout",
     "output_type": "stream",
     "text": [
      "<class 'pandas.core.frame.DataFrame'>\n",
      "RangeIndex: 478 entries, 0 to 477\n",
      "Data columns (total 6 columns):\n",
      "DBN                                478 non-null object\n",
      "SCHOOL NAME                        478 non-null object\n",
      "Num of SAT Test Takers             478 non-null object\n",
      "SAT Critical Reading Avg. Score    421 non-null float64\n",
      "SAT Math Avg. Score                421 non-null float64\n",
      "SAT Writing Avg. Score             421 non-null float64\n",
      "dtypes: float64(3), object(3)\n",
      "memory usage: 22.5+ KB\n"
     ]
    }
   ],
   "source": [
    "sat_results = [\"SAT Math Avg. Score\", \"SAT Critical Reading Avg. Score\", \"SAT Writing Avg. Score\"] \n",
    "\n",
    "for column in sat_results:\n",
    "    c = pd.Series(schools_data['SAT_Results'][column])\n",
    "    schools_data['SAT_Results'][column] = pd.to_numeric(c, errors=\"coerce\")\n",
    "    \n",
    "schools_data['SAT_Results'].info()"
   ]
  },
  {
   "cell_type": "markdown",
   "metadata": {},
   "source": [
    "Creating a column called sat_score in sat_results that holds the combined SAT score for each student"
   ]
  },
  {
   "cell_type": "code",
   "execution_count": 57,
   "metadata": {},
   "outputs": [
    {
     "name": "stdout",
     "output_type": "stream",
     "text": [
      "<class 'pandas.core.frame.DataFrame'>\n",
      "RangeIndex: 478 entries, 0 to 477\n",
      "Data columns (total 7 columns):\n",
      "DBN                                478 non-null object\n",
      "SCHOOL NAME                        478 non-null object\n",
      "Num of SAT Test Takers             478 non-null object\n",
      "SAT Critical Reading Avg. Score    421 non-null float64\n",
      "SAT Math Avg. Score                421 non-null float64\n",
      "SAT Writing Avg. Score             421 non-null float64\n",
      "sat_score                          421 non-null float64\n",
      "dtypes: float64(4), object(3)\n",
      "memory usage: 26.2+ KB\n"
     ]
    },
    {
     "data": {
      "text/html": [
       "<div>\n",
       "<style>\n",
       "    .dataframe thead tr:only-child th {\n",
       "        text-align: right;\n",
       "    }\n",
       "\n",
       "    .dataframe thead th {\n",
       "        text-align: left;\n",
       "    }\n",
       "\n",
       "    .dataframe tbody tr th {\n",
       "        vertical-align: top;\n",
       "    }\n",
       "</style>\n",
       "<table border=\"1\" class=\"dataframe\">\n",
       "  <thead>\n",
       "    <tr style=\"text-align: right;\">\n",
       "      <th></th>\n",
       "      <th>DBN</th>\n",
       "      <th>SCHOOL NAME</th>\n",
       "      <th>Num of SAT Test Takers</th>\n",
       "      <th>SAT Critical Reading Avg. Score</th>\n",
       "      <th>SAT Math Avg. Score</th>\n",
       "      <th>SAT Writing Avg. Score</th>\n",
       "      <th>sat_score</th>\n",
       "    </tr>\n",
       "  </thead>\n",
       "  <tbody>\n",
       "    <tr>\n",
       "      <th>0</th>\n",
       "      <td>01M292</td>\n",
       "      <td>HENRY STREET SCHOOL FOR INTERNATIONAL STUDIES</td>\n",
       "      <td>29</td>\n",
       "      <td>355.0</td>\n",
       "      <td>404.0</td>\n",
       "      <td>363.0</td>\n",
       "      <td>1122.0</td>\n",
       "    </tr>\n",
       "    <tr>\n",
       "      <th>1</th>\n",
       "      <td>01M448</td>\n",
       "      <td>UNIVERSITY NEIGHBORHOOD HIGH SCHOOL</td>\n",
       "      <td>91</td>\n",
       "      <td>383.0</td>\n",
       "      <td>423.0</td>\n",
       "      <td>366.0</td>\n",
       "      <td>1172.0</td>\n",
       "    </tr>\n",
       "    <tr>\n",
       "      <th>2</th>\n",
       "      <td>01M450</td>\n",
       "      <td>EAST SIDE COMMUNITY SCHOOL</td>\n",
       "      <td>70</td>\n",
       "      <td>377.0</td>\n",
       "      <td>402.0</td>\n",
       "      <td>370.0</td>\n",
       "      <td>1149.0</td>\n",
       "    </tr>\n",
       "    <tr>\n",
       "      <th>3</th>\n",
       "      <td>01M458</td>\n",
       "      <td>FORSYTH SATELLITE ACADEMY</td>\n",
       "      <td>7</td>\n",
       "      <td>414.0</td>\n",
       "      <td>401.0</td>\n",
       "      <td>359.0</td>\n",
       "      <td>1174.0</td>\n",
       "    </tr>\n",
       "    <tr>\n",
       "      <th>4</th>\n",
       "      <td>01M509</td>\n",
       "      <td>MARTA VALLE HIGH SCHOOL</td>\n",
       "      <td>44</td>\n",
       "      <td>390.0</td>\n",
       "      <td>433.0</td>\n",
       "      <td>384.0</td>\n",
       "      <td>1207.0</td>\n",
       "    </tr>\n",
       "  </tbody>\n",
       "</table>\n",
       "</div>"
      ],
      "text/plain": [
       "      DBN                                    SCHOOL NAME  \\\n",
       "0  01M292  HENRY STREET SCHOOL FOR INTERNATIONAL STUDIES   \n",
       "1  01M448            UNIVERSITY NEIGHBORHOOD HIGH SCHOOL   \n",
       "2  01M450                     EAST SIDE COMMUNITY SCHOOL   \n",
       "3  01M458                      FORSYTH SATELLITE ACADEMY   \n",
       "4  01M509                        MARTA VALLE HIGH SCHOOL   \n",
       "\n",
       "  Num of SAT Test Takers  SAT Critical Reading Avg. Score  \\\n",
       "0                     29                            355.0   \n",
       "1                     91                            383.0   \n",
       "2                     70                            377.0   \n",
       "3                      7                            414.0   \n",
       "4                     44                            390.0   \n",
       "\n",
       "   SAT Math Avg. Score  SAT Writing Avg. Score  sat_score  \n",
       "0                404.0                   363.0     1122.0  \n",
       "1                423.0                   366.0     1172.0  \n",
       "2                402.0                   370.0     1149.0  \n",
       "3                401.0                   359.0     1174.0  \n",
       "4                433.0                   384.0     1207.0  "
      ]
     },
     "execution_count": 57,
     "metadata": {},
     "output_type": "execute_result"
    }
   ],
   "source": [
    "sat_results = [\"SAT Math Avg. Score\", \"SAT Critical Reading Avg. Score\", \"SAT Writing Avg. Score\"] \n",
    "\n",
    "schools_data[\"SAT_Results\"][\"sat_score\"] =  (schools_data[\"SAT_Results\"][\"SAT Math Avg. Score\"] + \n",
    "schools_data[\"SAT_Results\"][\"SAT Critical Reading Avg. Score\"] + \n",
    "schools_data[\"SAT_Results\"][\"SAT Writing Avg. Score\"])\n",
    "\n",
    "schools_data[\"SAT_Results\"].info()\n",
    "schools_data[\"SAT_Results\"].head()"
   ]
  },
  {
   "cell_type": "code",
   "execution_count": 58,
   "metadata": {},
   "outputs": [
    {
     "data": {
      "text/plain": [
       "Index(['CSD', 'BOROUGH', 'SCHOOL CODE', 'SCHOOL NAME', 'GRADE ',\n",
       "       'PROGRAM TYPE', 'CORE SUBJECT (MS CORE and 9-12 ONLY)',\n",
       "       'CORE COURSE (MS CORE and 9-12 ONLY)', 'SERVICE CATEGORY(K-9* ONLY)',\n",
       "       'NUMBER OF STUDENTS / SEATS FILLED', 'NUMBER OF SECTIONS',\n",
       "       'AVERAGE CLASS SIZE', 'SIZE OF SMALLEST CLASS', 'SIZE OF LARGEST CLASS',\n",
       "       'DATA SOURCE', 'SCHOOLWIDE PUPIL-TEACHER RATIO', 'DBN', 'padded_csd'],\n",
       "      dtype='object')"
      ]
     },
     "execution_count": 58,
     "metadata": {},
     "output_type": "execute_result"
    }
   ],
   "source": [
    "schools_data[\"Class_Size\"].columns\n"
   ]
  },
  {
   "cell_type": "code",
   "execution_count": 59,
   "metadata": {},
   "outputs": [
    {
     "data": {
      "text/html": [
       "<div>\n",
       "<style>\n",
       "    .dataframe thead tr:only-child th {\n",
       "        text-align: right;\n",
       "    }\n",
       "\n",
       "    .dataframe thead th {\n",
       "        text-align: left;\n",
       "    }\n",
       "\n",
       "    .dataframe tbody tr th {\n",
       "        vertical-align: top;\n",
       "    }\n",
       "</style>\n",
       "<table border=\"1\" class=\"dataframe\">\n",
       "  <thead>\n",
       "    <tr style=\"text-align: right;\">\n",
       "      <th></th>\n",
       "      <th>CSD</th>\n",
       "      <th>BOROUGH</th>\n",
       "      <th>SCHOOL CODE</th>\n",
       "      <th>SCHOOL NAME</th>\n",
       "      <th>GRADE</th>\n",
       "      <th>PROGRAM TYPE</th>\n",
       "      <th>CORE SUBJECT (MS CORE and 9-12 ONLY)</th>\n",
       "      <th>CORE COURSE (MS CORE and 9-12 ONLY)</th>\n",
       "      <th>SERVICE CATEGORY(K-9* ONLY)</th>\n",
       "      <th>NUMBER OF STUDENTS / SEATS FILLED</th>\n",
       "      <th>NUMBER OF SECTIONS</th>\n",
       "      <th>AVERAGE CLASS SIZE</th>\n",
       "      <th>SIZE OF SMALLEST CLASS</th>\n",
       "      <th>SIZE OF LARGEST CLASS</th>\n",
       "      <th>DATA SOURCE</th>\n",
       "      <th>SCHOOLWIDE PUPIL-TEACHER RATIO</th>\n",
       "      <th>DBN</th>\n",
       "      <th>padded_csd</th>\n",
       "    </tr>\n",
       "  </thead>\n",
       "  <tbody>\n",
       "    <tr>\n",
       "      <th>0</th>\n",
       "      <td>01</td>\n",
       "      <td>M</td>\n",
       "      <td>M015</td>\n",
       "      <td>P.S. 015 Roberto Clemente</td>\n",
       "      <td>0K</td>\n",
       "      <td>GEN ED</td>\n",
       "      <td>-</td>\n",
       "      <td>-</td>\n",
       "      <td>-</td>\n",
       "      <td>19.0</td>\n",
       "      <td>1.0</td>\n",
       "      <td>19.0</td>\n",
       "      <td>19.0</td>\n",
       "      <td>19.0</td>\n",
       "      <td>ATS</td>\n",
       "      <td>NaN</td>\n",
       "      <td>01M015</td>\n",
       "      <td>01</td>\n",
       "    </tr>\n",
       "    <tr>\n",
       "      <th>1</th>\n",
       "      <td>01</td>\n",
       "      <td>M</td>\n",
       "      <td>M015</td>\n",
       "      <td>P.S. 015 Roberto Clemente</td>\n",
       "      <td>0K</td>\n",
       "      <td>CTT</td>\n",
       "      <td>-</td>\n",
       "      <td>-</td>\n",
       "      <td>-</td>\n",
       "      <td>21.0</td>\n",
       "      <td>1.0</td>\n",
       "      <td>21.0</td>\n",
       "      <td>21.0</td>\n",
       "      <td>21.0</td>\n",
       "      <td>ATS</td>\n",
       "      <td>NaN</td>\n",
       "      <td>01M015</td>\n",
       "      <td>01</td>\n",
       "    </tr>\n",
       "    <tr>\n",
       "      <th>2</th>\n",
       "      <td>01</td>\n",
       "      <td>M</td>\n",
       "      <td>M015</td>\n",
       "      <td>P.S. 015 Roberto Clemente</td>\n",
       "      <td>01</td>\n",
       "      <td>GEN ED</td>\n",
       "      <td>-</td>\n",
       "      <td>-</td>\n",
       "      <td>-</td>\n",
       "      <td>17.0</td>\n",
       "      <td>1.0</td>\n",
       "      <td>17.0</td>\n",
       "      <td>17.0</td>\n",
       "      <td>17.0</td>\n",
       "      <td>ATS</td>\n",
       "      <td>NaN</td>\n",
       "      <td>01M015</td>\n",
       "      <td>01</td>\n",
       "    </tr>\n",
       "    <tr>\n",
       "      <th>3</th>\n",
       "      <td>01</td>\n",
       "      <td>M</td>\n",
       "      <td>M015</td>\n",
       "      <td>P.S. 015 Roberto Clemente</td>\n",
       "      <td>01</td>\n",
       "      <td>CTT</td>\n",
       "      <td>-</td>\n",
       "      <td>-</td>\n",
       "      <td>-</td>\n",
       "      <td>17.0</td>\n",
       "      <td>1.0</td>\n",
       "      <td>17.0</td>\n",
       "      <td>17.0</td>\n",
       "      <td>17.0</td>\n",
       "      <td>ATS</td>\n",
       "      <td>NaN</td>\n",
       "      <td>01M015</td>\n",
       "      <td>01</td>\n",
       "    </tr>\n",
       "    <tr>\n",
       "      <th>4</th>\n",
       "      <td>01</td>\n",
       "      <td>M</td>\n",
       "      <td>M015</td>\n",
       "      <td>P.S. 015 Roberto Clemente</td>\n",
       "      <td>02</td>\n",
       "      <td>GEN ED</td>\n",
       "      <td>-</td>\n",
       "      <td>-</td>\n",
       "      <td>-</td>\n",
       "      <td>15.0</td>\n",
       "      <td>1.0</td>\n",
       "      <td>15.0</td>\n",
       "      <td>15.0</td>\n",
       "      <td>15.0</td>\n",
       "      <td>ATS</td>\n",
       "      <td>NaN</td>\n",
       "      <td>01M015</td>\n",
       "      <td>01</td>\n",
       "    </tr>\n",
       "  </tbody>\n",
       "</table>\n",
       "</div>"
      ],
      "text/plain": [
       "  CSD BOROUGH SCHOOL CODE                SCHOOL NAME GRADE  PROGRAM TYPE  \\\n",
       "0  01       M        M015  P.S. 015 Roberto Clemente     0K       GEN ED   \n",
       "1  01       M        M015  P.S. 015 Roberto Clemente     0K          CTT   \n",
       "2  01       M        M015  P.S. 015 Roberto Clemente     01       GEN ED   \n",
       "3  01       M        M015  P.S. 015 Roberto Clemente     01          CTT   \n",
       "4  01       M        M015  P.S. 015 Roberto Clemente     02       GEN ED   \n",
       "\n",
       "  CORE SUBJECT (MS CORE and 9-12 ONLY) CORE COURSE (MS CORE and 9-12 ONLY)  \\\n",
       "0                                    -                                   -   \n",
       "1                                    -                                   -   \n",
       "2                                    -                                   -   \n",
       "3                                    -                                   -   \n",
       "4                                    -                                   -   \n",
       "\n",
       "  SERVICE CATEGORY(K-9* ONLY)  NUMBER OF STUDENTS / SEATS FILLED  \\\n",
       "0                           -                               19.0   \n",
       "1                           -                               21.0   \n",
       "2                           -                               17.0   \n",
       "3                           -                               17.0   \n",
       "4                           -                               15.0   \n",
       "\n",
       "   NUMBER OF SECTIONS  AVERAGE CLASS SIZE  SIZE OF SMALLEST CLASS  \\\n",
       "0                 1.0                19.0                    19.0   \n",
       "1                 1.0                21.0                    21.0   \n",
       "2                 1.0                17.0                    17.0   \n",
       "3                 1.0                17.0                    17.0   \n",
       "4                 1.0                15.0                    15.0   \n",
       "\n",
       "   SIZE OF LARGEST CLASS DATA SOURCE  SCHOOLWIDE PUPIL-TEACHER RATIO     DBN  \\\n",
       "0                   19.0         ATS                             NaN  01M015   \n",
       "1                   21.0         ATS                             NaN  01M015   \n",
       "2                   17.0         ATS                             NaN  01M015   \n",
       "3                   17.0         ATS                             NaN  01M015   \n",
       "4                   15.0         ATS                             NaN  01M015   \n",
       "\n",
       "  padded_csd  \n",
       "0         01  \n",
       "1         01  \n",
       "2         01  \n",
       "3         01  \n",
       "4         01  "
      ]
     },
     "execution_count": 59,
     "metadata": {},
     "output_type": "execute_result"
    }
   ],
   "source": [
    "schools_data[\"Class_Size\"].head()"
   ]
  },
  {
   "cell_type": "markdown",
   "metadata": {},
   "source": [
    "Converting columns of df Class Size into numeric using a function"
   ]
  },
  {
   "cell_type": "code",
   "execution_count": 60,
   "metadata": {},
   "outputs": [
    {
     "name": "stdout",
     "output_type": "stream",
     "text": [
      "<class 'pandas.core.frame.DataFrame'>\n",
      "RangeIndex: 27611 entries, 0 to 27610\n",
      "Data columns (total 18 columns):\n",
      "CSD                                     27611 non-null object\n",
      "BOROUGH                                 27611 non-null object\n",
      "SCHOOL CODE                             27611 non-null object\n",
      "SCHOOL NAME                             27611 non-null object\n",
      "GRADE                                   26127 non-null object\n",
      "PROGRAM TYPE                            26127 non-null object\n",
      "CORE SUBJECT (MS CORE and 9-12 ONLY)    26127 non-null object\n",
      "CORE COURSE (MS CORE and 9-12 ONLY)     26127 non-null object\n",
      "SERVICE CATEGORY(K-9* ONLY)             26127 non-null object\n",
      "NUMBER OF STUDENTS / SEATS FILLED       26127 non-null float64\n",
      "NUMBER OF SECTIONS                      26127 non-null float64\n",
      "AVERAGE CLASS SIZE                      26127 non-null float64\n",
      "SIZE OF SMALLEST CLASS                  26127 non-null float64\n",
      "SIZE OF LARGEST CLASS                   26127 non-null float64\n",
      "DATA SOURCE                             26127 non-null object\n",
      "SCHOOLWIDE PUPIL-TEACHER RATIO          1484 non-null float64\n",
      "DBN                                     27611 non-null object\n",
      "padded_csd                              27611 non-null object\n",
      "dtypes: float64(6), object(12)\n",
      "memory usage: 3.8+ MB\n"
     ]
    }
   ],
   "source": [
    "class_str_col = [ 'NUMBER OF STUDENTS / SEATS FILLED', 'NUMBER OF STUDENTS / SEATS FILLED', 'NUMBER OF SECTIONS', \n",
    "                  'AVERAGE CLASS SIZE', 'SIZE OF SMALLEST CLASS', 'SIZE OF LARGEST CLASS']\n",
    "\n",
    "def convert_num(df, cols):\n",
    "    \"\"\"Convert column to type numeric\"\"\"\n",
    "    for column in cols:\n",
    "        series = pd.Series(df[column])\n",
    "        df[column] = pd.to_numeric(series, errors=\"coerce\") \n",
    "        \n",
    "convert_num(schools_data[\"Class_Size\"], class_str_col)\n",
    "\n",
    "schools_data[\"Class_Size\"].info()"
   ]
  },
  {
   "cell_type": "markdown",
   "metadata": {},
   "source": [
    "Convert string variables of \"School_Demographics\" into numerics, when appropriate."
   ]
  },
  {
   "cell_type": "code",
   "execution_count": 61,
   "metadata": {},
   "outputs": [
    {
     "data": {
      "text/html": [
       "<div>\n",
       "<style>\n",
       "    .dataframe thead tr:only-child th {\n",
       "        text-align: right;\n",
       "    }\n",
       "\n",
       "    .dataframe thead th {\n",
       "        text-align: left;\n",
       "    }\n",
       "\n",
       "    .dataframe tbody tr th {\n",
       "        vertical-align: top;\n",
       "    }\n",
       "</style>\n",
       "<table border=\"1\" class=\"dataframe\">\n",
       "  <thead>\n",
       "    <tr style=\"text-align: right;\">\n",
       "      <th></th>\n",
       "      <th>DBN</th>\n",
       "      <th>Name</th>\n",
       "      <th>schoolyear</th>\n",
       "      <th>fl_percent</th>\n",
       "      <th>frl_percent</th>\n",
       "      <th>total_enrollment</th>\n",
       "      <th>prek</th>\n",
       "      <th>k</th>\n",
       "      <th>grade1</th>\n",
       "      <th>grade2</th>\n",
       "      <th>...</th>\n",
       "      <th>black_num</th>\n",
       "      <th>black_per</th>\n",
       "      <th>hispanic_num</th>\n",
       "      <th>hispanic_per</th>\n",
       "      <th>white_num</th>\n",
       "      <th>white_per</th>\n",
       "      <th>male_num</th>\n",
       "      <th>male_per</th>\n",
       "      <th>female_num</th>\n",
       "      <th>female_per</th>\n",
       "    </tr>\n",
       "  </thead>\n",
       "  <tbody>\n",
       "    <tr>\n",
       "      <th>0</th>\n",
       "      <td>01M015</td>\n",
       "      <td>P.S. 015 ROBERTO CLEMENTE</td>\n",
       "      <td>20052006</td>\n",
       "      <td>89.4</td>\n",
       "      <td>NaN</td>\n",
       "      <td>281</td>\n",
       "      <td>15</td>\n",
       "      <td>36</td>\n",
       "      <td>40</td>\n",
       "      <td>33</td>\n",
       "      <td>...</td>\n",
       "      <td>74</td>\n",
       "      <td>26.3</td>\n",
       "      <td>189</td>\n",
       "      <td>67.3</td>\n",
       "      <td>5</td>\n",
       "      <td>1.8</td>\n",
       "      <td>158.0</td>\n",
       "      <td>56.2</td>\n",
       "      <td>123.0</td>\n",
       "      <td>43.8</td>\n",
       "    </tr>\n",
       "  </tbody>\n",
       "</table>\n",
       "<p>1 rows × 38 columns</p>\n",
       "</div>"
      ],
      "text/plain": [
       "      DBN                       Name  schoolyear fl_percent  frl_percent  \\\n",
       "0  01M015  P.S. 015 ROBERTO CLEMENTE    20052006       89.4          NaN   \n",
       "\n",
       "   total_enrollment prek   k grade1 grade2    ...     black_num black_per  \\\n",
       "0               281   15  36     40     33    ...            74      26.3   \n",
       "\n",
       "  hispanic_num hispanic_per white_num white_per male_num male_per female_num  \\\n",
       "0          189         67.3         5       1.8    158.0     56.2      123.0   \n",
       "\n",
       "  female_per  \n",
       "0       43.8  \n",
       "\n",
       "[1 rows x 38 columns]"
      ]
     },
     "execution_count": 61,
     "metadata": {},
     "output_type": "execute_result"
    }
   ],
   "source": [
    "schools_data[\"School_Demographics\"].head(1)"
   ]
  },
  {
   "cell_type": "code",
   "execution_count": 62,
   "metadata": {},
   "outputs": [
    {
     "name": "stdout",
     "output_type": "stream",
     "text": [
      "<class 'pandas.core.frame.DataFrame'>\n",
      "RangeIndex: 10075 entries, 0 to 10074\n",
      "Data columns (total 38 columns):\n",
      "DBN                  10075 non-null object\n",
      "Name                 10075 non-null object\n",
      "schoolyear           10075 non-null int64\n",
      "fl_percent           5587 non-null float64\n",
      "frl_percent          4482 non-null float64\n",
      "total_enrollment     10075 non-null int64\n",
      "prek                 3762 non-null float64\n",
      "k                    5134 non-null float64\n",
      "grade1               5129 non-null float64\n",
      "grade2               5087 non-null float64\n",
      "grade3               5001 non-null float64\n",
      "grade4               4948 non-null float64\n",
      "grade5               4986 non-null float64\n",
      "grade6               3512 non-null float64\n",
      "grade7               3180 non-null float64\n",
      "grade8               3054 non-null float64\n",
      "grade9               2923 non-null float64\n",
      "grade10              2791 non-null float64\n",
      "grade11              2599 non-null float64\n",
      "grade12              2422 non-null float64\n",
      "ell_num              9885 non-null float64\n",
      "ell_percent          9963 non-null float64\n",
      "sped_num             9985 non-null float64\n",
      "sped_percent         10075 non-null float64\n",
      "ctt_num              8666 non-null float64\n",
      "selfcontained_num    9063 non-null float64\n",
      "asian_num            10075 non-null int64\n",
      "asian_per            10075 non-null float64\n",
      "black_num            10075 non-null int64\n",
      "black_per            10075 non-null float64\n",
      "hispanic_num         10075 non-null int64\n",
      "hispanic_per         10075 non-null float64\n",
      "white_num            10075 non-null int64\n",
      "white_per            10075 non-null float64\n",
      "male_num             10034 non-null float64\n",
      "male_per             10075 non-null float64\n",
      "female_num           10051 non-null float64\n",
      "female_per           10075 non-null float64\n",
      "dtypes: float64(30), int64(6), object(2)\n",
      "memory usage: 2.9+ MB\n"
     ]
    }
   ],
   "source": [
    "# print(data_type_format(demographics))\n",
    "# print(schools_data.keys())\n",
    "# print(schools_data[\"School_Demographics\"].columns)\n",
    "\n",
    "dem_cols = ['schoolyear', 'fl_percent', 'frl_percent',\n",
    "            'total_enrollment', 'prek', 'k', 'grade1', 'grade2', 'grade3', 'grade4',\n",
    "            'grade5', 'grade6', 'grade7', 'grade8', 'grade9', 'grade10', 'grade11',\n",
    "            'grade12', 'ell_num', 'ell_percent', 'sped_num', 'sped_percent',\n",
    "            'ctt_num', 'selfcontained_num', 'asian_num', 'asian_per', 'black_num',\n",
    "            'black_per', 'hispanic_num', 'hispanic_per', 'white_num', 'white_per',\n",
    "            'male_num', 'male_per', 'female_num', 'female_per']\n",
    "\n",
    "convert_num(schools_data[\"School_Demographics\"], dem_cols)\n",
    "schools_data[\"School_Demographics\"].info()"
   ]
  },
  {
   "cell_type": "markdown",
   "metadata": {},
   "source": [
    "#### Map the schools and uncover any geographic patterns in the data"
   ]
  },
  {
   "cell_type": "markdown",
   "metadata": {},
   "source": [
    "Latitudes and longitudes are stored at the end of the string within brackets."
   ]
  },
  {
   "cell_type": "code",
   "execution_count": 63,
   "metadata": {},
   "outputs": [
    {
     "data": {
      "text/plain": [
       "0        883 Classon Avenue\\nBrooklyn, NY 11225\\n(40.67029890700047, -73.96164787599963)\n",
       "1              1110 Boston Road\\nBronx, NY 10456\\n(40.8276026690005, -73.90447525699966)\n",
       "2          1501 Jerome Avenue\\nBronx, NY 10452\\n(40.842414068000494, -73.91616158599965)\n",
       "3          411 Pearl Street\\nNew York, NY 10038\\n(40.71067947100045, -74.00080702099967)\n",
       "4    160 20 Goethals Avenue\\nJamaica, NY 11432\\n(40.718810094000446, -73.80650045499965)\n",
       "5    3000 East Tremont Avenue\\nBronx, NY 10461\\n(40.840513977000455, -73.83812095999963)\n",
       "Name: Location 1, dtype: object"
      ]
     },
     "execution_count": 63,
     "metadata": {},
     "output_type": "execute_result"
    }
   ],
   "source": [
    "# schools_data[\"High_School_Directory\"].info()\n",
    "pd.options.display.max_colwidth = 100\n",
    "schools_data[\"High_School_Directory\"].loc[0:5, \"Location 1\"]"
   ]
  },
  {
   "cell_type": "markdown",
   "metadata": {},
   "source": [
    "Make functions extracting longitude and latitudes from a string"
   ]
  },
  {
   "cell_type": "markdown",
   "metadata": {},
   "source": [
    "Explore the writing of the function"
   ]
  },
  {
   "cell_type": "code",
   "execution_count": 64,
   "metadata": {},
   "outputs": [
    {
     "name": "stdout",
     "output_type": "stream",
     "text": [
      "['(40.8276026690005, -73.90447525699966)']\n",
      "<class 'list'>\n",
      "(40.8276026690005, -73.90447525699966)\n",
      "<class 'str'>\n",
      "['(40.8276026690005', ' -73.90447525699966)']\n",
      "<class 'list'>\n",
      "(40.8276026690005\n",
      " -73.90447525699966)\n",
      "40.8276026690005\n",
      "-73.90447525699966\n",
      "<class 'str'>\n"
     ]
    }
   ],
   "source": [
    "b12 = schools_data[\"High_School_Directory\"].loc[1, \"Location 1\"]\n",
    "b13 = re.findall(\"\\(.+\\)\", b12)\n",
    "print(b13)\n",
    "print(type(b13))\n",
    "b14 = b13[0]\n",
    "print(b14)\n",
    "print(type(b14))\n",
    "b15 = b14.split(\",\")\n",
    "print(b15)\n",
    "print(type(b15))\n",
    "print(b15[0])\n",
    "print(b15[1])\n",
    "long = b15[0].replace(\"(\",\"\")\n",
    "print(long)\n",
    "lat = b15[1].replace(\")\",\"\").replace(\" \",\"\")\n",
    "print(lat)\n",
    "print(type(lat))"
   ]
  },
  {
   "cell_type": "markdown",
   "metadata": {},
   "source": [
    "Writing the functions"
   ]
  },
  {
   "cell_type": "code",
   "execution_count": 65,
   "metadata": {},
   "outputs": [],
   "source": [
    "def latitude(string):\n",
    "    \n",
    "    a = re.findall(\"\\(.+\\)\", string)\n",
    "    b = a[0].split(\",\")\n",
    "    lat = b[0].replace(\"(\",\"\")\n",
    "    lat = pd.to_numeric(lat)\n",
    "    \n",
    "    return (lat)"
   ]
  },
  {
   "cell_type": "code",
   "execution_count": 66,
   "metadata": {},
   "outputs": [],
   "source": [
    "def longitude(string):\n",
    "    \n",
    "    a = re.findall(\"\\(.+\\)\", string)\n",
    "    b = a[0].split(\",\")\n",
    "    long = b[1].replace(\")\",\"\")\n",
    "    long = pd.to_numeric(long)\n",
    "    \n",
    "    return long"
   ]
  },
  {
   "cell_type": "code",
   "execution_count": 67,
   "metadata": {},
   "outputs": [],
   "source": [
    "# Streamlined version of the same longitude function\n",
    "def long(string):\n",
    "    coords = re.findall(\"\\(.+\\)\", string)\n",
    "    long = pd.to_numeric(coords[0].split(\",\")[1].replace(\")\", \"\"), errors=\"coerce\")\n",
    "    return long\n",
    "\n",
    "# schools_data[\"High_School_Directory\"][\"long_2\"] = schools_data[\"High_School_Directory\"][\"Location 1\"].apply(long)\n",
    "# schools_data[\"High_School_Directory\"].head()"
   ]
  },
  {
   "cell_type": "markdown",
   "metadata": {},
   "source": [
    "Apply the function on the Location 1 series and extract the coordinates"
   ]
  },
  {
   "cell_type": "code",
   "execution_count": 68,
   "metadata": {},
   "outputs": [],
   "source": [
    "schools_data[\"High_School_Directory\"][\"lat\"] = schools_data[\"High_School_Directory\"][\"Location 1\"].apply(latitude)\n",
    "schools_data[\"High_School_Directory\"][\"long\"] = schools_data[\"High_School_Directory\"][\"Location 1\"].apply(longitude)"
   ]
  },
  {
   "cell_type": "code",
   "execution_count": 69,
   "metadata": {},
   "outputs": [
    {
     "data": {
      "text/html": [
       "<div>\n",
       "<style>\n",
       "    .dataframe thead tr:only-child th {\n",
       "        text-align: right;\n",
       "    }\n",
       "\n",
       "    .dataframe thead th {\n",
       "        text-align: left;\n",
       "    }\n",
       "\n",
       "    .dataframe tbody tr th {\n",
       "        vertical-align: top;\n",
       "    }\n",
       "</style>\n",
       "<table border=\"1\" class=\"dataframe\">\n",
       "  <thead>\n",
       "    <tr style=\"text-align: right;\">\n",
       "      <th></th>\n",
       "      <th>dbn</th>\n",
       "      <th>school_name</th>\n",
       "      <th>borough</th>\n",
       "      <th>building_code</th>\n",
       "      <th>phone_number</th>\n",
       "      <th>fax_number</th>\n",
       "      <th>grade_span_min</th>\n",
       "      <th>grade_span_max</th>\n",
       "      <th>expgrade_span_min</th>\n",
       "      <th>expgrade_span_max</th>\n",
       "      <th>...</th>\n",
       "      <th>Location 1</th>\n",
       "      <th>Community Board</th>\n",
       "      <th>Council District</th>\n",
       "      <th>Census Tract</th>\n",
       "      <th>BIN</th>\n",
       "      <th>BBL</th>\n",
       "      <th>NTA</th>\n",
       "      <th>DBN</th>\n",
       "      <th>lat</th>\n",
       "      <th>long</th>\n",
       "    </tr>\n",
       "  </thead>\n",
       "  <tbody>\n",
       "    <tr>\n",
       "      <th>0</th>\n",
       "      <td>17K548</td>\n",
       "      <td>Brooklyn School for Music &amp; Theatre</td>\n",
       "      <td>Brooklyn</td>\n",
       "      <td>K440</td>\n",
       "      <td>718-230-6250</td>\n",
       "      <td>718-230-6262</td>\n",
       "      <td>9.0</td>\n",
       "      <td>12</td>\n",
       "      <td>NaN</td>\n",
       "      <td>NaN</td>\n",
       "      <td>...</td>\n",
       "      <td>883 Classon Avenue\\nBrooklyn, NY 11225\\n(40.67029890700047, -73.96164787599963)</td>\n",
       "      <td>9.0</td>\n",
       "      <td>35.0</td>\n",
       "      <td>213.0</td>\n",
       "      <td>3029686.0</td>\n",
       "      <td>3.011870e+09</td>\n",
       "      <td>Crown Heights South</td>\n",
       "      <td>17K548</td>\n",
       "      <td>40.670299</td>\n",
       "      <td>-73.961648</td>\n",
       "    </tr>\n",
       "    <tr>\n",
       "      <th>1</th>\n",
       "      <td>09X543</td>\n",
       "      <td>High School for Violin and Dance</td>\n",
       "      <td>Bronx</td>\n",
       "      <td>X400</td>\n",
       "      <td>718-842-0687</td>\n",
       "      <td>718-589-9849</td>\n",
       "      <td>9.0</td>\n",
       "      <td>12</td>\n",
       "      <td>NaN</td>\n",
       "      <td>NaN</td>\n",
       "      <td>...</td>\n",
       "      <td>1110 Boston Road\\nBronx, NY 10456\\n(40.8276026690005, -73.90447525699966)</td>\n",
       "      <td>3.0</td>\n",
       "      <td>16.0</td>\n",
       "      <td>135.0</td>\n",
       "      <td>2004526.0</td>\n",
       "      <td>2.026340e+09</td>\n",
       "      <td>Morrisania-Melrose</td>\n",
       "      <td>09X543</td>\n",
       "      <td>40.827603</td>\n",
       "      <td>-73.904475</td>\n",
       "    </tr>\n",
       "  </tbody>\n",
       "</table>\n",
       "<p>2 rows × 67 columns</p>\n",
       "</div>"
      ],
      "text/plain": [
       "      dbn                          school_name   borough building_code  \\\n",
       "0  17K548  Brooklyn School for Music & Theatre  Brooklyn          K440   \n",
       "1  09X543     High School for Violin and Dance     Bronx          X400   \n",
       "\n",
       "   phone_number    fax_number  grade_span_min  grade_span_max  \\\n",
       "0  718-230-6250  718-230-6262             9.0              12   \n",
       "1  718-842-0687  718-589-9849             9.0              12   \n",
       "\n",
       "   expgrade_span_min  expgrade_span_max    ...      \\\n",
       "0                NaN                NaN    ...       \n",
       "1                NaN                NaN    ...       \n",
       "\n",
       "                                                                        Location 1  \\\n",
       "0  883 Classon Avenue\\nBrooklyn, NY 11225\\n(40.67029890700047, -73.96164787599963)   \n",
       "1        1110 Boston Road\\nBronx, NY 10456\\n(40.8276026690005, -73.90447525699966)   \n",
       "\n",
       "  Community Board Council District Census Tract        BIN           BBL  \\\n",
       "0             9.0             35.0        213.0  3029686.0  3.011870e+09   \n",
       "1             3.0             16.0        135.0  2004526.0  2.026340e+09   \n",
       "\n",
       "                                                                           NTA  \\\n",
       "0  Crown Heights South                                                           \n",
       "1  Morrisania-Melrose                                                            \n",
       "\n",
       "      DBN        lat       long  \n",
       "0  17K548  40.670299 -73.961648  \n",
       "1  09X543  40.827603 -73.904475  \n",
       "\n",
       "[2 rows x 67 columns]"
      ]
     },
     "execution_count": 69,
     "metadata": {},
     "output_type": "execute_result"
    }
   ],
   "source": [
    "schools_data[\"High_School_Directory\"].head(2)"
   ]
  },
  {
   "cell_type": "markdown",
   "metadata": {
    "collapsed": true
   },
   "source": [
    "The DBN variable is the best approach for unique identification of the observations. It allows identification\n",
    "for the observations in SAT result data set for example. It is a kind of a primary key.\n",
    "However in other data sets DBN is associated with mutiple observations, e.g. in the class size data set.\n",
    "DBN is the identifier of a school, while a school has mutiple entries with regard to the program type for example.\n",
    "Merging the data sets into one is therefore not possible as long as the DBN keys of the data sets do not match.\n",
    "The task here is then to give class_size, graduation, and demographics data sets each a unique DBN primary key."
   ]
  },
  {
   "cell_type": "code",
   "execution_count": 70,
   "metadata": {},
   "outputs": [
    {
     "name": "stdout",
     "output_type": "stream",
     "text": [
      "(27611, 18)\n",
      "1487\n"
     ]
    }
   ],
   "source": [
    "print(schools_data[\"Class_Size\"].shape)\n",
    "print(len(schools_data[\"Class_Size\"][\"DBN\"].unique()))"
   ]
  },
  {
   "cell_type": "markdown",
   "metadata": {},
   "source": [
    "The class size df has 27611 observations but only 1487 unique DBN values. In case of DBN being a\n",
    "unique identifier it must be 27611 DBN values, one for every observation."
   ]
  },
  {
   "cell_type": "markdown",
   "metadata": {},
   "source": [
    "Filtering class size"
   ]
  },
  {
   "cell_type": "code",
   "execution_count": 71,
   "metadata": {},
   "outputs": [
    {
     "name": "stdout",
     "output_type": "stream",
     "text": [
      "dict_keys(['AP__College_Board', 'Class_Size', 'Graduation_Outcomes', 'High_School_Directory', 'SAT_Results', 'School_Demographics', 'School_Level', 'survey'])\n"
     ]
    }
   ],
   "source": [
    "print(schools_data.keys())"
   ]
  },
  {
   "cell_type": "code",
   "execution_count": 72,
   "metadata": {},
   "outputs": [
    {
     "data": {
      "text/plain": [
       "Index(['CSD', 'BOROUGH', 'SCHOOL CODE', 'SCHOOL NAME', 'GRADE ',\n",
       "       'PROGRAM TYPE', 'CORE SUBJECT (MS CORE and 9-12 ONLY)',\n",
       "       'CORE COURSE (MS CORE and 9-12 ONLY)', 'SERVICE CATEGORY(K-9* ONLY)',\n",
       "       'NUMBER OF STUDENTS / SEATS FILLED', 'NUMBER OF SECTIONS',\n",
       "       'AVERAGE CLASS SIZE', 'SIZE OF SMALLEST CLASS', 'SIZE OF LARGEST CLASS',\n",
       "       'DATA SOURCE', 'SCHOOLWIDE PUPIL-TEACHER RATIO', 'DBN', 'padded_csd'],\n",
       "      dtype='object')"
      ]
     },
     "execution_count": 72,
     "metadata": {},
     "output_type": "execute_result"
    }
   ],
   "source": [
    "schools_data[\"Class_Size\"].columns"
   ]
  },
  {
   "cell_type": "code",
   "execution_count": 73,
   "metadata": {},
   "outputs": [
    {
     "name": "stdout",
     "output_type": "stream",
     "text": [
      "<class 'str'>\n"
     ]
    },
    {
     "data": {
      "text/plain": [
       "Index(['CSD', 'BOROUGH', 'SCHOOL CODE', 'SCHOOL NAME', 'GRADE', 'PROGRAM TYPE',\n",
       "       'CORE SUBJECT (MS CORE and 9-12 ONLY)',\n",
       "       'CORE COURSE (MS CORE and 9-12 ONLY)', 'SERVICE CATEGORY(K-9* ONLY)',\n",
       "       'NUMBER OF STUDENTS / SEATS FILLED', 'NUMBER OF SECTIONS',\n",
       "       'AVERAGE CLASS SIZE', 'SIZE OF SMALLEST CLASS', 'SIZE OF LARGEST CLASS',\n",
       "       'DATA SOURCE', 'SCHOOLWIDE PUPIL-TEACHER RATIO', 'DBN', 'padded_csd'],\n",
       "      dtype='object')"
      ]
     },
     "execution_count": 73,
     "metadata": {},
     "output_type": "execute_result"
    }
   ],
   "source": [
    "# GRADE column name has blank space, correcting\n",
    "schools_data[\"Class_Size\"].rename(columns={'GRADE ':\"GRADE\"}, inplace=True)\n",
    "# Check data type\n",
    "print(type(schools_data[\"Class_Size\"].loc[3, 'GRADE']))\n",
    "schools_data[\"Class_Size\"].columns"
   ]
  },
  {
   "cell_type": "code",
   "execution_count": 74,
   "metadata": {},
   "outputs": [
    {
     "data": {
      "text/html": [
       "<div>\n",
       "<style>\n",
       "    .dataframe thead tr:only-child th {\n",
       "        text-align: right;\n",
       "    }\n",
       "\n",
       "    .dataframe thead th {\n",
       "        text-align: left;\n",
       "    }\n",
       "\n",
       "    .dataframe tbody tr th {\n",
       "        vertical-align: top;\n",
       "    }\n",
       "</style>\n",
       "<table border=\"1\" class=\"dataframe\">\n",
       "  <thead>\n",
       "    <tr style=\"text-align: right;\">\n",
       "      <th></th>\n",
       "      <th>CSD</th>\n",
       "      <th>BOROUGH</th>\n",
       "      <th>SCHOOL CODE</th>\n",
       "      <th>SCHOOL NAME</th>\n",
       "      <th>GRADE</th>\n",
       "      <th>PROGRAM TYPE</th>\n",
       "      <th>CORE SUBJECT (MS CORE and 9-12 ONLY)</th>\n",
       "      <th>CORE COURSE (MS CORE and 9-12 ONLY)</th>\n",
       "      <th>SERVICE CATEGORY(K-9* ONLY)</th>\n",
       "      <th>NUMBER OF STUDENTS / SEATS FILLED</th>\n",
       "      <th>NUMBER OF SECTIONS</th>\n",
       "      <th>AVERAGE CLASS SIZE</th>\n",
       "      <th>SIZE OF SMALLEST CLASS</th>\n",
       "      <th>SIZE OF LARGEST CLASS</th>\n",
       "      <th>DATA SOURCE</th>\n",
       "      <th>SCHOOLWIDE PUPIL-TEACHER RATIO</th>\n",
       "      <th>DBN</th>\n",
       "      <th>padded_csd</th>\n",
       "    </tr>\n",
       "  </thead>\n",
       "  <tbody>\n",
       "    <tr>\n",
       "      <th>0</th>\n",
       "      <td>01</td>\n",
       "      <td>M</td>\n",
       "      <td>M015</td>\n",
       "      <td>P.S. 015 Roberto Clemente</td>\n",
       "      <td>0K</td>\n",
       "      <td>GEN ED</td>\n",
       "      <td>-</td>\n",
       "      <td>-</td>\n",
       "      <td>-</td>\n",
       "      <td>19.0</td>\n",
       "      <td>1.0</td>\n",
       "      <td>19.0</td>\n",
       "      <td>19.0</td>\n",
       "      <td>19.0</td>\n",
       "      <td>ATS</td>\n",
       "      <td>NaN</td>\n",
       "      <td>01M015</td>\n",
       "      <td>01</td>\n",
       "    </tr>\n",
       "    <tr>\n",
       "      <th>1</th>\n",
       "      <td>01</td>\n",
       "      <td>M</td>\n",
       "      <td>M015</td>\n",
       "      <td>P.S. 015 Roberto Clemente</td>\n",
       "      <td>0K</td>\n",
       "      <td>CTT</td>\n",
       "      <td>-</td>\n",
       "      <td>-</td>\n",
       "      <td>-</td>\n",
       "      <td>21.0</td>\n",
       "      <td>1.0</td>\n",
       "      <td>21.0</td>\n",
       "      <td>21.0</td>\n",
       "      <td>21.0</td>\n",
       "      <td>ATS</td>\n",
       "      <td>NaN</td>\n",
       "      <td>01M015</td>\n",
       "      <td>01</td>\n",
       "    </tr>\n",
       "    <tr>\n",
       "      <th>2</th>\n",
       "      <td>01</td>\n",
       "      <td>M</td>\n",
       "      <td>M015</td>\n",
       "      <td>P.S. 015 Roberto Clemente</td>\n",
       "      <td>01</td>\n",
       "      <td>GEN ED</td>\n",
       "      <td>-</td>\n",
       "      <td>-</td>\n",
       "      <td>-</td>\n",
       "      <td>17.0</td>\n",
       "      <td>1.0</td>\n",
       "      <td>17.0</td>\n",
       "      <td>17.0</td>\n",
       "      <td>17.0</td>\n",
       "      <td>ATS</td>\n",
       "      <td>NaN</td>\n",
       "      <td>01M015</td>\n",
       "      <td>01</td>\n",
       "    </tr>\n",
       "    <tr>\n",
       "      <th>3</th>\n",
       "      <td>01</td>\n",
       "      <td>M</td>\n",
       "      <td>M015</td>\n",
       "      <td>P.S. 015 Roberto Clemente</td>\n",
       "      <td>01</td>\n",
       "      <td>CTT</td>\n",
       "      <td>-</td>\n",
       "      <td>-</td>\n",
       "      <td>-</td>\n",
       "      <td>17.0</td>\n",
       "      <td>1.0</td>\n",
       "      <td>17.0</td>\n",
       "      <td>17.0</td>\n",
       "      <td>17.0</td>\n",
       "      <td>ATS</td>\n",
       "      <td>NaN</td>\n",
       "      <td>01M015</td>\n",
       "      <td>01</td>\n",
       "    </tr>\n",
       "  </tbody>\n",
       "</table>\n",
       "</div>"
      ],
      "text/plain": [
       "  CSD BOROUGH SCHOOL CODE                SCHOOL NAME GRADE PROGRAM TYPE  \\\n",
       "0  01       M        M015  P.S. 015 Roberto Clemente    0K       GEN ED   \n",
       "1  01       M        M015  P.S. 015 Roberto Clemente    0K          CTT   \n",
       "2  01       M        M015  P.S. 015 Roberto Clemente    01       GEN ED   \n",
       "3  01       M        M015  P.S. 015 Roberto Clemente    01          CTT   \n",
       "\n",
       "  CORE SUBJECT (MS CORE and 9-12 ONLY) CORE COURSE (MS CORE and 9-12 ONLY)  \\\n",
       "0                                    -                                   -   \n",
       "1                                    -                                   -   \n",
       "2                                    -                                   -   \n",
       "3                                    -                                   -   \n",
       "\n",
       "  SERVICE CATEGORY(K-9* ONLY)  NUMBER OF STUDENTS / SEATS FILLED  \\\n",
       "0                           -                               19.0   \n",
       "1                           -                               21.0   \n",
       "2                           -                               17.0   \n",
       "3                           -                               17.0   \n",
       "\n",
       "   NUMBER OF SECTIONS  AVERAGE CLASS SIZE  SIZE OF SMALLEST CLASS  \\\n",
       "0                 1.0                19.0                    19.0   \n",
       "1                 1.0                21.0                    21.0   \n",
       "2                 1.0                17.0                    17.0   \n",
       "3                 1.0                17.0                    17.0   \n",
       "\n",
       "   SIZE OF LARGEST CLASS DATA SOURCE  SCHOOLWIDE PUPIL-TEACHER RATIO     DBN  \\\n",
       "0                   19.0         ATS                             NaN  01M015   \n",
       "1                   21.0         ATS                             NaN  01M015   \n",
       "2                   17.0         ATS                             NaN  01M015   \n",
       "3                   17.0         ATS                             NaN  01M015   \n",
       "\n",
       "  padded_csd  \n",
       "0         01  \n",
       "1         01  \n",
       "2         01  \n",
       "3         01  "
      ]
     },
     "execution_count": 74,
     "metadata": {},
     "output_type": "execute_result"
    }
   ],
   "source": [
    "schools_data[\"Class_Size\"].head(4)"
   ]
  },
  {
   "cell_type": "code",
   "execution_count": 75,
   "metadata": {},
   "outputs": [
    {
     "name": "stdout",
     "output_type": "stream",
     "text": [
      "['0K' '01' '02' '03' '04' '05' '0K-09' nan '06' '07' '08' 'MS Core' '09-12'\n",
      " '09']\n",
      "09-12      10644\n",
      "MS Core     4762\n",
      "0K-09       1384\n",
      "0K          1237\n",
      "01          1185\n",
      "02          1167\n",
      "03          1143\n",
      "04          1140\n",
      "05          1086\n",
      "06           846\n",
      "07           778\n",
      "08           735\n",
      "09            20\n",
      "Name: GRADE, dtype: int64\n"
     ]
    }
   ],
   "source": [
    "print(schools_data[\"Class_Size\"][\"GRADE\"].unique())\n",
    "print(schools_data[\"Class_Size\"][\"GRADE\"].value_counts())"
   ]
  },
  {
   "cell_type": "code",
   "execution_count": 76,
   "metadata": {},
   "outputs": [
    {
     "name": "stdout",
     "output_type": "stream",
     "text": [
      "['GEN ED' 'CTT' 'SPEC ED' nan 'G&T']\n",
      "GEN ED     14545\n",
      "CTT         7460\n",
      "SPEC ED     3653\n",
      "G&T          469\n",
      "Name: PROGRAM TYPE, dtype: int64\n"
     ]
    }
   ],
   "source": [
    "print(schools_data[\"Class_Size\"][\"PROGRAM TYPE\"].unique())\n",
    "print(schools_data[\"Class_Size\"][\"PROGRAM TYPE\"].value_counts())"
   ]
  },
  {
   "cell_type": "markdown",
   "metadata": {},
   "source": [
    "GEN ED is the program type with the highest count. Only rows where PROGRAM TYPE is GEN ED are selected."
   ]
  },
  {
   "cell_type": "markdown",
   "metadata": {},
   "source": [
    "Picking only rows where the value in the GRADE column is 09-12, because that's the period of the SAT."
   ]
  },
  {
   "cell_type": "markdown",
   "metadata": {},
   "source": [
    "#### Modify class size"
   ]
  },
  {
   "cell_type": "code",
   "execution_count": 77,
   "metadata": {},
   "outputs": [
    {
     "name": "stdout",
     "output_type": "stream",
     "text": [
      "<class 'pandas.core.frame.DataFrame'>\n",
      "RangeIndex: 27611 entries, 0 to 27610\n",
      "Data columns (total 18 columns):\n",
      "CSD                                     27611 non-null object\n",
      "BOROUGH                                 27611 non-null object\n",
      "SCHOOL CODE                             27611 non-null object\n",
      "SCHOOL NAME                             27611 non-null object\n",
      "GRADE                                   26127 non-null object\n",
      "PROGRAM TYPE                            26127 non-null object\n",
      "CORE SUBJECT (MS CORE and 9-12 ONLY)    26127 non-null object\n",
      "CORE COURSE (MS CORE and 9-12 ONLY)     26127 non-null object\n",
      "SERVICE CATEGORY(K-9* ONLY)             26127 non-null object\n",
      "NUMBER OF STUDENTS / SEATS FILLED       26127 non-null float64\n",
      "NUMBER OF SECTIONS                      26127 non-null float64\n",
      "AVERAGE CLASS SIZE                      26127 non-null float64\n",
      "SIZE OF SMALLEST CLASS                  26127 non-null float64\n",
      "SIZE OF LARGEST CLASS                   26127 non-null float64\n",
      "DATA SOURCE                             26127 non-null object\n",
      "SCHOOLWIDE PUPIL-TEACHER RATIO          1484 non-null float64\n",
      "DBN                                     27611 non-null object\n",
      "padded_csd                              27611 non-null object\n",
      "dtypes: float64(6), object(12)\n",
      "memory usage: 3.8+ MB\n"
     ]
    }
   ],
   "source": [
    "class_size = schools_data[\"Class_Size\"]\n",
    "class_size.info()"
   ]
  },
  {
   "cell_type": "code",
   "execution_count": 78,
   "metadata": {},
   "outputs": [
    {
     "name": "stdout",
     "output_type": "stream",
     "text": [
      "(6513, 18)\n"
     ]
    }
   ],
   "source": [
    "# df[(df['col1'] >= 1) & (df['col1'] <=1 )]\n",
    "class_size_0912 = class_size[(class_size[\"GRADE\"] == \"09-12\") & (class_size[\"PROGRAM TYPE\"] == \"GEN ED\")]\n",
    "print(class_size_0912.shape)"
   ]
  },
  {
   "cell_type": "code",
   "execution_count": 79,
   "metadata": {},
   "outputs": [
    {
     "data": {
      "text/html": [
       "<div>\n",
       "<style>\n",
       "    .dataframe thead tr:only-child th {\n",
       "        text-align: right;\n",
       "    }\n",
       "\n",
       "    .dataframe thead th {\n",
       "        text-align: left;\n",
       "    }\n",
       "\n",
       "    .dataframe tbody tr th {\n",
       "        vertical-align: top;\n",
       "    }\n",
       "</style>\n",
       "<table border=\"1\" class=\"dataframe\">\n",
       "  <thead>\n",
       "    <tr style=\"text-align: right;\">\n",
       "      <th></th>\n",
       "      <th>CSD</th>\n",
       "      <th>BOROUGH</th>\n",
       "      <th>SCHOOL CODE</th>\n",
       "      <th>SCHOOL NAME</th>\n",
       "      <th>GRADE</th>\n",
       "      <th>PROGRAM TYPE</th>\n",
       "      <th>CORE SUBJECT (MS CORE and 9-12 ONLY)</th>\n",
       "      <th>CORE COURSE (MS CORE and 9-12 ONLY)</th>\n",
       "      <th>SERVICE CATEGORY(K-9* ONLY)</th>\n",
       "      <th>NUMBER OF STUDENTS / SEATS FILLED</th>\n",
       "      <th>NUMBER OF SECTIONS</th>\n",
       "      <th>AVERAGE CLASS SIZE</th>\n",
       "      <th>SIZE OF SMALLEST CLASS</th>\n",
       "      <th>SIZE OF LARGEST CLASS</th>\n",
       "      <th>DATA SOURCE</th>\n",
       "      <th>SCHOOLWIDE PUPIL-TEACHER RATIO</th>\n",
       "      <th>DBN</th>\n",
       "      <th>padded_csd</th>\n",
       "    </tr>\n",
       "  </thead>\n",
       "  <tbody>\n",
       "    <tr>\n",
       "      <th>225</th>\n",
       "      <td>01</td>\n",
       "      <td>M</td>\n",
       "      <td>M292</td>\n",
       "      <td>Henry Street School for International Studies</td>\n",
       "      <td>09-12</td>\n",
       "      <td>GEN ED</td>\n",
       "      <td>ENGLISH</td>\n",
       "      <td>English 9</td>\n",
       "      <td>-</td>\n",
       "      <td>63.0</td>\n",
       "      <td>3.0</td>\n",
       "      <td>21.0</td>\n",
       "      <td>19.0</td>\n",
       "      <td>25.0</td>\n",
       "      <td>STARS</td>\n",
       "      <td>NaN</td>\n",
       "      <td>01M292</td>\n",
       "      <td>01</td>\n",
       "    </tr>\n",
       "    <tr>\n",
       "      <th>226</th>\n",
       "      <td>01</td>\n",
       "      <td>M</td>\n",
       "      <td>M292</td>\n",
       "      <td>Henry Street School for International Studies</td>\n",
       "      <td>09-12</td>\n",
       "      <td>GEN ED</td>\n",
       "      <td>ENGLISH</td>\n",
       "      <td>English 10</td>\n",
       "      <td>-</td>\n",
       "      <td>79.0</td>\n",
       "      <td>3.0</td>\n",
       "      <td>26.3</td>\n",
       "      <td>24.0</td>\n",
       "      <td>31.0</td>\n",
       "      <td>STARS</td>\n",
       "      <td>NaN</td>\n",
       "      <td>01M292</td>\n",
       "      <td>01</td>\n",
       "    </tr>\n",
       "  </tbody>\n",
       "</table>\n",
       "</div>"
      ],
      "text/plain": [
       "    CSD BOROUGH SCHOOL CODE                                    SCHOOL NAME  \\\n",
       "225  01       M        M292  Henry Street School for International Studies   \n",
       "226  01       M        M292  Henry Street School for International Studies   \n",
       "\n",
       "     GRADE PROGRAM TYPE CORE SUBJECT (MS CORE and 9-12 ONLY)  \\\n",
       "225  09-12       GEN ED                              ENGLISH   \n",
       "226  09-12       GEN ED                              ENGLISH   \n",
       "\n",
       "    CORE COURSE (MS CORE and 9-12 ONLY) SERVICE CATEGORY(K-9* ONLY)  \\\n",
       "225                           English 9                           -   \n",
       "226                          English 10                           -   \n",
       "\n",
       "     NUMBER OF STUDENTS / SEATS FILLED  NUMBER OF SECTIONS  \\\n",
       "225                               63.0                 3.0   \n",
       "226                               79.0                 3.0   \n",
       "\n",
       "     AVERAGE CLASS SIZE  SIZE OF SMALLEST CLASS  SIZE OF LARGEST CLASS  \\\n",
       "225                21.0                    19.0                   25.0   \n",
       "226                26.3                    24.0                   31.0   \n",
       "\n",
       "    DATA SOURCE  SCHOOLWIDE PUPIL-TEACHER RATIO     DBN padded_csd  \n",
       "225       STARS                             NaN  01M292         01  \n",
       "226       STARS                             NaN  01M292         01  "
      ]
     },
     "execution_count": 79,
     "metadata": {},
     "output_type": "execute_result"
    }
   ],
   "source": [
    "class_size_0912.head(2)"
   ]
  },
  {
   "cell_type": "code",
   "execution_count": 80,
   "metadata": {},
   "outputs": [
    {
     "name": "stdout",
     "output_type": "stream",
     "text": [
      "583\n",
      "6513\n",
      "{'CSD': 32, 'BOROUGH': 5, 'SCHOOL CODE': 583, 'SCHOOL NAME': 583, 'GRADE': 1, 'PROGRAM TYPE': 1, 'CORE SUBJECT (MS CORE and 9-12 ONLY)': 4, 'CORE COURSE (MS CORE and 9-12 ONLY)': 22, 'SERVICE CATEGORY(K-9* ONLY)': 1, 'NUMBER OF STUDENTS / SEATS FILLED': 830, 'NUMBER OF SECTIONS': 73, 'AVERAGE CLASS SIZE': 253, 'SIZE OF SMALLEST CLASS': 35, 'SIZE OF LARGEST CLASS': 57, 'DATA SOURCE': 1, 'SCHOOLWIDE PUPIL-TEACHER RATIO': 1, 'DBN': 583, 'padded_csd': 32}\n"
     ]
    }
   ],
   "source": [
    "# Investigate unique values\n",
    "print(len(class_size_0912[\"DBN\"].unique()))\n",
    "print(class_size_0912.shape[0])\n",
    "\n",
    "class_column_names = list(class_size_0912.columns.values)\n",
    "class_len = {}\n",
    "for name in class_column_names:\n",
    "    class_len[name] = len(class_size_0912[name].unique())\n",
    "\n",
    "print(class_len)"
   ]
  },
  {
   "cell_type": "markdown",
   "metadata": {},
   "source": [
    "DBN count still lower than observations. DBN still isn't completely unique. "
   ]
  },
  {
   "cell_type": "code",
   "execution_count": 81,
   "metadata": {},
   "outputs": [
    {
     "name": "stdout",
     "output_type": "stream",
     "text": [
      "['ENGLISH' 'MATH' 'SCIENCE' 'SOCIAL STUDIES']\n",
      "['English 9' 'English 10' 'English 11' 'English 12' 'Integrated Algebra'\n",
      " 'Geometry' 'Other Math' 'Earth Science' 'Living Environment' 'Chemistry'\n",
      " 'Physics' 'Other Science' 'Global History & Geography'\n",
      " 'US History & Government' 'MS English Core' 'Other English' 'Trigonometry'\n",
      " 'Participation in Government' 'Math A' 'Economics' 'Other Social Studies'\n",
      " 'Math B']\n"
     ]
    }
   ],
   "source": [
    "print(class_size_0912[\"CORE SUBJECT (MS CORE and 9-12 ONLY)\"].unique())\n",
    "print(class_size_0912[\"CORE COURSE (MS CORE and 9-12 ONLY)\"].unique())"
   ]
  },
  {
   "cell_type": "markdown",
   "metadata": {},
   "source": [
    "Make unique DBN by averaging per DBN category."
   ]
  },
  {
   "cell_type": "code",
   "execution_count": 82,
   "metadata": {},
   "outputs": [
    {
     "data": {
      "text/html": [
       "<div>\n",
       "<style>\n",
       "    .dataframe thead tr:only-child th {\n",
       "        text-align: right;\n",
       "    }\n",
       "\n",
       "    .dataframe thead th {\n",
       "        text-align: left;\n",
       "    }\n",
       "\n",
       "    .dataframe tbody tr th {\n",
       "        vertical-align: top;\n",
       "    }\n",
       "</style>\n",
       "<table border=\"1\" class=\"dataframe\">\n",
       "  <thead>\n",
       "    <tr style=\"text-align: right;\">\n",
       "      <th></th>\n",
       "      <th>DBN</th>\n",
       "      <th>NUMBER OF STUDENTS / SEATS FILLED</th>\n",
       "      <th>NUMBER OF SECTIONS</th>\n",
       "      <th>AVERAGE CLASS SIZE</th>\n",
       "      <th>SIZE OF SMALLEST CLASS</th>\n",
       "      <th>SIZE OF LARGEST CLASS</th>\n",
       "      <th>SCHOOLWIDE PUPIL-TEACHER RATIO</th>\n",
       "    </tr>\n",
       "  </thead>\n",
       "  <tbody>\n",
       "    <tr>\n",
       "      <th>0</th>\n",
       "      <td>01M292</td>\n",
       "      <td>88.0000</td>\n",
       "      <td>4.000000</td>\n",
       "      <td>22.564286</td>\n",
       "      <td>18.50</td>\n",
       "      <td>26.571429</td>\n",
       "      <td>NaN</td>\n",
       "    </tr>\n",
       "    <tr>\n",
       "      <th>1</th>\n",
       "      <td>01M332</td>\n",
       "      <td>46.0000</td>\n",
       "      <td>2.000000</td>\n",
       "      <td>22.000000</td>\n",
       "      <td>21.00</td>\n",
       "      <td>23.500000</td>\n",
       "      <td>NaN</td>\n",
       "    </tr>\n",
       "    <tr>\n",
       "      <th>2</th>\n",
       "      <td>01M378</td>\n",
       "      <td>33.0000</td>\n",
       "      <td>1.000000</td>\n",
       "      <td>33.000000</td>\n",
       "      <td>33.00</td>\n",
       "      <td>33.000000</td>\n",
       "      <td>NaN</td>\n",
       "    </tr>\n",
       "    <tr>\n",
       "      <th>3</th>\n",
       "      <td>01M448</td>\n",
       "      <td>105.6875</td>\n",
       "      <td>4.750000</td>\n",
       "      <td>22.231250</td>\n",
       "      <td>18.25</td>\n",
       "      <td>27.062500</td>\n",
       "      <td>NaN</td>\n",
       "    </tr>\n",
       "    <tr>\n",
       "      <th>4</th>\n",
       "      <td>01M450</td>\n",
       "      <td>57.6000</td>\n",
       "      <td>2.733333</td>\n",
       "      <td>21.200000</td>\n",
       "      <td>19.40</td>\n",
       "      <td>22.866667</td>\n",
       "      <td>NaN</td>\n",
       "    </tr>\n",
       "  </tbody>\n",
       "</table>\n",
       "</div>"
      ],
      "text/plain": [
       "      DBN  NUMBER OF STUDENTS / SEATS FILLED  NUMBER OF SECTIONS  \\\n",
       "0  01M292                            88.0000            4.000000   \n",
       "1  01M332                            46.0000            2.000000   \n",
       "2  01M378                            33.0000            1.000000   \n",
       "3  01M448                           105.6875            4.750000   \n",
       "4  01M450                            57.6000            2.733333   \n",
       "\n",
       "   AVERAGE CLASS SIZE  SIZE OF SMALLEST CLASS  SIZE OF LARGEST CLASS  \\\n",
       "0           22.564286                   18.50              26.571429   \n",
       "1           22.000000                   21.00              23.500000   \n",
       "2           33.000000                   33.00              33.000000   \n",
       "3           22.231250                   18.25              27.062500   \n",
       "4           21.200000                   19.40              22.866667   \n",
       "\n",
       "   SCHOOLWIDE PUPIL-TEACHER RATIO  \n",
       "0                             NaN  \n",
       "1                             NaN  \n",
       "2                             NaN  \n",
       "3                             NaN  \n",
       "4                             NaN  "
      ]
     },
     "execution_count": 82,
     "metadata": {},
     "output_type": "execute_result"
    }
   ],
   "source": [
    "class_size=class_size_0912.groupby(\"DBN\").agg(\"mean\")\n",
    "class_size.reset_index(inplace=True)\n",
    "class_size.head()"
   ]
  },
  {
   "cell_type": "code",
   "execution_count": 83,
   "metadata": {},
   "outputs": [
    {
     "data": {
      "text/html": [
       "<div>\n",
       "<style>\n",
       "    .dataframe thead tr:only-child th {\n",
       "        text-align: right;\n",
       "    }\n",
       "\n",
       "    .dataframe thead th {\n",
       "        text-align: left;\n",
       "    }\n",
       "\n",
       "    .dataframe tbody tr th {\n",
       "        vertical-align: top;\n",
       "    }\n",
       "</style>\n",
       "<table border=\"1\" class=\"dataframe\">\n",
       "  <thead>\n",
       "    <tr style=\"text-align: right;\">\n",
       "      <th></th>\n",
       "      <th>DBN</th>\n",
       "      <th>NUMBER OF STUDENTS / SEATS FILLED</th>\n",
       "      <th>NUMBER OF SECTIONS</th>\n",
       "      <th>AVERAGE CLASS SIZE</th>\n",
       "      <th>SIZE OF SMALLEST CLASS</th>\n",
       "      <th>SIZE OF LARGEST CLASS</th>\n",
       "      <th>SCHOOLWIDE PUPIL-TEACHER RATIO</th>\n",
       "    </tr>\n",
       "  </thead>\n",
       "  <tbody>\n",
       "    <tr>\n",
       "      <th>578</th>\n",
       "      <td>32K549</td>\n",
       "      <td>71.066667</td>\n",
       "      <td>3.266667</td>\n",
       "      <td>22.760000</td>\n",
       "      <td>19.866667</td>\n",
       "      <td>25.866667</td>\n",
       "      <td>NaN</td>\n",
       "    </tr>\n",
       "    <tr>\n",
       "      <th>579</th>\n",
       "      <td>32K552</td>\n",
       "      <td>102.375000</td>\n",
       "      <td>4.312500</td>\n",
       "      <td>23.900000</td>\n",
       "      <td>19.937500</td>\n",
       "      <td>28.000000</td>\n",
       "      <td>NaN</td>\n",
       "    </tr>\n",
       "    <tr>\n",
       "      <th>580</th>\n",
       "      <td>32K554</td>\n",
       "      <td>66.937500</td>\n",
       "      <td>3.812500</td>\n",
       "      <td>17.793750</td>\n",
       "      <td>14.750000</td>\n",
       "      <td>21.625000</td>\n",
       "      <td>NaN</td>\n",
       "    </tr>\n",
       "    <tr>\n",
       "      <th>581</th>\n",
       "      <td>32K556</td>\n",
       "      <td>132.333333</td>\n",
       "      <td>5.400000</td>\n",
       "      <td>25.060000</td>\n",
       "      <td>18.333333</td>\n",
       "      <td>30.000000</td>\n",
       "      <td>NaN</td>\n",
       "    </tr>\n",
       "    <tr>\n",
       "      <th>582</th>\n",
       "      <td>32K564</td>\n",
       "      <td>136.142857</td>\n",
       "      <td>5.428571</td>\n",
       "      <td>24.964286</td>\n",
       "      <td>20.071429</td>\n",
       "      <td>28.571429</td>\n",
       "      <td>NaN</td>\n",
       "    </tr>\n",
       "  </tbody>\n",
       "</table>\n",
       "</div>"
      ],
      "text/plain": [
       "        DBN  NUMBER OF STUDENTS / SEATS FILLED  NUMBER OF SECTIONS  \\\n",
       "578  32K549                          71.066667            3.266667   \n",
       "579  32K552                         102.375000            4.312500   \n",
       "580  32K554                          66.937500            3.812500   \n",
       "581  32K556                         132.333333            5.400000   \n",
       "582  32K564                         136.142857            5.428571   \n",
       "\n",
       "     AVERAGE CLASS SIZE  SIZE OF SMALLEST CLASS  SIZE OF LARGEST CLASS  \\\n",
       "578           22.760000               19.866667              25.866667   \n",
       "579           23.900000               19.937500              28.000000   \n",
       "580           17.793750               14.750000              21.625000   \n",
       "581           25.060000               18.333333              30.000000   \n",
       "582           24.964286               20.071429              28.571429   \n",
       "\n",
       "     SCHOOLWIDE PUPIL-TEACHER RATIO  \n",
       "578                             NaN  \n",
       "579                             NaN  \n",
       "580                             NaN  \n",
       "581                             NaN  \n",
       "582                             NaN  "
      ]
     },
     "execution_count": 83,
     "metadata": {},
     "output_type": "execute_result"
    }
   ],
   "source": [
    "class_size.tail()"
   ]
  },
  {
   "cell_type": "code",
   "execution_count": 84,
   "metadata": {},
   "outputs": [
    {
     "name": "stdout",
     "output_type": "stream",
     "text": [
      "583\n",
      "(583,)\n"
     ]
    }
   ],
   "source": [
    "print(len(class_size[\"DBN\"].unique()))\n",
    "print(class_size[\"DBN\"].shape)"
   ]
  },
  {
   "cell_type": "markdown",
   "metadata": {},
   "source": [
    "Number of observations and number of unique DBN identifiers are equal."
   ]
  },
  {
   "cell_type": "code",
   "execution_count": 85,
   "metadata": {},
   "outputs": [],
   "source": [
    "schools_data[\"class size\"] = class_size"
   ]
  },
  {
   "cell_type": "markdown",
   "metadata": {},
   "source": [
    "#### Modify demographics"
   ]
  },
  {
   "cell_type": "code",
   "execution_count": 86,
   "metadata": {},
   "outputs": [],
   "source": [
    "# schools_data.keys()\n",
    "demographics = schools_data['School_Demographics']"
   ]
  },
  {
   "cell_type": "code",
   "execution_count": 87,
   "metadata": {},
   "outputs": [
    {
     "name": "stdout",
     "output_type": "stream",
     "text": [
      "<class 'pandas.core.frame.DataFrame'>\n",
      "RangeIndex: 10075 entries, 0 to 10074\n",
      "Data columns (total 38 columns):\n",
      "DBN                  10075 non-null object\n",
      "Name                 10075 non-null object\n",
      "schoolyear           10075 non-null int64\n",
      "fl_percent           5587 non-null float64\n",
      "frl_percent          4482 non-null float64\n",
      "total_enrollment     10075 non-null int64\n",
      "prek                 3762 non-null float64\n",
      "k                    5134 non-null float64\n",
      "grade1               5129 non-null float64\n",
      "grade2               5087 non-null float64\n",
      "grade3               5001 non-null float64\n",
      "grade4               4948 non-null float64\n",
      "grade5               4986 non-null float64\n",
      "grade6               3512 non-null float64\n",
      "grade7               3180 non-null float64\n",
      "grade8               3054 non-null float64\n",
      "grade9               2923 non-null float64\n",
      "grade10              2791 non-null float64\n",
      "grade11              2599 non-null float64\n",
      "grade12              2422 non-null float64\n",
      "ell_num              9885 non-null float64\n",
      "ell_percent          9963 non-null float64\n",
      "sped_num             9985 non-null float64\n",
      "sped_percent         10075 non-null float64\n",
      "ctt_num              8666 non-null float64\n",
      "selfcontained_num    9063 non-null float64\n",
      "asian_num            10075 non-null int64\n",
      "asian_per            10075 non-null float64\n",
      "black_num            10075 non-null int64\n",
      "black_per            10075 non-null float64\n",
      "hispanic_num         10075 non-null int64\n",
      "hispanic_per         10075 non-null float64\n",
      "white_num            10075 non-null int64\n",
      "white_per            10075 non-null float64\n",
      "male_num             10034 non-null float64\n",
      "male_per             10075 non-null float64\n",
      "female_num           10051 non-null float64\n",
      "female_per           10075 non-null float64\n",
      "dtypes: float64(30), int64(6), object(2)\n",
      "memory usage: 2.9+ MB\n"
     ]
    }
   ],
   "source": [
    "demographics.info()"
   ]
  },
  {
   "cell_type": "code",
   "execution_count": 88,
   "metadata": {},
   "outputs": [
    {
     "data": {
      "text/html": [
       "<div>\n",
       "<style>\n",
       "    .dataframe thead tr:only-child th {\n",
       "        text-align: right;\n",
       "    }\n",
       "\n",
       "    .dataframe thead th {\n",
       "        text-align: left;\n",
       "    }\n",
       "\n",
       "    .dataframe tbody tr th {\n",
       "        vertical-align: top;\n",
       "    }\n",
       "</style>\n",
       "<table border=\"1\" class=\"dataframe\">\n",
       "  <thead>\n",
       "    <tr style=\"text-align: right;\">\n",
       "      <th></th>\n",
       "      <th>DBN</th>\n",
       "      <th>Name</th>\n",
       "      <th>schoolyear</th>\n",
       "      <th>fl_percent</th>\n",
       "      <th>frl_percent</th>\n",
       "      <th>total_enrollment</th>\n",
       "      <th>prek</th>\n",
       "      <th>k</th>\n",
       "      <th>grade1</th>\n",
       "      <th>grade2</th>\n",
       "      <th>...</th>\n",
       "      <th>black_num</th>\n",
       "      <th>black_per</th>\n",
       "      <th>hispanic_num</th>\n",
       "      <th>hispanic_per</th>\n",
       "      <th>white_num</th>\n",
       "      <th>white_per</th>\n",
       "      <th>male_num</th>\n",
       "      <th>male_per</th>\n",
       "      <th>female_num</th>\n",
       "      <th>female_per</th>\n",
       "    </tr>\n",
       "  </thead>\n",
       "  <tbody>\n",
       "    <tr>\n",
       "      <th>0</th>\n",
       "      <td>01M015</td>\n",
       "      <td>P.S. 015 ROBERTO CLEMENTE</td>\n",
       "      <td>20052006</td>\n",
       "      <td>89.4</td>\n",
       "      <td>NaN</td>\n",
       "      <td>281</td>\n",
       "      <td>15.0</td>\n",
       "      <td>36.0</td>\n",
       "      <td>40.0</td>\n",
       "      <td>33.0</td>\n",
       "      <td>...</td>\n",
       "      <td>74</td>\n",
       "      <td>26.3</td>\n",
       "      <td>189</td>\n",
       "      <td>67.3</td>\n",
       "      <td>5</td>\n",
       "      <td>1.8</td>\n",
       "      <td>158.0</td>\n",
       "      <td>56.2</td>\n",
       "      <td>123.0</td>\n",
       "      <td>43.8</td>\n",
       "    </tr>\n",
       "    <tr>\n",
       "      <th>1</th>\n",
       "      <td>01M015</td>\n",
       "      <td>P.S. 015 ROBERTO CLEMENTE</td>\n",
       "      <td>20062007</td>\n",
       "      <td>89.4</td>\n",
       "      <td>NaN</td>\n",
       "      <td>243</td>\n",
       "      <td>15.0</td>\n",
       "      <td>29.0</td>\n",
       "      <td>39.0</td>\n",
       "      <td>38.0</td>\n",
       "      <td>...</td>\n",
       "      <td>68</td>\n",
       "      <td>28.0</td>\n",
       "      <td>153</td>\n",
       "      <td>63.0</td>\n",
       "      <td>4</td>\n",
       "      <td>1.6</td>\n",
       "      <td>140.0</td>\n",
       "      <td>57.6</td>\n",
       "      <td>103.0</td>\n",
       "      <td>42.4</td>\n",
       "    </tr>\n",
       "    <tr>\n",
       "      <th>2</th>\n",
       "      <td>01M015</td>\n",
       "      <td>P.S. 015 ROBERTO CLEMENTE</td>\n",
       "      <td>20072008</td>\n",
       "      <td>89.4</td>\n",
       "      <td>NaN</td>\n",
       "      <td>261</td>\n",
       "      <td>18.0</td>\n",
       "      <td>43.0</td>\n",
       "      <td>39.0</td>\n",
       "      <td>36.0</td>\n",
       "      <td>...</td>\n",
       "      <td>77</td>\n",
       "      <td>29.5</td>\n",
       "      <td>157</td>\n",
       "      <td>60.2</td>\n",
       "      <td>7</td>\n",
       "      <td>2.7</td>\n",
       "      <td>143.0</td>\n",
       "      <td>54.8</td>\n",
       "      <td>118.0</td>\n",
       "      <td>45.2</td>\n",
       "    </tr>\n",
       "    <tr>\n",
       "      <th>3</th>\n",
       "      <td>01M015</td>\n",
       "      <td>P.S. 015 ROBERTO CLEMENTE</td>\n",
       "      <td>20082009</td>\n",
       "      <td>89.4</td>\n",
       "      <td>NaN</td>\n",
       "      <td>252</td>\n",
       "      <td>17.0</td>\n",
       "      <td>37.0</td>\n",
       "      <td>44.0</td>\n",
       "      <td>32.0</td>\n",
       "      <td>...</td>\n",
       "      <td>75</td>\n",
       "      <td>29.8</td>\n",
       "      <td>149</td>\n",
       "      <td>59.1</td>\n",
       "      <td>7</td>\n",
       "      <td>2.8</td>\n",
       "      <td>149.0</td>\n",
       "      <td>59.1</td>\n",
       "      <td>103.0</td>\n",
       "      <td>40.9</td>\n",
       "    </tr>\n",
       "    <tr>\n",
       "      <th>4</th>\n",
       "      <td>01M015</td>\n",
       "      <td>P.S. 015 ROBERTO CLEMENTE</td>\n",
       "      <td>20092010</td>\n",
       "      <td>NaN</td>\n",
       "      <td>96.5</td>\n",
       "      <td>208</td>\n",
       "      <td>16.0</td>\n",
       "      <td>40.0</td>\n",
       "      <td>28.0</td>\n",
       "      <td>32.0</td>\n",
       "      <td>...</td>\n",
       "      <td>67</td>\n",
       "      <td>32.2</td>\n",
       "      <td>118</td>\n",
       "      <td>56.7</td>\n",
       "      <td>6</td>\n",
       "      <td>2.9</td>\n",
       "      <td>124.0</td>\n",
       "      <td>59.6</td>\n",
       "      <td>84.0</td>\n",
       "      <td>40.4</td>\n",
       "    </tr>\n",
       "  </tbody>\n",
       "</table>\n",
       "<p>5 rows × 38 columns</p>\n",
       "</div>"
      ],
      "text/plain": [
       "      DBN                       Name  schoolyear  fl_percent  frl_percent  \\\n",
       "0  01M015  P.S. 015 ROBERTO CLEMENTE    20052006        89.4          NaN   \n",
       "1  01M015  P.S. 015 ROBERTO CLEMENTE    20062007        89.4          NaN   \n",
       "2  01M015  P.S. 015 ROBERTO CLEMENTE    20072008        89.4          NaN   \n",
       "3  01M015  P.S. 015 ROBERTO CLEMENTE    20082009        89.4          NaN   \n",
       "4  01M015  P.S. 015 ROBERTO CLEMENTE    20092010         NaN         96.5   \n",
       "\n",
       "   total_enrollment  prek     k  grade1  grade2     ...      black_num  \\\n",
       "0               281  15.0  36.0    40.0    33.0     ...             74   \n",
       "1               243  15.0  29.0    39.0    38.0     ...             68   \n",
       "2               261  18.0  43.0    39.0    36.0     ...             77   \n",
       "3               252  17.0  37.0    44.0    32.0     ...             75   \n",
       "4               208  16.0  40.0    28.0    32.0     ...             67   \n",
       "\n",
       "   black_per  hispanic_num  hispanic_per  white_num  white_per  male_num  \\\n",
       "0       26.3           189          67.3          5        1.8     158.0   \n",
       "1       28.0           153          63.0          4        1.6     140.0   \n",
       "2       29.5           157          60.2          7        2.7     143.0   \n",
       "3       29.8           149          59.1          7        2.8     149.0   \n",
       "4       32.2           118          56.7          6        2.9     124.0   \n",
       "\n",
       "   male_per  female_num  female_per  \n",
       "0      56.2       123.0        43.8  \n",
       "1      57.6       103.0        42.4  \n",
       "2      54.8       118.0        45.2  \n",
       "3      59.1       103.0        40.9  \n",
       "4      59.6        84.0        40.4  \n",
       "\n",
       "[5 rows x 38 columns]"
      ]
     },
     "execution_count": 88,
     "metadata": {},
     "output_type": "execute_result"
    }
   ],
   "source": [
    "demographics.head()"
   ]
  },
  {
   "cell_type": "code",
   "execution_count": 89,
   "metadata": {},
   "outputs": [
    {
     "name": "stdout",
     "output_type": "stream",
     "text": [
      "1594\n",
      "(10075,)\n"
     ]
    }
   ],
   "source": [
    "print(len(demographics[\"DBN\"].unique()))\n",
    "print(demographics[\"DBN\"].shape)"
   ]
  },
  {
   "cell_type": "markdown",
   "metadata": {},
   "source": [
    "DBN cannot be a unique identifier."
   ]
  },
  {
   "cell_type": "code",
   "execution_count": 90,
   "metadata": {},
   "outputs": [
    {
     "data": {
      "text/plain": [
       "{'DBN': 1594,\n",
       " 'Name': 2987,\n",
       " 'asian_num': 806,\n",
       " 'asian_per': 749,\n",
       " 'black_num': 977,\n",
       " 'black_per': 960,\n",
       " 'ctt_num': 157,\n",
       " 'ell_num': 627,\n",
       " 'ell_percent': 666,\n",
       " 'female_num': 1127,\n",
       " 'female_per': 582,\n",
       " 'fl_percent': 947,\n",
       " 'frl_percent': 799,\n",
       " 'grade1': 284,\n",
       " 'grade10': 668,\n",
       " 'grade11': 557,\n",
       " 'grade12': 544,\n",
       " 'grade2': 267,\n",
       " 'grade3': 268,\n",
       " 'grade4': 265,\n",
       " 'grade5': 266,\n",
       " 'grade6': 488,\n",
       " 'grade7': 539,\n",
       " 'grade8': 548,\n",
       " 'grade9': 700,\n",
       " 'hispanic_num': 1138,\n",
       " 'hispanic_per': 978,\n",
       " 'k': 273,\n",
       " 'male_num': 1169,\n",
       " 'male_per': 583,\n",
       " 'prek': 106,\n",
       " 'schoolyear': 7,\n",
       " 'selfcontained_num': 243,\n",
       " 'sped_num': 429,\n",
       " 'sped_percent': 397,\n",
       " 'total_enrollment': 1840,\n",
       " 'white_num': 818,\n",
       " 'white_per': 808}"
      ]
     },
     "execution_count": 90,
     "metadata": {},
     "output_type": "execute_result"
    }
   ],
   "source": [
    "def count_unique_var(df):\n",
    "    column_names = list(df.columns.values)\n",
    "    name_len = {}\n",
    "    for name in column_names:\n",
    "        name_len[name] = len(df[name].unique())\n",
    "    return name_len\n",
    "\n",
    "count_unique_var(demographics)"
   ]
  },
  {
   "cell_type": "markdown",
   "metadata": {},
   "source": [
    "Of all schoolyear the latest schoolyear is of over all interest and matches SAT results.\n",
    "This is 20112012."
   ]
  },
  {
   "cell_type": "code",
   "execution_count": 91,
   "metadata": {},
   "outputs": [
    {
     "name": "stdout",
     "output_type": "stream",
     "text": [
      "<class 'numpy.int64'>\n",
      "[20112012]\n",
      "(1509, 38)\n",
      "1509\n"
     ]
    },
    {
     "data": {
      "text/html": [
       "<div>\n",
       "<style>\n",
       "    .dataframe thead tr:only-child th {\n",
       "        text-align: right;\n",
       "    }\n",
       "\n",
       "    .dataframe thead th {\n",
       "        text-align: left;\n",
       "    }\n",
       "\n",
       "    .dataframe tbody tr th {\n",
       "        vertical-align: top;\n",
       "    }\n",
       "</style>\n",
       "<table border=\"1\" class=\"dataframe\">\n",
       "  <thead>\n",
       "    <tr style=\"text-align: right;\">\n",
       "      <th></th>\n",
       "      <th>DBN</th>\n",
       "      <th>Name</th>\n",
       "      <th>schoolyear</th>\n",
       "      <th>fl_percent</th>\n",
       "      <th>frl_percent</th>\n",
       "      <th>total_enrollment</th>\n",
       "      <th>prek</th>\n",
       "      <th>k</th>\n",
       "      <th>grade1</th>\n",
       "      <th>grade2</th>\n",
       "      <th>...</th>\n",
       "      <th>black_num</th>\n",
       "      <th>black_per</th>\n",
       "      <th>hispanic_num</th>\n",
       "      <th>hispanic_per</th>\n",
       "      <th>white_num</th>\n",
       "      <th>white_per</th>\n",
       "      <th>male_num</th>\n",
       "      <th>male_per</th>\n",
       "      <th>female_num</th>\n",
       "      <th>female_per</th>\n",
       "    </tr>\n",
       "  </thead>\n",
       "  <tbody>\n",
       "    <tr>\n",
       "      <th>6</th>\n",
       "      <td>01M015</td>\n",
       "      <td>P.S. 015 ROBERTO CLEMENTE</td>\n",
       "      <td>20112012</td>\n",
       "      <td>NaN</td>\n",
       "      <td>89.4</td>\n",
       "      <td>189</td>\n",
       "      <td>13.0</td>\n",
       "      <td>31.0</td>\n",
       "      <td>35.0</td>\n",
       "      <td>28.0</td>\n",
       "      <td>...</td>\n",
       "      <td>63</td>\n",
       "      <td>33.3</td>\n",
       "      <td>109</td>\n",
       "      <td>57.7</td>\n",
       "      <td>4</td>\n",
       "      <td>2.1</td>\n",
       "      <td>97.0</td>\n",
       "      <td>51.3</td>\n",
       "      <td>92.0</td>\n",
       "      <td>48.7</td>\n",
       "    </tr>\n",
       "    <tr>\n",
       "      <th>13</th>\n",
       "      <td>01M019</td>\n",
       "      <td>P.S. 019 ASHER LEVY</td>\n",
       "      <td>20112012</td>\n",
       "      <td>NaN</td>\n",
       "      <td>61.5</td>\n",
       "      <td>328</td>\n",
       "      <td>32.0</td>\n",
       "      <td>46.0</td>\n",
       "      <td>52.0</td>\n",
       "      <td>54.0</td>\n",
       "      <td>...</td>\n",
       "      <td>81</td>\n",
       "      <td>24.7</td>\n",
       "      <td>158</td>\n",
       "      <td>48.2</td>\n",
       "      <td>28</td>\n",
       "      <td>8.5</td>\n",
       "      <td>147.0</td>\n",
       "      <td>44.8</td>\n",
       "      <td>181.0</td>\n",
       "      <td>55.2</td>\n",
       "    </tr>\n",
       "  </tbody>\n",
       "</table>\n",
       "<p>2 rows × 38 columns</p>\n",
       "</div>"
      ],
      "text/plain": [
       "       DBN                                              Name  schoolyear  \\\n",
       "6   01M015  P.S. 015 ROBERTO CLEMENTE                           20112012   \n",
       "13  01M019  P.S. 019 ASHER LEVY                                 20112012   \n",
       "\n",
       "    fl_percent  frl_percent  total_enrollment  prek     k  grade1  grade2  \\\n",
       "6          NaN         89.4               189  13.0  31.0    35.0    28.0   \n",
       "13         NaN         61.5               328  32.0  46.0    52.0    54.0   \n",
       "\n",
       "       ...      black_num  black_per  hispanic_num  hispanic_per  white_num  \\\n",
       "6      ...             63       33.3           109          57.7          4   \n",
       "13     ...             81       24.7           158          48.2         28   \n",
       "\n",
       "    white_per  male_num  male_per  female_num  female_per  \n",
       "6         2.1      97.0      51.3        92.0        48.7  \n",
       "13        8.5     147.0      44.8       181.0        55.2  \n",
       "\n",
       "[2 rows x 38 columns]"
      ]
     },
     "execution_count": 91,
     "metadata": {},
     "output_type": "execute_result"
    }
   ],
   "source": [
    "print(type(demographics.loc[5, \"schoolyear\"]))\n",
    "dem_latest_sy = demographics[demographics[\"schoolyear\"] == 20112012]\n",
    "print(dem_latest_sy[\"schoolyear\"].unique())\n",
    "print(dem_latest_sy.shape)\n",
    "print(len(dem_latest_sy[\"DBN\"].unique()))\n",
    "dem_latest_sy.head(2)"
   ]
  },
  {
   "cell_type": "markdown",
   "metadata": {},
   "source": [
    "DBN is now a unique identifier."
   ]
  },
  {
   "cell_type": "code",
   "execution_count": 92,
   "metadata": {},
   "outputs": [
    {
     "name": "stdout",
     "output_type": "stream",
     "text": [
      "Index(['index', 'DBN', 'Name', 'schoolyear', 'fl_percent', 'frl_percent',\n",
      "       'total_enrollment', 'prek', 'k', 'grade1', 'grade2', 'grade3', 'grade4',\n",
      "       'grade5', 'grade6', 'grade7', 'grade8', 'grade9', 'grade10', 'grade11',\n",
      "       'grade12', 'ell_num', 'ell_percent', 'sped_num', 'sped_percent',\n",
      "       'ctt_num', 'selfcontained_num', 'asian_num', 'asian_per', 'black_num',\n",
      "       'black_per', 'hispanic_num', 'hispanic_per', 'white_num', 'white_per',\n",
      "       'male_num', 'male_per', 'female_num', 'female_per'],\n",
      "      dtype='object')\n",
      "(1509, 39)\n"
     ]
    }
   ],
   "source": [
    "dem_latest_sy_2 = dem_latest_sy.reset_index()\n",
    "schools_data[\"demographics\"] = dem_latest_sy_2\n",
    "print(schools_data[\"demographics\"].columns)\n",
    "print(schools_data[\"demographics\"].shape)"
   ]
  },
  {
   "cell_type": "markdown",
   "metadata": {},
   "source": [
    "#### Modify the graduation data set"
   ]
  },
  {
   "cell_type": "code",
   "execution_count": 93,
   "metadata": {},
   "outputs": [
    {
     "data": {
      "text/plain": [
       "array(['Total Cohort', 'Male', 'English Language Learners',\n",
       "       'English Proficient Students', 'Special Education Students',\n",
       "       'General Education Students', 'Asian', 'Black', 'Hispanic', 'White',\n",
       "       'Female'], dtype=object)"
      ]
     },
     "execution_count": 93,
     "metadata": {},
     "output_type": "execute_result"
    }
   ],
   "source": [
    "# graduation is here called School_Level\n",
    "# schools_data.keys()\n",
    "print\n",
    "schools_data[\"School_Level\"][\"Demographic\"].unique()"
   ]
  },
  {
   "cell_type": "code",
   "execution_count": 94,
   "metadata": {},
   "outputs": [
    {
     "data": {
      "text/plain": [
       "{'Advanced Regents - % of cohort': 890,\n",
       " 'Advanced Regents - % of grads': 958,\n",
       " 'Advanced Regents - n': 442,\n",
       " 'Cohort': 7,\n",
       " 'DBN': 423,\n",
       " 'Demographic': 11,\n",
       " 'Dropped Out - % of cohort': 570,\n",
       " 'Dropped Out - n': 349,\n",
       " 'Local - % of cohort': 751,\n",
       " 'Local - % of grads': 1024,\n",
       " 'Local - n': 204,\n",
       " 'Regents w/o Advanced - % of cohort': 986,\n",
       " 'Regents w/o Advanced - % of grads': 1069,\n",
       " 'Regents w/o Advanced - n': 388,\n",
       " 'School Name': 422,\n",
       " 'Still Enrolled - % of cohort': 970,\n",
       " 'Still Enrolled - n': 527,\n",
       " 'Total Cohort': 921,\n",
       " 'Total Grads - % of cohort': 1116,\n",
       " 'Total Grads - n': 703,\n",
       " 'Total Regents - % of cohort': 1125,\n",
       " 'Total Regents - % of grads': 1019,\n",
       " 'Total Regents - n': 636}"
      ]
     },
     "execution_count": 94,
     "metadata": {},
     "output_type": "execute_result"
    }
   ],
   "source": [
    "count_unique_var(schools_data[\"School_Level\"])"
   ]
  },
  {
   "cell_type": "code",
   "execution_count": 95,
   "metadata": {},
   "outputs": [
    {
     "name": "stdout",
     "output_type": "stream",
     "text": [
      "['2003' '2004' '2005' '2006' '2006 Aug' '2001' '2002']\n",
      "<class 'numpy.int32'>\n"
     ]
    }
   ],
   "source": [
    "graduation = schools_data[\"School_Level\"]\n",
    "graduation.head()\n",
    "print(graduation[\"Cohort\"].unique())\n",
    "# print(type(graduation.loc[4,\"Cohort\"]))\n",
    "graduation.loc[ graduation[\"Cohort\"] == \"2006 Aug\" , \"Cohort\"] = \"200608\"\n",
    "graduation[\"Cohort\"] = graduation[\"Cohort\"].astype(\"int32\")\n",
    "print(type(graduation.loc[4,\"Cohort\"]))"
   ]
  },
  {
   "cell_type": "code",
   "execution_count": 96,
   "metadata": {},
   "outputs": [
    {
     "data": {
      "text/html": [
       "<div>\n",
       "<style>\n",
       "    .dataframe thead tr:only-child th {\n",
       "        text-align: right;\n",
       "    }\n",
       "\n",
       "    .dataframe thead th {\n",
       "        text-align: left;\n",
       "    }\n",
       "\n",
       "    .dataframe tbody tr th {\n",
       "        vertical-align: top;\n",
       "    }\n",
       "</style>\n",
       "<table border=\"1\" class=\"dataframe\">\n",
       "  <thead>\n",
       "    <tr style=\"text-align: right;\">\n",
       "      <th></th>\n",
       "      <th>Demographic</th>\n",
       "      <th>DBN</th>\n",
       "      <th>School Name</th>\n",
       "      <th>Cohort</th>\n",
       "      <th>Total Cohort</th>\n",
       "      <th>Total Grads - n</th>\n",
       "      <th>Total Grads - % of cohort</th>\n",
       "      <th>Total Regents - n</th>\n",
       "      <th>Total Regents - % of cohort</th>\n",
       "      <th>Total Regents - % of grads</th>\n",
       "      <th>...</th>\n",
       "      <th>Regents w/o Advanced - n</th>\n",
       "      <th>Regents w/o Advanced - % of cohort</th>\n",
       "      <th>Regents w/o Advanced - % of grads</th>\n",
       "      <th>Local - n</th>\n",
       "      <th>Local - % of cohort</th>\n",
       "      <th>Local - % of grads</th>\n",
       "      <th>Still Enrolled - n</th>\n",
       "      <th>Still Enrolled - % of cohort</th>\n",
       "      <th>Dropped Out - n</th>\n",
       "      <th>Dropped Out - % of cohort</th>\n",
       "    </tr>\n",
       "  </thead>\n",
       "  <tbody>\n",
       "    <tr>\n",
       "      <th>3</th>\n",
       "      <td>Total Cohort</td>\n",
       "      <td>01M292</td>\n",
       "      <td>HENRY STREET SCHOOL FOR INTERNATIONAL</td>\n",
       "      <td>2006</td>\n",
       "      <td>78</td>\n",
       "      <td>43</td>\n",
       "      <td>55.1</td>\n",
       "      <td>36</td>\n",
       "      <td>46.2</td>\n",
       "      <td>83.7</td>\n",
       "      <td>...</td>\n",
       "      <td>36</td>\n",
       "      <td>46.2</td>\n",
       "      <td>83.7</td>\n",
       "      <td>7</td>\n",
       "      <td>9</td>\n",
       "      <td>16.3</td>\n",
       "      <td>16</td>\n",
       "      <td>20.5</td>\n",
       "      <td>11</td>\n",
       "      <td>14.1</td>\n",
       "    </tr>\n",
       "    <tr>\n",
       "      <th>10</th>\n",
       "      <td>Total Cohort</td>\n",
       "      <td>01M448</td>\n",
       "      <td>UNIVERSITY NEIGHBORHOOD HIGH SCHOOL</td>\n",
       "      <td>2006</td>\n",
       "      <td>124</td>\n",
       "      <td>53</td>\n",
       "      <td>42.7</td>\n",
       "      <td>42</td>\n",
       "      <td>33.9</td>\n",
       "      <td>79.2</td>\n",
       "      <td>...</td>\n",
       "      <td>34</td>\n",
       "      <td>27.4</td>\n",
       "      <td>64.2</td>\n",
       "      <td>11</td>\n",
       "      <td>8.9</td>\n",
       "      <td>20.8</td>\n",
       "      <td>46</td>\n",
       "      <td>37.1</td>\n",
       "      <td>20</td>\n",
       "      <td>16.100000000000001</td>\n",
       "    </tr>\n",
       "  </tbody>\n",
       "</table>\n",
       "<p>2 rows × 23 columns</p>\n",
       "</div>"
      ],
      "text/plain": [
       "     Demographic     DBN                            School Name  Cohort  \\\n",
       "3   Total Cohort  01M292  HENRY STREET SCHOOL FOR INTERNATIONAL    2006   \n",
       "10  Total Cohort  01M448    UNIVERSITY NEIGHBORHOOD HIGH SCHOOL    2006   \n",
       "\n",
       "    Total Cohort Total Grads - n Total Grads - % of cohort Total Regents - n  \\\n",
       "3             78              43                      55.1                36   \n",
       "10           124              53                      42.7                42   \n",
       "\n",
       "   Total Regents - % of cohort Total Regents - % of grads  \\\n",
       "3                         46.2                       83.7   \n",
       "10                        33.9                       79.2   \n",
       "\n",
       "              ...            Regents w/o Advanced - n  \\\n",
       "3             ...                                  36   \n",
       "10            ...                                  34   \n",
       "\n",
       "   Regents w/o Advanced - % of cohort Regents w/o Advanced - % of grads  \\\n",
       "3                                46.2                              83.7   \n",
       "10                               27.4                              64.2   \n",
       "\n",
       "   Local - n Local - % of cohort Local - % of grads Still Enrolled - n  \\\n",
       "3          7                   9               16.3                 16   \n",
       "10        11                 8.9               20.8                 46   \n",
       "\n",
       "   Still Enrolled - % of cohort Dropped Out - n Dropped Out - % of cohort  \n",
       "3                          20.5              11                      14.1  \n",
       "10                         37.1              20        16.100000000000001  \n",
       "\n",
       "[2 rows x 23 columns]"
      ]
     },
     "execution_count": 96,
     "metadata": {},
     "output_type": "execute_result"
    }
   ],
   "source": [
    "graduation_subset = schools_data[\"School_Level\"][(schools_data[\"School_Level\"][\"Cohort\"]==2006) &\n",
    "                                          (schools_data[\"School_Level\"][\"Demographic\"]==\"Total Cohort\")]\n",
    "\n",
    "graduation_subset.head(2)"
   ]
  },
  {
   "cell_type": "code",
   "execution_count": 97,
   "metadata": {},
   "outputs": [],
   "source": [
    "schools_data[\"School_Level\"] = graduation_subset "
   ]
  },
  {
   "cell_type": "markdown",
   "metadata": {},
   "source": [
    "#### Modify the  Advanced Placement (AP) test scores - 'AP__College_Board'"
   ]
  },
  {
   "cell_type": "code",
   "execution_count": 98,
   "metadata": {},
   "outputs": [],
   "source": [
    "\n",
    "ap_test= schools_data['AP__College_Board']"
   ]
  },
  {
   "cell_type": "code",
   "execution_count": 99,
   "metadata": {},
   "outputs": [
    {
     "name": "stdout",
     "output_type": "stream",
     "text": [
      "<class 'pandas.core.frame.DataFrame'>\n",
      "RangeIndex: 258 entries, 0 to 257\n",
      "Data columns (total 5 columns):\n",
      "DBN                                     258 non-null object\n",
      "SchoolName                              258 non-null object\n",
      "AP Test Takers                          233 non-null float64\n",
      "Total Exams Taken                       233 non-null float64\n",
      "Number of Exams with scores 3 4 or 5    151 non-null float64\n",
      "dtypes: float64(3), object(2)\n",
      "memory usage: 10.2+ KB\n"
     ]
    }
   ],
   "source": [
    "ap_test.info()"
   ]
  },
  {
   "cell_type": "code",
   "execution_count": 100,
   "metadata": {},
   "outputs": [
    {
     "data": {
      "text/html": [
       "<div>\n",
       "<style>\n",
       "    .dataframe thead tr:only-child th {\n",
       "        text-align: right;\n",
       "    }\n",
       "\n",
       "    .dataframe thead th {\n",
       "        text-align: left;\n",
       "    }\n",
       "\n",
       "    .dataframe tbody tr th {\n",
       "        vertical-align: top;\n",
       "    }\n",
       "</style>\n",
       "<table border=\"1\" class=\"dataframe\">\n",
       "  <thead>\n",
       "    <tr style=\"text-align: right;\">\n",
       "      <th></th>\n",
       "      <th>DBN</th>\n",
       "      <th>SchoolName</th>\n",
       "      <th>AP Test Takers</th>\n",
       "      <th>Total Exams Taken</th>\n",
       "      <th>Number of Exams with scores 3 4 or 5</th>\n",
       "    </tr>\n",
       "  </thead>\n",
       "  <tbody>\n",
       "    <tr>\n",
       "      <th>0</th>\n",
       "      <td>01M448</td>\n",
       "      <td>UNIVERSITY NEIGHBORHOOD H.S.</td>\n",
       "      <td>39.0</td>\n",
       "      <td>49.0</td>\n",
       "      <td>10.0</td>\n",
       "    </tr>\n",
       "    <tr>\n",
       "      <th>1</th>\n",
       "      <td>01M450</td>\n",
       "      <td>EAST SIDE COMMUNITY HS</td>\n",
       "      <td>19.0</td>\n",
       "      <td>21.0</td>\n",
       "      <td>NaN</td>\n",
       "    </tr>\n",
       "    <tr>\n",
       "      <th>2</th>\n",
       "      <td>01M515</td>\n",
       "      <td>LOWER EASTSIDE PREP</td>\n",
       "      <td>24.0</td>\n",
       "      <td>26.0</td>\n",
       "      <td>24.0</td>\n",
       "    </tr>\n",
       "    <tr>\n",
       "      <th>3</th>\n",
       "      <td>01M539</td>\n",
       "      <td>NEW EXPLORATIONS SCI,TECH,MATH</td>\n",
       "      <td>255.0</td>\n",
       "      <td>377.0</td>\n",
       "      <td>191.0</td>\n",
       "    </tr>\n",
       "    <tr>\n",
       "      <th>4</th>\n",
       "      <td>02M296</td>\n",
       "      <td>High School of Hospitality Management</td>\n",
       "      <td>NaN</td>\n",
       "      <td>NaN</td>\n",
       "      <td>NaN</td>\n",
       "    </tr>\n",
       "  </tbody>\n",
       "</table>\n",
       "</div>"
      ],
      "text/plain": [
       "      DBN                             SchoolName  AP Test Takers   \\\n",
       "0  01M448           UNIVERSITY NEIGHBORHOOD H.S.             39.0   \n",
       "1  01M450                 EAST SIDE COMMUNITY HS             19.0   \n",
       "2  01M515                    LOWER EASTSIDE PREP             24.0   \n",
       "3  01M539         NEW EXPLORATIONS SCI,TECH,MATH            255.0   \n",
       "4  02M296  High School of Hospitality Management              NaN   \n",
       "\n",
       "   Total Exams Taken  Number of Exams with scores 3 4 or 5  \n",
       "0               49.0                                  10.0  \n",
       "1               21.0                                   NaN  \n",
       "2               26.0                                  24.0  \n",
       "3              377.0                                 191.0  \n",
       "4                NaN                                   NaN  "
      ]
     },
     "execution_count": 100,
     "metadata": {},
     "output_type": "execute_result"
    }
   ],
   "source": [
    "ap_test.head()"
   ]
  },
  {
   "cell_type": "code",
   "execution_count": 101,
   "metadata": {},
   "outputs": [
    {
     "data": {
      "text/plain": [
       "Index(['DBN', 'SchoolName', 'AP Test Takers ', 'Total Exams Taken',\n",
       "       'Number of Exams with scores 3 4 or 5'],\n",
       "      dtype='object')"
      ]
     },
     "execution_count": 101,
     "metadata": {},
     "output_type": "execute_result"
    }
   ],
   "source": [
    "ap_test.columns"
   ]
  },
  {
   "cell_type": "markdown",
   "metadata": {},
   "source": [
    "'AP Test Takers ' has a trailing space."
   ]
  },
  {
   "cell_type": "code",
   "execution_count": 102,
   "metadata": {},
   "outputs": [],
   "source": [
    "ap_test.rename(columns={'AP Test Takers ': 'AP Test Takers'}, inplace=True)\n",
    "# ap_test.columns"
   ]
  },
  {
   "cell_type": "markdown",
   "metadata": {
    "collapsed": true
   },
   "source": [
    "#### Merging data frames with pd.merge and joins"
   ]
  },
  {
   "cell_type": "code",
   "execution_count": 103,
   "metadata": {},
   "outputs": [
    {
     "name": "stdout",
     "output_type": "stream",
     "text": [
      "dict_keys(['AP__College_Board', 'Class_Size', 'Graduation_Outcomes', 'High_School_Directory', 'SAT_Results', 'School_Demographics', 'School_Level', 'survey', 'class size', 'demographics'])\n",
      "['DBN' 'SCHOOL NAME' 'Num of SAT Test Takers'\n",
      " 'SAT Critical Reading Avg. Score' 'SAT Math Avg. Score'\n",
      " 'SAT Writing Avg. Score' 'sat_score']\n",
      "['Demographic' 'DBN' 'School Name' 'Cohort' 'Total Cohort'\n",
      " 'Total Grads - n' 'Total Grads - % of cohort' 'Total Regents - n'\n",
      " 'Total Regents - % of cohort' 'Total Regents - % of grads'\n",
      " 'Advanced Regents - n' 'Advanced Regents - % of cohort'\n",
      " 'Advanced Regents - % of grads' 'Regents w/o Advanced - n'\n",
      " 'Regents w/o Advanced - % of cohort' 'Regents w/o Advanced - % of grads'\n",
      " 'Local - n' 'Local - % of cohort' 'Local - % of grads'\n",
      " 'Still Enrolled - n' 'Still Enrolled - % of cohort' 'Dropped Out - n'\n",
      " 'Dropped Out - % of cohort']\n"
     ]
    }
   ],
   "source": [
    "print(schools_data.keys())\n",
    "print(schools_data[\"SAT_Results\"].columns.values)\n",
    "print(schools_data['School_Level'].columns.values)\n"
   ]
  },
  {
   "cell_type": "markdown",
   "metadata": {},
   "source": [
    "The main data frame is the SAT Results data set. It is kind of the response or dependent data frame.\n",
    "The goal is to detect correlations or make predictions of SAT results using the demographic data sets\n",
    "like class size, school demographics, graduation results and so on."
   ]
  },
  {
   "cell_type": "code",
   "execution_count": 104,
   "metadata": {},
   "outputs": [
    {
     "name": "stdout",
     "output_type": "stream",
     "text": [
      "(478, 7)\n"
     ]
    }
   ],
   "source": [
    "combined = schools_data[\"SAT_Results\"]\n",
    "print(combined.shape)\n",
    "combined_2 = combined.merge(right = schools_data['School_Level'], how=\"left\", on=\"DBN\")"
   ]
  },
  {
   "cell_type": "code",
   "execution_count": 105,
   "metadata": {},
   "outputs": [
    {
     "name": "stdout",
     "output_type": "stream",
     "text": [
      "['DBN' 'SCHOOL NAME' 'Num of SAT Test Takers'\n",
      " 'SAT Critical Reading Avg. Score' 'SAT Math Avg. Score'\n",
      " 'SAT Writing Avg. Score' 'sat_score' 'Demographic' 'School Name' 'Cohort'\n",
      " 'Total Cohort' 'Total Grads - n' 'Total Grads - % of cohort'\n",
      " 'Total Regents - n' 'Total Regents - % of cohort'\n",
      " 'Total Regents - % of grads' 'Advanced Regents - n'\n",
      " 'Advanced Regents - % of cohort' 'Advanced Regents - % of grads'\n",
      " 'Regents w/o Advanced - n' 'Regents w/o Advanced - % of cohort'\n",
      " 'Regents w/o Advanced - % of grads' 'Local - n' 'Local - % of cohort'\n",
      " 'Local - % of grads' 'Still Enrolled - n' 'Still Enrolled - % of cohort'\n",
      " 'Dropped Out - n' 'Dropped Out - % of cohort']\n",
      "(478, 29)\n"
     ]
    }
   ],
   "source": [
    "print(combined_2.columns.values)\n",
    "# Check - are there more columns?\n",
    "print(combined_2.shape)"
   ]
  },
  {
   "cell_type": "code",
   "execution_count": 106,
   "metadata": {},
   "outputs": [
    {
     "name": "stdout",
     "output_type": "stream",
     "text": [
      "(479, 33)\n"
     ]
    }
   ],
   "source": [
    "combined_3 = combined_2.merge(right = schools_data['AP__College_Board'], how = \"left\", on=\"DBN\")\n",
    "print(combined_3.shape)"
   ]
  },
  {
   "cell_type": "code",
   "execution_count": 107,
   "metadata": {},
   "outputs": [
    {
     "name": "stdout",
     "output_type": "stream",
     "text": [
      "(451, 71)\n"
     ]
    }
   ],
   "source": [
    "combined_5555 = combined_3.merge(right = schools_data[ 'demographics'], how = \"inner\", on=\"DBN\")\n",
    "print(combined_5555.shape)"
   ]
  },
  {
   "cell_type": "code",
   "execution_count": 108,
   "metadata": {},
   "outputs": [
    {
     "data": {
      "text/plain": [
       "Index(['DBN', 'SCHOOL NAME', 'Num of SAT Test Takers',\n",
       "       'SAT Critical Reading Avg. Score', 'SAT Math Avg. Score',\n",
       "       'SAT Writing Avg. Score', 'sat_score', 'Demographic', 'School Name',\n",
       "       'Cohort', 'Total Cohort', 'Total Grads - n',\n",
       "       'Total Grads - % of cohort', 'Total Regents - n',\n",
       "       'Total Regents - % of cohort', 'Total Regents - % of grads',\n",
       "       'Advanced Regents - n', 'Advanced Regents - % of cohort',\n",
       "       'Advanced Regents - % of grads', 'Regents w/o Advanced - n',\n",
       "       'Regents w/o Advanced - % of cohort',\n",
       "       'Regents w/o Advanced - % of grads', 'Local - n', 'Local - % of cohort',\n",
       "       'Local - % of grads', 'Still Enrolled - n',\n",
       "       'Still Enrolled - % of cohort', 'Dropped Out - n',\n",
       "       'Dropped Out - % of cohort', 'SchoolName', 'AP Test Takers',\n",
       "       'Total Exams Taken', 'Number of Exams with scores 3 4 or 5', 'index',\n",
       "       'Name', 'schoolyear', 'fl_percent', 'frl_percent', 'total_enrollment',\n",
       "       'prek', 'k', 'grade1', 'grade2', 'grade3', 'grade4', 'grade5', 'grade6',\n",
       "       'grade7', 'grade8', 'grade9', 'grade10', 'grade11', 'grade12',\n",
       "       'ell_num', 'ell_percent', 'sped_num', 'sped_percent', 'ctt_num',\n",
       "       'selfcontained_num', 'asian_num', 'asian_per', 'black_num', 'black_per',\n",
       "       'hispanic_num', 'hispanic_per', 'white_num', 'white_per', 'male_num',\n",
       "       'male_per', 'female_num', 'female_per'],\n",
       "      dtype='object')"
      ]
     },
     "execution_count": 108,
     "metadata": {},
     "output_type": "execute_result"
    }
   ],
   "source": [
    "combined_5555.columns"
   ]
  },
  {
   "cell_type": "code",
   "execution_count": 109,
   "metadata": {},
   "outputs": [
    {
     "name": "stdout",
     "output_type": "stream",
     "text": [
      "(448, 93)\n"
     ]
    }
   ],
   "source": [
    "combined_5555 = combined_5555.merge(right = schools_data[ 'survey'], how = \"inner\", on=\"DBN\")\n",
    "print(combined_5555.shape)"
   ]
  },
  {
   "cell_type": "code",
   "execution_count": 110,
   "metadata": {},
   "outputs": [],
   "source": [
    "\n",
    "\n",
    "col_inner = ['Class_Size',  'High_School_Directory']\n",
    "# col_inner = [\"class_size\", \"demographics\", \"survey\", \"hs_directory\"]\n",
    "for col in col_inner:\n",
    "    combined_4 = combined_5555.merge(schools_data[col], how=\"inner\", on=\"DBN\")\n",
    "    # combined = combined.merge(data[col], how=\"inner\", on=\"DBN\")\n",
    "\n",
    "# The number of columns increased, the number of observations decreased.\n",
    "# This makes sense as only the observations are preserved, which have matches in both data sets"
   ]
  },
  {
   "cell_type": "code",
   "execution_count": 111,
   "metadata": {},
   "outputs": [
    {
     "name": "stdout",
     "output_type": "stream",
     "text": [
      "(368, 159)\n",
      "['DBN' 'SCHOOL NAME' 'Num of SAT Test Takers'\n",
      " 'SAT Critical Reading Avg. Score' 'SAT Math Avg. Score'\n",
      " 'SAT Writing Avg. Score' 'sat_score' 'Demographic' 'School Name' 'Cohort'\n",
      " 'Total Cohort' 'Total Grads - n' 'Total Grads - % of cohort'\n",
      " 'Total Regents - n' 'Total Regents - % of cohort'\n",
      " 'Total Regents - % of grads' 'Advanced Regents - n'\n",
      " 'Advanced Regents - % of cohort' 'Advanced Regents - % of grads'\n",
      " 'Regents w/o Advanced - n' 'Regents w/o Advanced - % of cohort'\n",
      " 'Regents w/o Advanced - % of grads' 'Local - n' 'Local - % of cohort'\n",
      " 'Local - % of grads' 'Still Enrolled - n' 'Still Enrolled - % of cohort'\n",
      " 'Dropped Out - n' 'Dropped Out - % of cohort' 'SchoolName'\n",
      " 'AP Test Takers' 'Total Exams Taken'\n",
      " 'Number of Exams with scores 3 4 or 5' 'index' 'Name' 'schoolyear'\n",
      " 'fl_percent' 'frl_percent' 'total_enrollment' 'prek' 'k' 'grade1' 'grade2'\n",
      " 'grade3' 'grade4' 'grade5' 'grade6' 'grade7' 'grade8' 'grade9' 'grade10'\n",
      " 'grade11' 'grade12' 'ell_num' 'ell_percent' 'sped_num' 'sped_percent'\n",
      " 'ctt_num' 'selfcontained_num' 'asian_num' 'asian_per' 'black_num'\n",
      " 'black_per' 'hispanic_num' 'hispanic_per' 'white_num' 'white_per'\n",
      " 'male_num' 'male_per' 'female_num' 'female_per' 'rr_s' 'rr_t' 'rr_p' 'N_s'\n",
      " 'N_t' 'N_p' 'saf_p_11' 'com_p_11' 'eng_p_11' 'aca_p_11' 'saf_t_11'\n",
      " 'com_t_11' 'eng_t_11' 'aca_t_11' 'saf_s_11' 'com_s_11' 'eng_s_11'\n",
      " 'aca_s_11' 'saf_tot_11' 'com_tot_11' 'eng_tot_11' 'aca_tot_11' 'dbn'\n",
      " 'school_name' 'borough' 'building_code' 'phone_number' 'fax_number'\n",
      " 'grade_span_min' 'grade_span_max' 'expgrade_span_min' 'expgrade_span_max'\n",
      " 'bus' 'subway' 'primary_address_line_1' 'city' 'state_code' 'postcode'\n",
      " 'website' 'total_students' 'campus_name' 'school_type'\n",
      " 'overview_paragraph' 'program_highlights' 'language_classes'\n",
      " 'advancedplacement_courses' 'online_ap_courses' 'online_language_courses'\n",
      " 'extracurricular_activities' 'psal_sports_boys' 'psal_sports_girls'\n",
      " 'psal_sports_coed' 'school_sports' 'partner_cbo' 'partner_hospital'\n",
      " 'partner_highered' 'partner_cultural' 'partner_nonprofit'\n",
      " 'partner_corporate' 'partner_financial' 'partner_other' 'addtl_info1'\n",
      " 'addtl_info2' 'start_time' 'end_time' 'se_services' 'ell_programs'\n",
      " 'school_accessibility_description' 'number_programs' 'priority01'\n",
      " 'priority02' 'priority03' 'priority04' 'priority05' 'priority06'\n",
      " 'priority07' 'priority08' 'priority09' 'priority10' 'Location 1'\n",
      " 'Community Board' 'Council District' 'Census Tract' 'BIN' 'BBL' 'NTA'\n",
      " 'lat' 'long']\n"
     ]
    }
   ],
   "source": [
    "print(combined_4.shape)\n",
    "print(combined_4.columns.values)\n"
   ]
  },
  {
   "cell_type": "code",
   "execution_count": 112,
   "metadata": {},
   "outputs": [
    {
     "name": "stdout",
     "output_type": "stream",
     "text": [
      "0     422\n",
      "1     394\n",
      "2     598\n",
      "3     367\n",
      "4    1613\n",
      "Name: total_enrollment, dtype: int64\n"
     ]
    }
   ],
   "source": [
    "print(combined_4['total_enrollment'].head())"
   ]
  },
  {
   "cell_type": "markdown",
   "metadata": {
    "collapsed": true
   },
   "source": [
    "#### Dealing with missing values (NaN)\n",
    "Substituting missing values with means"
   ]
  },
  {
   "cell_type": "code",
   "execution_count": 113,
   "metadata": {},
   "outputs": [
    {
     "name": "stdout",
     "output_type": "stream",
     "text": [
      "DBN                                0\n",
      "SCHOOL NAME                        0\n",
      "Num of SAT Test Takers             0\n",
      "SAT Critical Reading Avg. Score    0\n",
      "dtype: int64\n"
     ]
    }
   ],
   "source": [
    "\n",
    "means = combined_4.mean()\n",
    "combined_5 = combined_4.fillna(means)\n",
    "combined_5 = combined_5.fillna(0)\n",
    "# Check for null values\n",
    "print(combined_5.isnull().sum()[0:4])\n",
    "\n",
    "combined_clean = combined_5"
   ]
  },
  {
   "cell_type": "code",
   "execution_count": 114,
   "metadata": {},
   "outputs": [
    {
     "data": {
      "text/plain": [
       "(368, 159)"
      ]
     },
     "execution_count": 114,
     "metadata": {},
     "output_type": "execute_result"
    }
   ],
   "source": [
    "combined_clean.shape\n"
   ]
  },
  {
   "cell_type": "markdown",
   "metadata": {
    "collapsed": true
   },
   "source": [
    "The data set is cleaned and merged."
   ]
  },
  {
   "cell_type": "markdown",
   "metadata": {},
   "source": [
    "Analyzing by mapping the statistics out on a school district level.\n",
    "The school district is just the first two characters of the DBN. \n"
   ]
  },
  {
   "cell_type": "markdown",
   "metadata": {},
   "source": [
    "Writing a function that pulls out the first two letters of the DBN."
   ]
  },
  {
   "cell_type": "code",
   "execution_count": 115,
   "metadata": {},
   "outputs": [
    {
     "data": {
      "text/plain": [
       "'Mo'"
      ]
     },
     "execution_count": 115,
     "metadata": {},
     "output_type": "execute_result"
    }
   ],
   "source": [
    "def extract_st(input_st):\n",
    "    first_two_ch = input_st[0:2]\n",
    "    return first_two_ch\n",
    "    \n",
    "name = \"Mozilla\"\n",
    "extract_st(\"Mozilla\")"
   ]
  },
  {
   "cell_type": "code",
   "execution_count": 116,
   "metadata": {},
   "outputs": [
    {
     "data": {
      "text/plain": [
       "0    01\n",
       "1    01\n",
       "2    01\n",
       "3    01\n",
       "4    01\n",
       "Name: school_dist, dtype: object"
      ]
     },
     "execution_count": 116,
     "metadata": {},
     "output_type": "execute_result"
    }
   ],
   "source": [
    "combined_clean[\"school_dist\"] = combined_clean[\"DBN\"].apply(extract_st)\n",
    "combined_clean[\"school_dist\"].head()"
   ]
  },
  {
   "cell_type": "markdown",
   "metadata": {},
   "source": [
    "### Correlations\n",
    "Looking into relationship / correlations between SAT results an the other variables.\n",
    "Variables with strong correlations can be further investigated."
   ]
  },
  {
   "cell_type": "code",
   "execution_count": 117,
   "metadata": {},
   "outputs": [
    {
     "name": "stdout",
     "output_type": "stream",
     "text": [
      "(85, 85)\n",
      "Index(['SAT Critical Reading Avg. Score', 'SAT Math Avg. Score',\n",
      "       'SAT Writing Avg. Score', 'sat_score', 'Cohort', 'Total Cohort',\n",
      "       'AP Test Takers', 'Total Exams Taken',\n",
      "       'Number of Exams with scores 3 4 or 5', 'index', 'schoolyear',\n",
      "       'fl_percent', 'frl_percent', 'total_enrollment', 'prek', 'k', 'grade1',\n",
      "       'grade2', 'grade3', 'grade4', 'grade5', 'grade6', 'grade7', 'grade8',\n",
      "       'grade9', 'grade10', 'grade11', 'grade12', 'ell_num', 'ell_percent',\n",
      "       'sped_num', 'sped_percent', 'ctt_num', 'selfcontained_num', 'asian_num',\n",
      "       'asian_per', 'black_num', 'black_per', 'hispanic_num', 'hispanic_per',\n",
      "       'white_num', 'white_per', 'male_num', 'male_per', 'female_num',\n",
      "       'female_per', 'rr_s', 'rr_t', 'rr_p', 'N_s', 'N_t', 'N_p', 'saf_p_11',\n",
      "       'com_p_11', 'eng_p_11', 'aca_p_11', 'saf_t_11', 'com_t_11', 'eng_t_11',\n",
      "       'aca_t_11', 'saf_s_11', 'com_s_11', 'eng_s_11', 'aca_s_11',\n",
      "       'saf_tot_11', 'com_tot_11', 'eng_tot_11', 'aca_tot_11',\n",
      "       'grade_span_min', 'grade_span_max', 'expgrade_span_min',\n",
      "       'expgrade_span_max', 'postcode', 'total_students', 'number_programs',\n",
      "       'priority08', 'priority09', 'priority10', 'Community Board',\n",
      "       'Council District', 'Census Tract', 'BIN', 'BBL', 'lat', 'long'],\n",
      "      dtype='object')\n"
     ]
    }
   ],
   "source": [
    "correlations = combined_clean.corr()\n",
    "print(correlations.shape)\n",
    "print(correlations.columns)\n"
   ]
  },
  {
   "cell_type": "code",
   "execution_count": 118,
   "metadata": {},
   "outputs": [
    {
     "name": "stdout",
     "output_type": "stream",
     "text": [
      "sat_score                               1.000000\n",
      "SAT Writing Avg. Score                  0.987949\n",
      "SAT Critical Reading Avg. Score         0.986798\n",
      "SAT Math Avg. Score                     0.972745\n",
      "white_per                               0.625263\n",
      "asian_per                               0.568653\n",
      "AP Test Takers                          0.515451\n",
      "Total Exams Taken                       0.507118\n",
      "asian_num                               0.471280\n",
      "Number of Exams with scores 3 4 or 5    0.459510\n",
      "white_num                               0.450923\n",
      "N_s                                     0.420479\n",
      "N_p                                     0.418724\n",
      "total_students                          0.404680\n",
      "grade12                                 0.391370\n",
      "female_num                              0.384874\n",
      "grade11                                 0.371426\n",
      "total_enrollment                        0.364639\n",
      "aca_s_11                                0.343069\n",
      "saf_s_11                                0.340972\n",
      "male_num                                0.323018\n",
      "saf_tot_11                              0.321980\n",
      "Total Cohort                            0.320430\n",
      "grade10                                 0.317663\n",
      "saf_t_11                                0.316253\n",
      "grade9                                  0.292189\n",
      "N_t                                     0.286635\n",
      "rr_s                                    0.235621\n",
      "eng_s_11                                0.219830\n",
      "com_s_11                                0.199929\n",
      "                                          ...   \n",
      "hispanic_num                            0.023368\n",
      "black_num                               0.022929\n",
      "index                                   0.018941\n",
      "selfcontained_num                       0.017215\n",
      "ctt_num                                -0.014817\n",
      "rr_t                                   -0.033097\n",
      "grade_span_min                         -0.040377\n",
      "Community Board                        -0.062158\n",
      "postcode                               -0.075193\n",
      "Council District                       -0.088536\n",
      "male_per                               -0.108362\n",
      "com_p_11                               -0.114058\n",
      "lat                                    -0.120554\n",
      "long                                   -0.139291\n",
      "ell_num                                -0.154788\n",
      "black_per                              -0.291184\n",
      "ell_percent                            -0.397938\n",
      "hispanic_per                           -0.398114\n",
      "sped_percent                           -0.447544\n",
      "frl_percent                            -0.721091\n",
      "Cohort                                       NaN\n",
      "schoolyear                                   NaN\n",
      "fl_percent                                   NaN\n",
      "prek                                         NaN\n",
      "grade_span_max                               NaN\n",
      "expgrade_span_min                            NaN\n",
      "expgrade_span_max                            NaN\n",
      "priority08                                   NaN\n",
      "priority09                                   NaN\n",
      "priority10                                   NaN\n",
      "Name: sat_score, Length: 85, dtype: float64\n"
     ]
    }
   ],
   "source": [
    "correlations = correlations[\"sat_score\"]\n",
    "print(correlations.sort_values(ascending=False))\n"
   ]
  },
  {
   "cell_type": "markdown",
   "metadata": {},
   "source": [
    "A correlation above 0.25 or lower than -0.25 is considered good here."
   ]
  },
  {
   "cell_type": "code",
   "execution_count": 119,
   "metadata": {},
   "outputs": [
    {
     "name": "stdout",
     "output_type": "stream",
     "text": [
      "(85,)\n",
      "<class 'pandas.core.series.Series'>\n"
     ]
    }
   ],
   "source": [
    "print(correlations.shape)\n",
    "print(type(correlations))"
   ]
  },
  {
   "cell_type": "code",
   "execution_count": 120,
   "metadata": {},
   "outputs": [
    {
     "name": "stderr",
     "output_type": "stream",
     "text": [
      "'c' argument looks like a single numeric RGB or RGBA sequence, which should be avoided as value-mapping will have precedence in case its length matches with 'x' & 'y'.  Please use a 2-D array with a single row if you really want to specify the same RGB or RGBA value for all points.\n"
     ]
    },
    {
     "data": {
      "image/png": "[encoded data removed]",
      "text/plain": [
       "<Figure size 432x288 with 1 Axes>"
      ]
     },
     "metadata": {
      "needs_background": "light"
     },
     "output_type": "display_data"
    }
   ],
   "source": [
    "combined_clean.plot.scatter(x=\"total_enrollment\", y=\"sat_score\")\n",
    "plt.show()"
   ]
  },
  {
   "cell_type": "markdown",
   "metadata": {},
   "source": [
    "Other than the r-squared value suggests the plot does not confirm a strong correlation. The points are in a great\n",
    "part dispersed. However there is a cluster of point in the left corner. Taking a look into the cluster."
   ]
  },
  {
   "cell_type": "code",
   "execution_count": 121,
   "metadata": {},
   "outputs": [
    {
     "data": {
      "text/plain": [
       "(12, 160)"
      ]
     },
     "execution_count": 121,
     "metadata": {},
     "output_type": "execute_result"
    }
   ],
   "source": [
    "low_enrollment_cluster = combined_clean[(combined_clean[\"total_enrollment\"] < 1000) \n",
    "                                        & (combined_clean['sat_score']<1000)]\n",
    "low_enrollment_cluster.shape"
   ]
  },
  {
   "cell_type": "code",
   "execution_count": 122,
   "metadata": {},
   "outputs": [
    {
     "data": {
      "text/html": [
       "<div>\n",
       "<style>\n",
       "    .dataframe thead tr:only-child th {\n",
       "        text-align: right;\n",
       "    }\n",
       "\n",
       "    .dataframe thead th {\n",
       "        text-align: left;\n",
       "    }\n",
       "\n",
       "    .dataframe tbody tr th {\n",
       "        vertical-align: top;\n",
       "    }\n",
       "</style>\n",
       "<table border=\"1\" class=\"dataframe\">\n",
       "  <thead>\n",
       "    <tr style=\"text-align: right;\">\n",
       "      <th></th>\n",
       "      <th>level_0</th>\n",
       "      <th>DBN</th>\n",
       "      <th>SCHOOL NAME</th>\n",
       "      <th>Num of SAT Test Takers</th>\n",
       "      <th>SAT Critical Reading Avg. Score</th>\n",
       "      <th>SAT Math Avg. Score</th>\n",
       "      <th>SAT Writing Avg. Score</th>\n",
       "      <th>sat_score</th>\n",
       "      <th>Demographic</th>\n",
       "      <th>School Name</th>\n",
       "      <th>...</th>\n",
       "      <th>Location 1</th>\n",
       "      <th>Community Board</th>\n",
       "      <th>Council District</th>\n",
       "      <th>Census Tract</th>\n",
       "      <th>BIN</th>\n",
       "      <th>BBL</th>\n",
       "      <th>NTA</th>\n",
       "      <th>lat</th>\n",
       "      <th>long</th>\n",
       "      <th>school_dist</th>\n",
       "    </tr>\n",
       "  </thead>\n",
       "  <tbody>\n",
       "    <tr>\n",
       "      <th>0</th>\n",
       "      <td>93</td>\n",
       "      <td>07X334</td>\n",
       "      <td>INTERNATIONAL COMMUNITY HIGH SCHOOL</td>\n",
       "      <td>34</td>\n",
       "      <td>310.0</td>\n",
       "      <td>324.0</td>\n",
       "      <td>311.0</td>\n",
       "      <td>945.0</td>\n",
       "      <td>Total Cohort</td>\n",
       "      <td>INTERNATIONAL COMMUNITY HIGH SCHOOL</td>\n",
       "      <td>...</td>\n",
       "      <td>345 Brook Avenue\\nBronx, NY 10454\\n(40.810036192000496, -73.91781248199965)</td>\n",
       "      <td>1.0</td>\n",
       "      <td>8.0</td>\n",
       "      <td>41.0</td>\n",
       "      <td>2000391.0</td>\n",
       "      <td>2.022860e+09</td>\n",
       "      <td>Mott Haven-Port Morris</td>\n",
       "      <td>40.810036</td>\n",
       "      <td>-73.917812</td>\n",
       "      <td>07</td>\n",
       "    </tr>\n",
       "    <tr>\n",
       "      <th>1</th>\n",
       "      <td>129</td>\n",
       "      <td>09X365</td>\n",
       "      <td>ACADEMY FOR LANGUAGE AND TECHNOLOGY</td>\n",
       "      <td>54</td>\n",
       "      <td>315.0</td>\n",
       "      <td>339.0</td>\n",
       "      <td>297.0</td>\n",
       "      <td>951.0</td>\n",
       "      <td>0</td>\n",
       "      <td>0</td>\n",
       "      <td>...</td>\n",
       "      <td>1700 Macombs Road\\nBronx, NY 10453\\n(40.84910216800046, -73.91608844099966)</td>\n",
       "      <td>5.0</td>\n",
       "      <td>14.0</td>\n",
       "      <td>21502.0</td>\n",
       "      <td>2008460.0</td>\n",
       "      <td>2.028660e+09</td>\n",
       "      <td>University Heights-Morris Heights</td>\n",
       "      <td>40.849102</td>\n",
       "      <td>-73.916088</td>\n",
       "      <td>09</td>\n",
       "    </tr>\n",
       "    <tr>\n",
       "      <th>2</th>\n",
       "      <td>130</td>\n",
       "      <td>09X403</td>\n",
       "      <td>BRONX INTERNATIONAL HIGH SCHOOL</td>\n",
       "      <td>49</td>\n",
       "      <td>314.0</td>\n",
       "      <td>312.0</td>\n",
       "      <td>339.0</td>\n",
       "      <td>965.0</td>\n",
       "      <td>Total Cohort</td>\n",
       "      <td>BRONX INTERNATIONAL HIGH SCHOOL</td>\n",
       "      <td>...</td>\n",
       "      <td>1110 Boston Road\\nBronx, NY 10456\\n(40.8276026690005, -73.90447525699966)</td>\n",
       "      <td>3.0</td>\n",
       "      <td>16.0</td>\n",
       "      <td>135.0</td>\n",
       "      <td>2004526.0</td>\n",
       "      <td>2.026340e+09</td>\n",
       "      <td>Morrisania-Melrose</td>\n",
       "      <td>40.827603</td>\n",
       "      <td>-73.904475</td>\n",
       "      <td>09</td>\n",
       "    </tr>\n",
       "    <tr>\n",
       "      <th>3</th>\n",
       "      <td>143</td>\n",
       "      <td>10X268</td>\n",
       "      <td>KINGSBRIDGE INTERNATIONAL HIGH SCHOOL</td>\n",
       "      <td>52</td>\n",
       "      <td>304.0</td>\n",
       "      <td>356.0</td>\n",
       "      <td>302.0</td>\n",
       "      <td>962.0</td>\n",
       "      <td>Total Cohort</td>\n",
       "      <td>KINGSBRIDGE INTERNATIONAL HIGH SCHOOL</td>\n",
       "      <td>...</td>\n",
       "      <td>2780 Reservoir Avenue\\nBronx, NY 10468\\n(40.87037746700048, -73.89816295199967)</td>\n",
       "      <td>7.0</td>\n",
       "      <td>11.0</td>\n",
       "      <td>409.0</td>\n",
       "      <td>2015241.0</td>\n",
       "      <td>2.032470e+09</td>\n",
       "      <td>Van Cortlandt Village</td>\n",
       "      <td>40.870377</td>\n",
       "      <td>-73.898163</td>\n",
       "      <td>10</td>\n",
       "    </tr>\n",
       "    <tr>\n",
       "      <th>4</th>\n",
       "      <td>145</td>\n",
       "      <td>10X342</td>\n",
       "      <td>INTERNATIONAL SCHOOL FOR LIBERAL ARTS</td>\n",
       "      <td>49</td>\n",
       "      <td>300.0</td>\n",
       "      <td>333.0</td>\n",
       "      <td>301.0</td>\n",
       "      <td>934.0</td>\n",
       "      <td>Total Cohort</td>\n",
       "      <td>INTERNATIONAL SCHOOL FOR LIBERAL ARTS</td>\n",
       "      <td>...</td>\n",
       "      <td>2780 Reservoir Avenue\\nBronx, NY 10468\\n(40.87037746700048, -73.89816295199967)</td>\n",
       "      <td>7.0</td>\n",
       "      <td>11.0</td>\n",
       "      <td>409.0</td>\n",
       "      <td>2015241.0</td>\n",
       "      <td>2.032470e+09</td>\n",
       "      <td>Van Cortlandt Village</td>\n",
       "      <td>40.870377</td>\n",
       "      <td>-73.898163</td>\n",
       "      <td>10</td>\n",
       "    </tr>\n",
       "    <tr>\n",
       "      <th>5</th>\n",
       "      <td>180</td>\n",
       "      <td>12X388</td>\n",
       "      <td>PAN AMERICAN INTERNATIONAL HIGH SCHOOL AT MONROE</td>\n",
       "      <td>30</td>\n",
       "      <td>321.0</td>\n",
       "      <td>351.0</td>\n",
       "      <td>298.0</td>\n",
       "      <td>970.0</td>\n",
       "      <td>0</td>\n",
       "      <td>0</td>\n",
       "      <td>...</td>\n",
       "      <td>1300 Boynton Avenue\\nBronx, NY 10472\\n(40.83136649000045, -73.87882327699964)</td>\n",
       "      <td>9.0</td>\n",
       "      <td>18.0</td>\n",
       "      <td>56.0</td>\n",
       "      <td>2027459.0</td>\n",
       "      <td>2.038640e+09</td>\n",
       "      <td>West Farms-Bronx River</td>\n",
       "      <td>40.831366</td>\n",
       "      <td>-73.878823</td>\n",
       "      <td>12</td>\n",
       "    </tr>\n",
       "    <tr>\n",
       "      <th>6</th>\n",
       "      <td>183</td>\n",
       "      <td>12X550</td>\n",
       "      <td>HIGH SCHOOL OF WORLD CULTURES</td>\n",
       "      <td>42</td>\n",
       "      <td>304.0</td>\n",
       "      <td>323.0</td>\n",
       "      <td>312.0</td>\n",
       "      <td>939.0</td>\n",
       "      <td>Total Cohort</td>\n",
       "      <td>HIGH SCHOOL OF WORLD CULTURES</td>\n",
       "      <td>...</td>\n",
       "      <td>1300 Boynton Avenue\\nBronx, NY 10472\\n(40.83136649000045, -73.87882327699964)</td>\n",
       "      <td>9.0</td>\n",
       "      <td>18.0</td>\n",
       "      <td>56.0</td>\n",
       "      <td>2027459.0</td>\n",
       "      <td>2.038640e+09</td>\n",
       "      <td>West Farms-Bronx River</td>\n",
       "      <td>40.831366</td>\n",
       "      <td>-73.878823</td>\n",
       "      <td>12</td>\n",
       "    </tr>\n",
       "    <tr>\n",
       "      <th>7</th>\n",
       "      <td>192</td>\n",
       "      <td>13K439</td>\n",
       "      <td>BROOKLYN INTERNATIONAL HIGH SCHOOL</td>\n",
       "      <td>90</td>\n",
       "      <td>305.0</td>\n",
       "      <td>364.0</td>\n",
       "      <td>312.0</td>\n",
       "      <td>981.0</td>\n",
       "      <td>Total Cohort</td>\n",
       "      <td>BROOKLYN INTERNATIONAL HIGH SCHOOL</td>\n",
       "      <td>...</td>\n",
       "      <td>49 Flatbush Avenue Extension\\nBrooklyn, NY 11201\\n(40.69717472700046, -73.98495968899965)</td>\n",
       "      <td>2.0</td>\n",
       "      <td>33.0</td>\n",
       "      <td>15.0</td>\n",
       "      <td>3000216.0</td>\n",
       "      <td>3.001200e+09</td>\n",
       "      <td>DUMBO-Vinegar Hill-Downtown Brooklyn-Boerum Hill</td>\n",
       "      <td>40.697175</td>\n",
       "      <td>-73.984960</td>\n",
       "      <td>13</td>\n",
       "    </tr>\n",
       "    <tr>\n",
       "      <th>8</th>\n",
       "      <td>230</td>\n",
       "      <td>17K524</td>\n",
       "      <td>INTERNATIONAL HIGH SCHOOL AT PROSPECT HEIGHTS</td>\n",
       "      <td>71</td>\n",
       "      <td>287.0</td>\n",
       "      <td>335.0</td>\n",
       "      <td>291.0</td>\n",
       "      <td>913.0</td>\n",
       "      <td>Total Cohort</td>\n",
       "      <td>INTERNATIONAL HIGH SCHOOL AT PROSPECT</td>\n",
       "      <td>...</td>\n",
       "      <td>883 Classon Avenue\\nBrooklyn, NY 11225\\n(40.67029890700047, -73.96164787599963)</td>\n",
       "      <td>9.0</td>\n",
       "      <td>35.0</td>\n",
       "      <td>213.0</td>\n",
       "      <td>3029686.0</td>\n",
       "      <td>3.011870e+09</td>\n",
       "      <td>Crown Heights South</td>\n",
       "      <td>40.670299</td>\n",
       "      <td>-73.961648</td>\n",
       "      <td>17</td>\n",
       "    </tr>\n",
       "    <tr>\n",
       "      <th>9</th>\n",
       "      <td>242</td>\n",
       "      <td>18K563</td>\n",
       "      <td>IT TAKES A VILLAGE ACADEMY</td>\n",
       "      <td>56</td>\n",
       "      <td>313.0</td>\n",
       "      <td>320.0</td>\n",
       "      <td>330.0</td>\n",
       "      <td>963.0</td>\n",
       "      <td>Total Cohort</td>\n",
       "      <td>IT TAKES A VILLAGE ACADEMY</td>\n",
       "      <td>...</td>\n",
       "      <td>5800 Tilden Avenue\\nBrooklyn, NY 11203\\n(40.64866366300049, -73.92189876199967)</td>\n",
       "      <td>17.0</td>\n",
       "      <td>45.0</td>\n",
       "      <td>936.0</td>\n",
       "      <td>3104598.0</td>\n",
       "      <td>3.047420e+09</td>\n",
       "      <td>Rugby-Remsen Village</td>\n",
       "      <td>40.648664</td>\n",
       "      <td>-73.921899</td>\n",
       "      <td>18</td>\n",
       "    </tr>\n",
       "    <tr>\n",
       "      <th>10</th>\n",
       "      <td>258</td>\n",
       "      <td>19K583</td>\n",
       "      <td>MULTICULTURAL HIGH SCHOOL</td>\n",
       "      <td>29</td>\n",
       "      <td>279.0</td>\n",
       "      <td>322.0</td>\n",
       "      <td>286.0</td>\n",
       "      <td>887.0</td>\n",
       "      <td>Total Cohort</td>\n",
       "      <td>MULTICULTURAL HIGH SCHOOL</td>\n",
       "      <td>...</td>\n",
       "      <td>999 Jamaica Avenue\\nBrooklyn, NY 11208\\n(40.69114396200047, -73.86842605699962)</td>\n",
       "      <td>5.0</td>\n",
       "      <td>37.0</td>\n",
       "      <td>1180.0</td>\n",
       "      <td>3090738.0</td>\n",
       "      <td>3.040940e+09</td>\n",
       "      <td>park-cemetery-etc-Brooklyn</td>\n",
       "      <td>40.691144</td>\n",
       "      <td>-73.868426</td>\n",
       "      <td>19</td>\n",
       "    </tr>\n",
       "    <tr>\n",
       "      <th>11</th>\n",
       "      <td>291</td>\n",
       "      <td>24Q296</td>\n",
       "      <td>PAN AMERICAN INTERNATIONAL HIGH SCHOOL</td>\n",
       "      <td>55</td>\n",
       "      <td>317.0</td>\n",
       "      <td>323.0</td>\n",
       "      <td>311.0</td>\n",
       "      <td>951.0</td>\n",
       "      <td>Total Cohort</td>\n",
       "      <td>PAN AMERICAN INTERNATIONAL HIGH SCHOO</td>\n",
       "      <td>...</td>\n",
       "      <td>45 10 94Th Street\\nElmhurst, NY 11373\\n(40.74330287300046, -73.87057497699965)</td>\n",
       "      <td>4.0</td>\n",
       "      <td>25.0</td>\n",
       "      <td>463.0</td>\n",
       "      <td>4437166.0</td>\n",
       "      <td>4.016000e+09</td>\n",
       "      <td>Elmhurst</td>\n",
       "      <td>40.743303</td>\n",
       "      <td>-73.870575</td>\n",
       "      <td>24</td>\n",
       "    </tr>\n",
       "  </tbody>\n",
       "</table>\n",
       "<p>12 rows × 161 columns</p>\n",
       "</div>"
      ],
      "text/plain": [
       "    level_0     DBN                                       SCHOOL NAME  \\\n",
       "0        93  07X334               INTERNATIONAL COMMUNITY HIGH SCHOOL   \n",
       "1       129  09X365               ACADEMY FOR LANGUAGE AND TECHNOLOGY   \n",
       "2       130  09X403                   BRONX INTERNATIONAL HIGH SCHOOL   \n",
       "3       143  10X268             KINGSBRIDGE INTERNATIONAL HIGH SCHOOL   \n",
       "4       145  10X342             INTERNATIONAL SCHOOL FOR LIBERAL ARTS   \n",
       "5       180  12X388  PAN AMERICAN INTERNATIONAL HIGH SCHOOL AT MONROE   \n",
       "6       183  12X550                     HIGH SCHOOL OF WORLD CULTURES   \n",
       "7       192  13K439                BROOKLYN INTERNATIONAL HIGH SCHOOL   \n",
       "8       230  17K524     INTERNATIONAL HIGH SCHOOL AT PROSPECT HEIGHTS   \n",
       "9       242  18K563                        IT TAKES A VILLAGE ACADEMY   \n",
       "10      258  19K583                         MULTICULTURAL HIGH SCHOOL   \n",
       "11      291  24Q296            PAN AMERICAN INTERNATIONAL HIGH SCHOOL   \n",
       "\n",
       "   Num of SAT Test Takers  SAT Critical Reading Avg. Score  \\\n",
       "0                      34                            310.0   \n",
       "1                      54                            315.0   \n",
       "2                      49                            314.0   \n",
       "3                      52                            304.0   \n",
       "4                      49                            300.0   \n",
       "5                      30                            321.0   \n",
       "6                      42                            304.0   \n",
       "7                      90                            305.0   \n",
       "8                      71                            287.0   \n",
       "9                      56                            313.0   \n",
       "10                     29                            279.0   \n",
       "11                     55                            317.0   \n",
       "\n",
       "    SAT Math Avg. Score  SAT Writing Avg. Score  sat_score   Demographic  \\\n",
       "0                 324.0                   311.0      945.0  Total Cohort   \n",
       "1                 339.0                   297.0      951.0             0   \n",
       "2                 312.0                   339.0      965.0  Total Cohort   \n",
       "3                 356.0                   302.0      962.0  Total Cohort   \n",
       "4                 333.0                   301.0      934.0  Total Cohort   \n",
       "5                 351.0                   298.0      970.0             0   \n",
       "6                 323.0                   312.0      939.0  Total Cohort   \n",
       "7                 364.0                   312.0      981.0  Total Cohort   \n",
       "8                 335.0                   291.0      913.0  Total Cohort   \n",
       "9                 320.0                   330.0      963.0  Total Cohort   \n",
       "10                322.0                   286.0      887.0  Total Cohort   \n",
       "11                323.0                   311.0      951.0  Total Cohort   \n",
       "\n",
       "                              School Name     ...      \\\n",
       "0     INTERNATIONAL COMMUNITY HIGH SCHOOL     ...       \n",
       "1                                       0     ...       \n",
       "2         BRONX INTERNATIONAL HIGH SCHOOL     ...       \n",
       "3   KINGSBRIDGE INTERNATIONAL HIGH SCHOOL     ...       \n",
       "4   INTERNATIONAL SCHOOL FOR LIBERAL ARTS     ...       \n",
       "5                                       0     ...       \n",
       "6           HIGH SCHOOL OF WORLD CULTURES     ...       \n",
       "7      BROOKLYN INTERNATIONAL HIGH SCHOOL     ...       \n",
       "8   INTERNATIONAL HIGH SCHOOL AT PROSPECT     ...       \n",
       "9              IT TAKES A VILLAGE ACADEMY     ...       \n",
       "10              MULTICULTURAL HIGH SCHOOL     ...       \n",
       "11  PAN AMERICAN INTERNATIONAL HIGH SCHOO     ...       \n",
       "\n",
       "                                                                                   Location 1  \\\n",
       "0                 345 Brook Avenue\\nBronx, NY 10454\\n(40.810036192000496, -73.91781248199965)   \n",
       "1                 1700 Macombs Road\\nBronx, NY 10453\\n(40.84910216800046, -73.91608844099966)   \n",
       "2                   1110 Boston Road\\nBronx, NY 10456\\n(40.8276026690005, -73.90447525699966)   \n",
       "3             2780 Reservoir Avenue\\nBronx, NY 10468\\n(40.87037746700048, -73.89816295199967)   \n",
       "4             2780 Reservoir Avenue\\nBronx, NY 10468\\n(40.87037746700048, -73.89816295199967)   \n",
       "5               1300 Boynton Avenue\\nBronx, NY 10472\\n(40.83136649000045, -73.87882327699964)   \n",
       "6               1300 Boynton Avenue\\nBronx, NY 10472\\n(40.83136649000045, -73.87882327699964)   \n",
       "7   49 Flatbush Avenue Extension\\nBrooklyn, NY 11201\\n(40.69717472700046, -73.98495968899965)   \n",
       "8             883 Classon Avenue\\nBrooklyn, NY 11225\\n(40.67029890700047, -73.96164787599963)   \n",
       "9             5800 Tilden Avenue\\nBrooklyn, NY 11203\\n(40.64866366300049, -73.92189876199967)   \n",
       "10            999 Jamaica Avenue\\nBrooklyn, NY 11208\\n(40.69114396200047, -73.86842605699962)   \n",
       "11             45 10 94Th Street\\nElmhurst, NY 11373\\n(40.74330287300046, -73.87057497699965)   \n",
       "\n",
       "    Community Board Council District Census Tract        BIN           BBL  \\\n",
       "0               1.0              8.0         41.0  2000391.0  2.022860e+09   \n",
       "1               5.0             14.0      21502.0  2008460.0  2.028660e+09   \n",
       "2               3.0             16.0        135.0  2004526.0  2.026340e+09   \n",
       "3               7.0             11.0        409.0  2015241.0  2.032470e+09   \n",
       "4               7.0             11.0        409.0  2015241.0  2.032470e+09   \n",
       "5               9.0             18.0         56.0  2027459.0  2.038640e+09   \n",
       "6               9.0             18.0         56.0  2027459.0  2.038640e+09   \n",
       "7               2.0             33.0         15.0  3000216.0  3.001200e+09   \n",
       "8               9.0             35.0        213.0  3029686.0  3.011870e+09   \n",
       "9              17.0             45.0        936.0  3104598.0  3.047420e+09   \n",
       "10              5.0             37.0       1180.0  3090738.0  3.040940e+09   \n",
       "11              4.0             25.0        463.0  4437166.0  4.016000e+09   \n",
       "\n",
       "                                                                            NTA  \\\n",
       "0   Mott Haven-Port Morris                                                        \n",
       "1   University Heights-Morris Heights                                             \n",
       "2   Morrisania-Melrose                                                            \n",
       "3   Van Cortlandt Village                                                         \n",
       "4   Van Cortlandt Village                                                         \n",
       "5   West Farms-Bronx River                                                        \n",
       "6   West Farms-Bronx River                                                        \n",
       "7   DUMBO-Vinegar Hill-Downtown Brooklyn-Boerum Hill                              \n",
       "8   Crown Heights South                                                           \n",
       "9   Rugby-Remsen Village                                                          \n",
       "10  park-cemetery-etc-Brooklyn                                                    \n",
       "11  Elmhurst                                                                      \n",
       "\n",
       "          lat       long school_dist  \n",
       "0   40.810036 -73.917812          07  \n",
       "1   40.849102 -73.916088          09  \n",
       "2   40.827603 -73.904475          09  \n",
       "3   40.870377 -73.898163          10  \n",
       "4   40.870377 -73.898163          10  \n",
       "5   40.831366 -73.878823          12  \n",
       "6   40.831366 -73.878823          12  \n",
       "7   40.697175 -73.984960          13  \n",
       "8   40.670299 -73.961648          17  \n",
       "9   40.648664 -73.921899          18  \n",
       "10  40.691144 -73.868426          19  \n",
       "11  40.743303 -73.870575          24  \n",
       "\n",
       "[12 rows x 161 columns]"
      ]
     },
     "execution_count": 122,
     "metadata": {},
     "output_type": "execute_result"
    }
   ],
   "source": [
    "low_enrollment_cluster.reset_index()"
   ]
  },
  {
   "cell_type": "code",
   "execution_count": 123,
   "metadata": {},
   "outputs": [
    {
     "data": {
      "text/plain": [
       "93     90.1\n",
       "129    86.6\n",
       "130    87.1\n",
       "143    88.7\n",
       "145    79.9\n",
       "180    92.9\n",
       "183    86.4\n",
       "192    83.1\n",
       "230    91.0\n",
       "242    30.4\n",
       "258    94.6\n",
       "291    91.3\n",
       "Name: ell_percent, dtype: float64"
      ]
     },
     "execution_count": 123,
     "metadata": {},
     "output_type": "execute_result"
    }
   ],
   "source": [
    "low_enrollment_cluster[\"ell_percent\"]"
   ]
  },
  {
   "cell_type": "code",
   "execution_count": 124,
   "metadata": {},
   "outputs": [
    {
     "name": "stderr",
     "output_type": "stream",
     "text": [
      "'c' argument looks like a single numeric RGB or RGBA sequence, which should be avoided as value-mapping will have precedence in case its length matches with 'x' & 'y'.  Please use a 2-D array with a single row if you really want to specify the same RGB or RGBA value for all points.\n"
     ]
    },
    {
     "data": {
      "image/png": "[encoded data removed]",
      "text/plain": [
       "<Figure size 432x288 with 1 Axes>"
      ]
     },
     "metadata": {
      "needs_background": "light"
     },
     "output_type": "display_data"
    }
   ],
   "source": [
    "low_enrollment_cluster.plot.scatter(x=\"total_enrollment\", y=\"ell_percent\")\n",
    "plt.show()"
   ]
  },
  {
   "cell_type": "code",
   "execution_count": 125,
   "metadata": {},
   "outputs": [
    {
     "name": "stderr",
     "output_type": "stream",
     "text": [
      "'c' argument looks like a single numeric RGB or RGBA sequence, which should be avoided as value-mapping will have precedence in case its length matches with 'x' & 'y'.  Please use a 2-D array with a single row if you really want to specify the same RGB or RGBA value for all points.\n"
     ]
    },
    {
     "data": {
      "image/png": "[encoded data removed]",
      "text/plain": [
       "<Figure size 432x288 with 1 Axes>"
      ]
     },
     "metadata": {
      "needs_background": "light"
     },
     "output_type": "display_data"
    }
   ],
   "source": [
    "combined_clean.plot.scatter(y=\"sat_score\",x=\"ell_percent\")\n",
    "plt.show()"
   ]
  },
  {
   "cell_type": "markdown",
   "metadata": {},
   "source": [
    "Mapping the schools with Basemap"
   ]
  },
  {
   "cell_type": "code",
   "execution_count": 126,
   "metadata": {},
   "outputs": [
    {
     "name": "stdout",
     "output_type": "stream",
     "text": [
      "[30075.42917439067, 30126.958547058737, 30322.12601128407]\n",
      "[31887.35580058396, 31677.27042491082, 34237.57823754754]\n"
     ]
    }
   ],
   "source": [
    "# combined_clean.columns.values\n",
    "\n",
    "m = Basemap(\n",
    "    projection='merc', \n",
    "    llcrnrlat=40.496044, \n",
    "    urcrnrlat=40.915256, \n",
    "    llcrnrlon=-74.255735, \n",
    "    urcrnrlon=-73.700272,\n",
    "    resolution='i'\n",
    ")\n",
    "\n",
    "\n",
    "\n",
    "longitudes = combined_clean[\"long\"].tolist()\n",
    "latitudes = combined_clean[\"lat\"].tolist()\n",
    "\n",
    "x_base,y_base = m(longitudes, latitudes)\n",
    "\n",
    "print(x_base[0:3])\n",
    "print(y_base[0:3])\n"
   ]
  },
  {
   "cell_type": "code",
   "execution_count": 127,
   "metadata": {},
   "outputs": [
    {
     "data": {
      "image/png": "[encoded data removed]",
      "text/plain": [
       "<Figure size 720x504 with 1 Axes>"
      ]
     },
     "metadata": {},
     "output_type": "display_data"
    }
   ],
   "source": [
    "fig = plt.figure(figsize=(10, 7))\n",
    "fig.suptitle(\"Mapping New York highschools\", y=0.93)\n",
    "\n",
    "m.drawmapboundary(fill_color='#85A6D9')\n",
    "m.drawcoastlines(color='#6D5F47', linewidth=.4)\n",
    "m.drawrivers(color='#6D5F47', linewidth=.4)\n",
    "\n",
    "m.scatter(longitudes, latitudes, s=20, zorder=2, latlon=True)\n",
    "\n",
    "plt.show()"
   ]
  },
  {
   "cell_type": "markdown",
   "metadata": {
    "collapsed": true
   },
   "source": [
    "Displaying meaningful the percentage of English language learners by area."
   ]
  },
  {
   "cell_type": "code",
   "execution_count": 128,
   "metadata": {},
   "outputs": [
    {
     "data": {
      "image/png": "[encoded data removed]",
      "text/plain": [
       "<Figure size 720x504 with 1 Axes>"
      ]
     },
     "metadata": {},
     "output_type": "display_data"
    }
   ],
   "source": [
    "# combined_clean.columns.values\n",
    "fig_2 = plt.figure(figsize=(10, 7))\n",
    "fig_2.suptitle(\"Mapping New York highschools by English language learners\", y=0.93)\n",
    "m.drawmapboundary(fill_color='#85A6D9')\n",
    "m.drawcoastlines(color='#6D5F47', linewidth=.4)\n",
    "m.drawrivers(color='#6D5F47', linewidth=.4)\n",
    "m.scatter(longitudes, latitudes, s=20, zorder=2, latlon=True, c=combined_clean['ell_percent'], cmap=\"summer\")\n",
    "plt.show()"
   ]
  },
  {
   "cell_type": "markdown",
   "metadata": {},
   "source": [
    "Aggregating by district, which enables to plot ell_percent district-by-district instead of school-by-school."
   ]
  },
  {
   "cell_type": "code",
   "execution_count": 129,
   "metadata": {},
   "outputs": [
    {
     "name": "stdout",
     "output_type": "stream",
     "text": [
      "(32, 86)\n"
     ]
    },
    {
     "data": {
      "text/plain": [
       "0    10.000000\n",
       "1    12.536000\n",
       "2     9.025000\n",
       "3     4.557143\n",
       "4     4.157143\n",
       "5    30.040000\n",
       "Name: ell_percent, dtype: float64"
      ]
     },
     "execution_count": 129,
     "metadata": {},
     "output_type": "execute_result"
    }
   ],
   "source": [
    "district = combined_clean.groupby(\"school_dist\").agg(\"mean\")\n",
    "district.reset_index(inplace=True)\n",
    "print(district.shape)\n",
    "district.head(3)\n",
    "district.loc[0:5, 'ell_percent']"
   ]
  },
  {
   "cell_type": "code",
   "execution_count": 130,
   "metadata": {},
   "outputs": [
    {
     "data": {
      "text/plain": [
       "[-73.982377200666335, -73.991099417559681, -73.97737016149965]"
      ]
     },
     "execution_count": 130,
     "metadata": {},
     "output_type": "execute_result"
    }
   ],
   "source": [
    "# district.columns.values\n",
    "longitudes_avg_district = list(district[\"long\"])\n",
    "latitudes_avg_district = list(district[\"lat\"])\n",
    "longitudes_avg_district[0:3]"
   ]
  },
  {
   "cell_type": "code",
   "execution_count": 131,
   "metadata": {},
   "outputs": [
    {
     "data": {
      "image/png": "[encoded data removed]",
      "text/plain": [
       "<Figure size 720x504 with 1 Axes>"
      ]
     },
     "metadata": {},
     "output_type": "display_data"
    }
   ],
   "source": [
    "\n",
    "fig_3 = plt.figure(figsize=(10, 7))\n",
    "fig_3.suptitle(\"Mapping New York highschools by English language learners \\naveraged by district\", y=0.98)\n",
    "\n",
    "m.drawmapboundary(fill_color='#85A6D9')\n",
    "m.drawcoastlines(color='#6D5F47', linewidth=.4)\n",
    "m.drawrivers(color='#6D5F47', linewidth=.4)\n",
    "\n",
    "m.scatter(longitudes_avg_district, latitudes_avg_district, s=50, zorder=2, \n",
    "          latlon=True, c=district['ell_percent'], cmap=\"summer\")\n",
    "plt.show()"
   ]
  },
  {
   "cell_type": "markdown",
   "metadata": {},
   "source": [
    "Researching correlations between sat_score and survey variables of parents, teachers, \n",
    "and students (2011 NYC School Survey)"
   ]
  },
  {
   "cell_type": "code",
   "execution_count": 132,
   "metadata": {},
   "outputs": [
    {
     "data": {
      "text/plain": [
       "['rr_s',\n",
       " 'rr_t',\n",
       " 'rr_p',\n",
       " 'N_s',\n",
       " 'N_t',\n",
       " 'N_p',\n",
       " 'saf_p_11',\n",
       " 'com_p_11',\n",
       " 'eng_p_11',\n",
       " 'aca_p_11',\n",
       " 'saf_t_11',\n",
       " 'com_t_11',\n",
       " 'eng_t_11',\n",
       " 'aca_t_11',\n",
       " 'saf_s_11',\n",
       " 'com_s_11',\n",
       " 'eng_s_11',\n",
       " 'aca_s_11',\n",
       " 'saf_tot_11',\n",
       " 'com_tot_11',\n",
       " 'eng_tot_11',\n",
       " 'aca_tot_11']"
      ]
     },
     "execution_count": 132,
     "metadata": {},
     "output_type": "execute_result"
    }
   ],
   "source": [
    "# combined_clean.columns.values\n",
    "survey_variables = ['rr_s', 'rr_t', 'rr_p', 'N_s', 'N_t', 'N_p', 'saf_p_11', 'com_p_11', 'eng_p_11', \n",
    "                    'aca_p_11', 'saf_t_11', 'com_t_11', 'eng_t_11', 'aca_t_11', 'saf_s_11', 'com_s_11',\n",
    "                    'eng_s_11', 'aca_s_11', 'saf_tot_11', 'com_tot_11', 'eng_tot_11','aca_tot_11']\n",
    "\n",
    "survey_variables"
   ]
  },
  {
   "cell_type": "code",
   "execution_count": 133,
   "metadata": {},
   "outputs": [],
   "source": [
    "survey_variables.append('sat_score')"
   ]
  },
  {
   "cell_type": "code",
   "execution_count": 134,
   "metadata": {},
   "outputs": [
    {
     "data": {
      "text/html": [
       "<div>\n",
       "<style>\n",
       "    .dataframe thead tr:only-child th {\n",
       "        text-align: right;\n",
       "    }\n",
       "\n",
       "    .dataframe thead th {\n",
       "        text-align: left;\n",
       "    }\n",
       "\n",
       "    .dataframe tbody tr th {\n",
       "        vertical-align: top;\n",
       "    }\n",
       "</style>\n",
       "<table border=\"1\" class=\"dataframe\">\n",
       "  <thead>\n",
       "    <tr style=\"text-align: right;\">\n",
       "      <th></th>\n",
       "      <th>rr_s</th>\n",
       "      <th>rr_t</th>\n",
       "      <th>rr_p</th>\n",
       "      <th>N_s</th>\n",
       "      <th>N_t</th>\n",
       "      <th>N_p</th>\n",
       "      <th>saf_p_11</th>\n",
       "      <th>com_p_11</th>\n",
       "      <th>eng_p_11</th>\n",
       "      <th>aca_p_11</th>\n",
       "      <th>...</th>\n",
       "      <th>aca_t_11</th>\n",
       "      <th>saf_s_11</th>\n",
       "      <th>com_s_11</th>\n",
       "      <th>eng_s_11</th>\n",
       "      <th>aca_s_11</th>\n",
       "      <th>saf_tot_11</th>\n",
       "      <th>com_tot_11</th>\n",
       "      <th>eng_tot_11</th>\n",
       "      <th>aca_tot_11</th>\n",
       "      <th>sat_score</th>\n",
       "    </tr>\n",
       "  </thead>\n",
       "  <tbody>\n",
       "    <tr>\n",
       "      <th>0</th>\n",
       "      <td>89.0</td>\n",
       "      <td>70</td>\n",
       "      <td>39</td>\n",
       "      <td>379.000000</td>\n",
       "      <td>26.0</td>\n",
       "      <td>151.0</td>\n",
       "      <td>7.8</td>\n",
       "      <td>7.7</td>\n",
       "      <td>7.4</td>\n",
       "      <td>7.6</td>\n",
       "      <td>...</td>\n",
       "      <td>6.5</td>\n",
       "      <td>6.000000</td>\n",
       "      <td>5.6</td>\n",
       "      <td>6.100000</td>\n",
       "      <td>6.700000</td>\n",
       "      <td>6.7</td>\n",
       "      <td>6.2</td>\n",
       "      <td>6.6</td>\n",
       "      <td>7.0</td>\n",
       "      <td>1122.0</td>\n",
       "    </tr>\n",
       "    <tr>\n",
       "      <th>1</th>\n",
       "      <td>84.0</td>\n",
       "      <td>95</td>\n",
       "      <td>10</td>\n",
       "      <td>385.000000</td>\n",
       "      <td>37.0</td>\n",
       "      <td>46.0</td>\n",
       "      <td>7.9</td>\n",
       "      <td>7.4</td>\n",
       "      <td>7.2</td>\n",
       "      <td>7.3</td>\n",
       "      <td>...</td>\n",
       "      <td>7.3</td>\n",
       "      <td>6.000000</td>\n",
       "      <td>5.7</td>\n",
       "      <td>6.300000</td>\n",
       "      <td>7.000000</td>\n",
       "      <td>6.8</td>\n",
       "      <td>6.3</td>\n",
       "      <td>6.7</td>\n",
       "      <td>7.2</td>\n",
       "      <td>1172.0</td>\n",
       "    </tr>\n",
       "    <tr>\n",
       "      <th>2</th>\n",
       "      <td>0.0</td>\n",
       "      <td>98</td>\n",
       "      <td>28</td>\n",
       "      <td>594.682192</td>\n",
       "      <td>42.0</td>\n",
       "      <td>150.0</td>\n",
       "      <td>8.7</td>\n",
       "      <td>8.2</td>\n",
       "      <td>8.1</td>\n",
       "      <td>8.4</td>\n",
       "      <td>...</td>\n",
       "      <td>8.8</td>\n",
       "      <td>6.612055</td>\n",
       "      <td>6.1</td>\n",
       "      <td>6.624384</td>\n",
       "      <td>7.384384</td>\n",
       "      <td>7.9</td>\n",
       "      <td>7.9</td>\n",
       "      <td>7.9</td>\n",
       "      <td>8.4</td>\n",
       "      <td>1149.0</td>\n",
       "    </tr>\n",
       "    <tr>\n",
       "      <th>3</th>\n",
       "      <td>90.0</td>\n",
       "      <td>100</td>\n",
       "      <td>21</td>\n",
       "      <td>306.000000</td>\n",
       "      <td>29.0</td>\n",
       "      <td>69.0</td>\n",
       "      <td>7.7</td>\n",
       "      <td>7.4</td>\n",
       "      <td>7.2</td>\n",
       "      <td>7.3</td>\n",
       "      <td>...</td>\n",
       "      <td>6.8</td>\n",
       "      <td>6.400000</td>\n",
       "      <td>5.9</td>\n",
       "      <td>6.400000</td>\n",
       "      <td>7.000000</td>\n",
       "      <td>6.9</td>\n",
       "      <td>6.2</td>\n",
       "      <td>6.6</td>\n",
       "      <td>7.0</td>\n",
       "      <td>1207.0</td>\n",
       "    </tr>\n",
       "    <tr>\n",
       "      <th>4</th>\n",
       "      <td>98.0</td>\n",
       "      <td>68</td>\n",
       "      <td>51</td>\n",
       "      <td>923.000000</td>\n",
       "      <td>67.0</td>\n",
       "      <td>736.0</td>\n",
       "      <td>8.5</td>\n",
       "      <td>7.9</td>\n",
       "      <td>7.9</td>\n",
       "      <td>8.4</td>\n",
       "      <td>...</td>\n",
       "      <td>7.3</td>\n",
       "      <td>7.300000</td>\n",
       "      <td>6.4</td>\n",
       "      <td>7.000000</td>\n",
       "      <td>7.700000</td>\n",
       "      <td>7.8</td>\n",
       "      <td>6.7</td>\n",
       "      <td>6.9</td>\n",
       "      <td>7.8</td>\n",
       "      <td>1621.0</td>\n",
       "    </tr>\n",
       "  </tbody>\n",
       "</table>\n",
       "<p>5 rows × 23 columns</p>\n",
       "</div>"
      ],
      "text/plain": [
       "   rr_s  rr_t  rr_p         N_s   N_t    N_p  saf_p_11  com_p_11  eng_p_11  \\\n",
       "0  89.0    70    39  379.000000  26.0  151.0       7.8       7.7       7.4   \n",
       "1  84.0    95    10  385.000000  37.0   46.0       7.9       7.4       7.2   \n",
       "2   0.0    98    28  594.682192  42.0  150.0       8.7       8.2       8.1   \n",
       "3  90.0   100    21  306.000000  29.0   69.0       7.7       7.4       7.2   \n",
       "4  98.0    68    51  923.000000  67.0  736.0       8.5       7.9       7.9   \n",
       "\n",
       "   aca_p_11    ...      aca_t_11  saf_s_11  com_s_11  eng_s_11  aca_s_11  \\\n",
       "0       7.6    ...           6.5  6.000000       5.6  6.100000  6.700000   \n",
       "1       7.3    ...           7.3  6.000000       5.7  6.300000  7.000000   \n",
       "2       8.4    ...           8.8  6.612055       6.1  6.624384  7.384384   \n",
       "3       7.3    ...           6.8  6.400000       5.9  6.400000  7.000000   \n",
       "4       8.4    ...           7.3  7.300000       6.4  7.000000  7.700000   \n",
       "\n",
       "   saf_tot_11  com_tot_11  eng_tot_11  aca_tot_11  sat_score  \n",
       "0         6.7         6.2         6.6         7.0     1122.0  \n",
       "1         6.8         6.3         6.7         7.2     1172.0  \n",
       "2         7.9         7.9         7.9         8.4     1149.0  \n",
       "3         6.9         6.2         6.6         7.0     1207.0  \n",
       "4         7.8         6.7         6.9         7.8     1621.0  \n",
       "\n",
       "[5 rows x 23 columns]"
      ]
     },
     "execution_count": 134,
     "metadata": {},
     "output_type": "execute_result"
    }
   ],
   "source": [
    "# combined_clean.columns.values\n",
    "df_sat_survey = combined_clean[survey_variables]\n",
    "df_sat_survey.head()"
   ]
  },
  {
   "cell_type": "code",
   "execution_count": 135,
   "metadata": {},
   "outputs": [
    {
     "ename": "NameError",
     "evalue": "name 'df_sat_survey_corr_subset' is not defined",
     "output_type": "error",
     "traceback": [
      "\u001b[1;31m---------------------------------------------------------------------------\u001b[0m",
      "\u001b[1;31mNameError\u001b[0m                                 Traceback (most recent call last)",
      "\u001b[1;32m<ipython-input-135-87a5dfaa9158>\u001b[0m in \u001b[0;36m<module>\u001b[1;34m()\u001b[0m\n\u001b[0;32m      1\u001b[0m \u001b[0mdf_sat_survey_corr\u001b[0m \u001b[1;33m=\u001b[0m \u001b[0mdf_sat_survey\u001b[0m\u001b[1;33m.\u001b[0m\u001b[0mcorr\u001b[0m\u001b[1;33m(\u001b[0m\u001b[1;33m)\u001b[0m\u001b[1;33m\u001b[0m\u001b[1;33m\u001b[0m\u001b[0m\n\u001b[0;32m      2\u001b[0m \u001b[0mdf_sat_survey_corr_subset_1\u001b[0m \u001b[1;33m=\u001b[0m \u001b[0mdf_sat_survey_corr\u001b[0m\u001b[1;33m[\u001b[0m\u001b[1;34m\"sat_score\"\u001b[0m\u001b[1;33m]\u001b[0m\u001b[1;33m\u001b[0m\u001b[1;33m\u001b[0m\u001b[0m\n\u001b[1;32m----> 3\u001b[1;33m \u001b[0mdf_sat_survey_corr_subset_2\u001b[0m \u001b[1;33m=\u001b[0m \u001b[0mdf_sat_survey_corr_subset\u001b[0m\u001b[1;33m.\u001b[0m\u001b[0msort_values\u001b[0m\u001b[1;33m(\u001b[0m\u001b[0mascending\u001b[0m\u001b[1;33m=\u001b[0m\u001b[1;32mFalse\u001b[0m\u001b[1;33m)\u001b[0m\u001b[1;33m\u001b[0m\u001b[1;33m\u001b[0m\u001b[0m\n\u001b[0m\u001b[0;32m      4\u001b[0m \u001b[1;31m# print(df_sat_survey_corr_subset_2)\u001b[0m\u001b[1;33m\u001b[0m\u001b[1;33m\u001b[0m\u001b[1;33m\u001b[0m\u001b[0m\n\u001b[0;32m      5\u001b[0m \u001b[0mdf_sat_survey_corr_subset_3\u001b[0m \u001b[1;33m=\u001b[0m \u001b[0mdf_sat_survey_corr_subset_2\u001b[0m\u001b[1;33m[\u001b[0m\u001b[1;36m1\u001b[0m\u001b[1;33m:\u001b[0m\u001b[1;36m23\u001b[0m\u001b[1;33m]\u001b[0m\u001b[1;33m\u001b[0m\u001b[1;33m\u001b[0m\u001b[0m\n",
      "\u001b[1;31mNameError\u001b[0m: name 'df_sat_survey_corr_subset' is not defined"
     ]
    }
   ],
   "source": [
    "df_sat_survey_corr = df_sat_survey.corr()\n",
    "df_sat_survey_corr_subset_1 = df_sat_survey_corr[\"sat_score\"]\n",
    "df_sat_survey_corr_subset_2 = df_sat_survey_corr_subset.sort_values(ascending=False)\n",
    "# print(df_sat_survey_corr_subset_2)\n",
    "df_sat_survey_corr_subset_3 = df_sat_survey_corr_subset_2[1:23]\n",
    "df_sat_survey_corr_subset = df_sat_survey_corr_subset_3 \n",
    "print(df_sat_survey_corr_subset)"
   ]
  },
  {
   "cell_type": "code",
   "execution_count": null,
   "metadata": {},
   "outputs": [],
   "source": [
    "df_sat_survey_corr_subset.plot(kind=\"bar\", title=\"Correlations of survey variables with sat score\",\n",
    "                               figsize=(10,7))\n",
    "plt.show()"
   ]
  },
  {
   "cell_type": "markdown",
   "metadata": {},
   "source": [
    "N_s, Number of student respondents is first, followed by N_p, Number of parent respondents. These correlations \n",
    "are pointing not immediately to a theoretical valuable relationship. Maybe the number of respondents point out to\n",
    "a higher committment. However aca_p_1, Academic expectations score based on parent responses and \n",
    "saf_t_10, Safety and Respect score based on teacher responses, can point that parent committment and safety / respect correlates positively wit successful sat scores.\n",
    "\n",
    "\n",
    "\n"
   ]
  },
  {
   "cell_type": "markdown",
   "metadata": {},
   "source": [
    "Investigate gender differences in SAT scores."
   ]
  },
  {
   "cell_type": "code",
   "execution_count": null,
   "metadata": {},
   "outputs": [],
   "source": [
    "df_gender = combined_clean.loc[0:5,[\"sat_score\", \"male_per\", \"female_per\"]]\n",
    "df_gender.head()"
   ]
  },
  {
   "cell_type": "code",
   "execution_count": null,
   "metadata": {},
   "outputs": [],
   "source": [
    "df_gender_corr = df_gender.corr()\n",
    "df_gender_corr_sat = df_gender_corr.iloc[1:3,0]\n",
    "df_gender_corr_sat"
   ]
  },
  {
   "cell_type": "markdown",
   "metadata": {},
   "source": [
    "Making a bar plot of the correlations between the columns above and sat_score"
   ]
  },
  {
   "cell_type": "code",
   "execution_count": null,
   "metadata": {},
   "outputs": [],
   "source": [
    "df_gender_corr_sat.plot(kind=\"bar\", title=\"Correlations between gender and sat scores\")\n",
    "plt.show()"
   ]
  },
  {
   "cell_type": "markdown",
   "metadata": {},
   "source": [
    "There is strong correlations between gender and sat scores. For men it is negative and for female positve. \n",
    "It is diametrically opposed."
   ]
  },
  {
   "cell_type": "code",
   "execution_count": null,
   "metadata": {},
   "outputs": [],
   "source": [
    "fig, axes = plt.subplots(nrows=1, ncols=2)\n",
    "combined_clean.plot(\"male_per\", \"sat_score\",ax=axes[0], kind=\"scatter\", figsize=(13,7))\n",
    "combined_clean.plot(\"female_per\", \"sat_score\", ax=axes[1], kind=\"scatter\", figsize=(13,7))\n",
    "plt.show()"
   ]
  },
  {
   "cell_type": "code",
   "execution_count": null,
   "metadata": {},
   "outputs": [],
   "source": [
    "fig, axes = plt.subplots(1, 2)\n",
    "fig.set_size_inches(18.5, 10.5)\n",
    "sns.regplot(\"male_per\", \"sat_score\",data=combined_clean, fit_reg=True, ax=axes[0])\n",
    "sns.regplot(\"female_per\", \"sat_score\",data=combined_clean, fit_reg=True, ax=axes[1])\n",
    "\n",
    "plt.show()"
   ]
  },
  {
   "cell_type": "markdown",
   "metadata": {},
   "source": [
    "Both plot do not confirm the relationships by the correlation coefficients. \n",
    "Both plot look similar in the cluster areas between 40 and 60. \n"
   ]
  },
  {
   "cell_type": "markdown",
   "metadata": {},
   "source": [
    "Exploring correlation of AP exams with SAT scores. The Ap taker percentage is calculated to avoid interaction\n",
    "effects as total enrollment is also related to SAT scores."
   ]
  },
  {
   "cell_type": "code",
   "execution_count": null,
   "metadata": {},
   "outputs": [],
   "source": [
    "combined_clean[\"ap_per\"] = combined_clean[\"AP Test Takers\"] / combined_clean[\"total_enrollment\"]"
   ]
  },
  {
   "cell_type": "code",
   "execution_count": null,
   "metadata": {},
   "outputs": [],
   "source": [
    "correlation_coefficient_54 = combined_clean[\"ap_per\"].corr(combined_clean[\"sat_score\"])\n",
    "correlation_coefficient_54 "
   ]
  },
  {
   "cell_type": "markdown",
   "metadata": {},
   "source": [
    "The correlation coefficient is around 0. This indicates the lack of a relationship."
   ]
  },
  {
   "cell_type": "code",
   "execution_count": null,
   "metadata": {},
   "outputs": [],
   "source": [
    "combined_clean.plot(\"ap_per\", \"total_enrollment\", kind=\"scatter\")\n",
    "plt.show()"
   ]
  },
  {
   "cell_type": "markdown",
   "metadata": {},
   "source": [
    "The image confirms this as it difficult to draw a regression line with satisfying SSR."
   ]
  },
  {
   "cell_type": "code",
   "execution_count": null,
   "metadata": {},
   "outputs": [],
   "source": []
  },
  {
   "cell_type": "code",
   "execution_count": null,
   "metadata": {},
   "outputs": [],
   "source": []
  }
 ],
 "metadata": {
  "kernelspec": {
   "display_name": "Python 3",
   "language": "python",
   "name": "python3"
  },
  "language_info": {
   "codemirror_mode": {
    "name": "ipython",
    "version": 3
   },
   "file_extension": ".py",
   "mimetype": "text/x-python",
   "name": "python",
   "nbconvert_exporter": "python",
   "pygments_lexer": "ipython3",
   "version": "3.6.8"
  }
 },
 "nbformat": 4,
 "nbformat_minor": 2
}
